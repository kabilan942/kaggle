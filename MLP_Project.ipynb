{
  "nbformat": 4,
  "nbformat_minor": 0,
  "metadata": {
    "colab": {
      "provenance": [],
      "authorship_tag": "ABX9TyOqO3WHmkb25uCjPeqMrCQK",
      "include_colab_link": true
    },
    "kernelspec": {
      "name": "python3",
      "display_name": "Python 3"
    },
    "language_info": {
      "name": "python"
    }
  },
  "cells": [
    {
      "cell_type": "markdown",
      "metadata": {
        "id": "view-in-github",
        "colab_type": "text"
      },
      "source": [
        "<a href=\"https://colab.research.google.com/github/kabilan942/kaggle/blob/main/MLP_Project.ipynb\" target=\"_parent\"><img src=\"https://colab.research.google.com/assets/colab-badge.svg\" alt=\"Open In Colab\"/></a>"
      ]
    },
    {
      "cell_type": "code",
      "execution_count": 1,
      "metadata": {
        "id": "DdcG8odqIEql"
      },
      "outputs": [],
      "source": [
        "import pandas as pd"
      ]
    },
    {
      "cell_type": "markdown",
      "source": [
        "## Data Loading and Exploration"
      ],
      "metadata": {
        "id": "lwGqLPvViT2v"
      }
    },
    {
      "cell_type": "code",
      "source": [
        "train_data = pd.read_csv('train_data.csv')\n",
        "test_data = pd.read_csv('test_data.csv')"
      ],
      "metadata": {
        "id": "NPPqPYbHKDvM"
      },
      "execution_count": 2,
      "outputs": []
    },
    {
      "cell_type": "code",
      "source": [
        "print('Shape of Train data:', train_data.shape)\n",
        "print('Shape of Test data:', test_data.shape)"
      ],
      "metadata": {
        "colab": {
          "base_uri": "https://localhost:8080/"
        },
        "id": "cuUlKtz4zFCq",
        "outputId": "cc9c07f5-93d8-4215-bea0-18a4a295e3e8"
      },
      "execution_count": 3,
      "outputs": [
        {
          "output_type": "stream",
          "name": "stdout",
          "text": [
            "Shape of Train data: (12379, 31)\n",
            "Shape of Test data: (5305, 30)\n"
          ]
        }
      ]
    },
    {
      "cell_type": "code",
      "source": [
        "train_data.info()"
      ],
      "metadata": {
        "colab": {
          "base_uri": "https://localhost:8080/"
        },
        "id": "IXMV0eoHzMsc",
        "outputId": "385d4bb9-4358-43ac-9fa9-c85b0f451914"
      },
      "execution_count": 4,
      "outputs": [
        {
          "output_type": "stream",
          "name": "stdout",
          "text": [
            "<class 'pandas.core.frame.DataFrame'>\n",
            "RangeIndex: 12379 entries, 0 to 12378\n",
            "Data columns (total 31 columns):\n",
            " #   Column                                Non-Null Count  Dtype \n",
            "---  ------                                --------------  ----- \n",
            " 0   offer expiration                      12379 non-null  object\n",
            " 1   income_range                          12379 non-null  object\n",
            " 2   no_visited_Cold drinks                12181 non-null  object\n",
            " 3   travelled_more_than_15mins_for_offer  12379 non-null  int64 \n",
            " 4   Restaur_spend_less_than20             12258 non-null  object\n",
            " 5   Marital Status                        12379 non-null  object\n",
            " 6   restaurant type                       12379 non-null  object\n",
            " 7   age                                   12379 non-null  object\n",
            " 8   Prefer western over chinese           12379 non-null  int64 \n",
            " 9   travelled_more_than_25mins_for_offer  12379 non-null  int64 \n",
            " 10  travelled_more_than_5mins_for_offer   12379 non-null  int64 \n",
            " 11  no_visited_bars                       12286 non-null  object\n",
            " 12  gender                                12379 non-null  object\n",
            " 13  car                                   111 non-null    object\n",
            " 14  restuarant_same_direction_house       12379 non-null  int64 \n",
            " 15  Cooks regularly                       12379 non-null  int64 \n",
            " 16  Customer type                         12379 non-null  object\n",
            " 17  Qualification                         12379 non-null  object\n",
            " 18  is foodie                             12379 non-null  int64 \n",
            " 19  no_Take-aways                         12235 non-null  object\n",
            " 20  Job/Job Industry                      12379 non-null  object\n",
            " 21  restuarant_opposite_direction_house   12379 non-null  int64 \n",
            " 22  has Children                          12379 non-null  int64 \n",
            " 23  visit restaurant with rating (avg)    12379 non-null  int64 \n",
            " 24  temperature                           12379 non-null  int64 \n",
            " 25  Restaur_spend_greater_than20          12219 non-null  object\n",
            " 26  Travel Time                           12379 non-null  int64 \n",
            " 27  Climate                               12379 non-null  object\n",
            " 28  drop location                         12379 non-null  object\n",
            " 29  Prefer home food                      12379 non-null  int64 \n",
            " 30  Offer Accepted                        12379 non-null  object\n",
            "dtypes: int64(13), object(18)\n",
            "memory usage: 2.9+ MB\n"
          ]
        }
      ]
    },
    {
      "cell_type": "code",
      "source": [
        "test_data.info()"
      ],
      "metadata": {
        "colab": {
          "base_uri": "https://localhost:8080/"
        },
        "id": "jlBigc_HzUcC",
        "outputId": "1d25ec4e-2ef5-442b-e066-b3292d098931"
      },
      "execution_count": 5,
      "outputs": [
        {
          "output_type": "stream",
          "name": "stdout",
          "text": [
            "<class 'pandas.core.frame.DataFrame'>\n",
            "RangeIndex: 5305 entries, 0 to 5304\n",
            "Data columns (total 30 columns):\n",
            " #   Column                                Non-Null Count  Dtype \n",
            "---  ------                                --------------  ----- \n",
            " 0   offer expiration                      5305 non-null   object\n",
            " 1   income_range                          5305 non-null   object\n",
            " 2   no_visited_Cold drinks                5215 non-null   object\n",
            " 3   travelled_more_than_15mins_for_offer  5305 non-null   int64 \n",
            " 4   Restaur_spend_less_than20             5244 non-null   object\n",
            " 5   Marital Status                        5305 non-null   object\n",
            " 6   restaurant type                       5305 non-null   object\n",
            " 7   age                                   5305 non-null   object\n",
            " 8   Prefer western over chinese           5305 non-null   int64 \n",
            " 9   travelled_more_than_25mins_for_offer  5305 non-null   int64 \n",
            " 10  travelled_more_than_5mins_for_offer   5305 non-null   int64 \n",
            " 11  no_visited_bars                       5255 non-null   object\n",
            " 12  gender                                5305 non-null   object\n",
            " 13  car                                   43 non-null     object\n",
            " 14  restuarant_same_direction_house       5305 non-null   int64 \n",
            " 15  Cooks regularly                       5305 non-null   int64 \n",
            " 16  Customer type                         5305 non-null   object\n",
            " 17  Qualification                         5305 non-null   object\n",
            " 18  is foodie                             5305 non-null   int64 \n",
            " 19  no_Take-aways                         5245 non-null   object\n",
            " 20  Job/Job Industry                      5305 non-null   object\n",
            " 21  restuarant_opposite_direction_house   5305 non-null   int64 \n",
            " 22  has Children                          5305 non-null   int64 \n",
            " 23  visit restaurant with rating (avg)    5305 non-null   int64 \n",
            " 24  temperature                           5305 non-null   int64 \n",
            " 25  Restaur_spend_greater_than20          5201 non-null   object\n",
            " 26  Travel Time                           5305 non-null   int64 \n",
            " 27  Climate                               5305 non-null   object\n",
            " 28  drop location                         5305 non-null   object\n",
            " 29  Prefer home food                      5305 non-null   int64 \n",
            "dtypes: int64(13), object(17)\n",
            "memory usage: 1.2+ MB\n"
          ]
        }
      ]
    },
    {
      "cell_type": "code",
      "source": [
        "data = pd.concat([train_data, test_data], ignore_index=True)"
      ],
      "metadata": {
        "id": "GeEyjlRgzXvl"
      },
      "execution_count": 6,
      "outputs": []
    },
    {
      "cell_type": "code",
      "source": [
        "data.shape"
      ],
      "metadata": {
        "colab": {
          "base_uri": "https://localhost:8080/"
        },
        "id": "HPrn-7Jl2Ndh",
        "outputId": "b129020e-b08e-474b-c296-96642832f1f7"
      },
      "execution_count": 7,
      "outputs": [
        {
          "output_type": "execute_result",
          "data": {
            "text/plain": [
              "(17684, 31)"
            ]
          },
          "metadata": {},
          "execution_count": 7
        }
      ]
    },
    {
      "cell_type": "code",
      "source": [
        "data.head()"
      ],
      "metadata": {
        "colab": {
          "base_uri": "https://localhost:8080/",
          "height": 456
        },
        "id": "yD3WVjMT2SXB",
        "outputId": "2ee34547-21eb-4e0f-efc3-90129ef7bf87"
      },
      "execution_count": 8,
      "outputs": [
        {
          "output_type": "execute_result",
          "data": {
            "text/plain": [
              "  offer expiration     income_range no_visited_Cold drinks  \\\n",
              "0            2days  ₹100000 or More                    4~8   \n",
              "1            2days  ₹87500 - ₹99999                    4~8   \n",
              "2            2days  ₹87500 - ₹99999                  less1   \n",
              "3          10hours  ₹37500 - ₹49999                  less1   \n",
              "4            2days  ₹100000 or More                  never   \n",
              "\n",
              "   travelled_more_than_15mins_for_offer Restaur_spend_less_than20  \\\n",
              "0                                     1                     less1   \n",
              "1                                     0                       4~8   \n",
              "2                                     1                       1~3   \n",
              "3                                     0                       1~3   \n",
              "4                                     1                       1~3   \n",
              "\n",
              "    Marital Status       restaurant type     age  Prefer western over chinese  \\\n",
              "0  Married partner     4 star restaurant      36                            0   \n",
              "1  Married partner  Take-away restaurant  50plus                            0   \n",
              "2           Single           Cold drinks      26                            1   \n",
              "3           Single  Take-away restaurant      46                            1   \n",
              "4           Single     4 star restaurant      21                            0   \n",
              "\n",
              "   travelled_more_than_25mins_for_offer  ...  \\\n",
              "0                                     0  ...   \n",
              "1                                     0  ...   \n",
              "2                                     0  ...   \n",
              "3                                     0  ...   \n",
              "4                                     1  ...   \n",
              "\n",
              "   restuarant_opposite_direction_house has Children  \\\n",
              "0                                    0            0   \n",
              "1                                    0            1   \n",
              "2                                    1            1   \n",
              "3                                    0            1   \n",
              "4                                    1            0   \n",
              "\n",
              "  visit restaurant with rating (avg) temperature  \\\n",
              "0                                  4          67   \n",
              "1                                  3          89   \n",
              "2                                  4          67   \n",
              "3                                  3          89   \n",
              "4                                  3          40   \n",
              "\n",
              "   Restaur_spend_greater_than20  Travel Time Climate drop location  \\\n",
              "0                         less1           22  Spring    Location B   \n",
              "1                           1~3           18  Summer    Location B   \n",
              "2                         less1            7  Winter    Location A   \n",
              "3                           1~3            7  Summer    Location C   \n",
              "4                         less1            7  Summer    Location C   \n",
              "\n",
              "   Prefer home food Offer Accepted  \n",
              "0                 0             No  \n",
              "1                 0            Yes  \n",
              "2                 1            Yes  \n",
              "3                 0             No  \n",
              "4                 0             No  \n",
              "\n",
              "[5 rows x 31 columns]"
            ],
            "text/html": [
              "\n",
              "  <div id=\"df-de50eceb-531c-4ccc-94ad-6f0459705c8d\">\n",
              "    <div class=\"colab-df-container\">\n",
              "      <div>\n",
              "<style scoped>\n",
              "    .dataframe tbody tr th:only-of-type {\n",
              "        vertical-align: middle;\n",
              "    }\n",
              "\n",
              "    .dataframe tbody tr th {\n",
              "        vertical-align: top;\n",
              "    }\n",
              "\n",
              "    .dataframe thead th {\n",
              "        text-align: right;\n",
              "    }\n",
              "</style>\n",
              "<table border=\"1\" class=\"dataframe\">\n",
              "  <thead>\n",
              "    <tr style=\"text-align: right;\">\n",
              "      <th></th>\n",
              "      <th>offer expiration</th>\n",
              "      <th>income_range</th>\n",
              "      <th>no_visited_Cold drinks</th>\n",
              "      <th>travelled_more_than_15mins_for_offer</th>\n",
              "      <th>Restaur_spend_less_than20</th>\n",
              "      <th>Marital Status</th>\n",
              "      <th>restaurant type</th>\n",
              "      <th>age</th>\n",
              "      <th>Prefer western over chinese</th>\n",
              "      <th>travelled_more_than_25mins_for_offer</th>\n",
              "      <th>...</th>\n",
              "      <th>restuarant_opposite_direction_house</th>\n",
              "      <th>has Children</th>\n",
              "      <th>visit restaurant with rating (avg)</th>\n",
              "      <th>temperature</th>\n",
              "      <th>Restaur_spend_greater_than20</th>\n",
              "      <th>Travel Time</th>\n",
              "      <th>Climate</th>\n",
              "      <th>drop location</th>\n",
              "      <th>Prefer home food</th>\n",
              "      <th>Offer Accepted</th>\n",
              "    </tr>\n",
              "  </thead>\n",
              "  <tbody>\n",
              "    <tr>\n",
              "      <th>0</th>\n",
              "      <td>2days</td>\n",
              "      <td>₹100000 or More</td>\n",
              "      <td>4~8</td>\n",
              "      <td>1</td>\n",
              "      <td>less1</td>\n",
              "      <td>Married partner</td>\n",
              "      <td>4 star restaurant</td>\n",
              "      <td>36</td>\n",
              "      <td>0</td>\n",
              "      <td>0</td>\n",
              "      <td>...</td>\n",
              "      <td>0</td>\n",
              "      <td>0</td>\n",
              "      <td>4</td>\n",
              "      <td>67</td>\n",
              "      <td>less1</td>\n",
              "      <td>22</td>\n",
              "      <td>Spring</td>\n",
              "      <td>Location B</td>\n",
              "      <td>0</td>\n",
              "      <td>No</td>\n",
              "    </tr>\n",
              "    <tr>\n",
              "      <th>1</th>\n",
              "      <td>2days</td>\n",
              "      <td>₹87500 - ₹99999</td>\n",
              "      <td>4~8</td>\n",
              "      <td>0</td>\n",
              "      <td>4~8</td>\n",
              "      <td>Married partner</td>\n",
              "      <td>Take-away restaurant</td>\n",
              "      <td>50plus</td>\n",
              "      <td>0</td>\n",
              "      <td>0</td>\n",
              "      <td>...</td>\n",
              "      <td>0</td>\n",
              "      <td>1</td>\n",
              "      <td>3</td>\n",
              "      <td>89</td>\n",
              "      <td>1~3</td>\n",
              "      <td>18</td>\n",
              "      <td>Summer</td>\n",
              "      <td>Location B</td>\n",
              "      <td>0</td>\n",
              "      <td>Yes</td>\n",
              "    </tr>\n",
              "    <tr>\n",
              "      <th>2</th>\n",
              "      <td>2days</td>\n",
              "      <td>₹87500 - ₹99999</td>\n",
              "      <td>less1</td>\n",
              "      <td>1</td>\n",
              "      <td>1~3</td>\n",
              "      <td>Single</td>\n",
              "      <td>Cold drinks</td>\n",
              "      <td>26</td>\n",
              "      <td>1</td>\n",
              "      <td>0</td>\n",
              "      <td>...</td>\n",
              "      <td>1</td>\n",
              "      <td>1</td>\n",
              "      <td>4</td>\n",
              "      <td>67</td>\n",
              "      <td>less1</td>\n",
              "      <td>7</td>\n",
              "      <td>Winter</td>\n",
              "      <td>Location A</td>\n",
              "      <td>1</td>\n",
              "      <td>Yes</td>\n",
              "    </tr>\n",
              "    <tr>\n",
              "      <th>3</th>\n",
              "      <td>10hours</td>\n",
              "      <td>₹37500 - ₹49999</td>\n",
              "      <td>less1</td>\n",
              "      <td>0</td>\n",
              "      <td>1~3</td>\n",
              "      <td>Single</td>\n",
              "      <td>Take-away restaurant</td>\n",
              "      <td>46</td>\n",
              "      <td>1</td>\n",
              "      <td>0</td>\n",
              "      <td>...</td>\n",
              "      <td>0</td>\n",
              "      <td>1</td>\n",
              "      <td>3</td>\n",
              "      <td>89</td>\n",
              "      <td>1~3</td>\n",
              "      <td>7</td>\n",
              "      <td>Summer</td>\n",
              "      <td>Location C</td>\n",
              "      <td>0</td>\n",
              "      <td>No</td>\n",
              "    </tr>\n",
              "    <tr>\n",
              "      <th>4</th>\n",
              "      <td>2days</td>\n",
              "      <td>₹100000 or More</td>\n",
              "      <td>never</td>\n",
              "      <td>1</td>\n",
              "      <td>1~3</td>\n",
              "      <td>Single</td>\n",
              "      <td>4 star restaurant</td>\n",
              "      <td>21</td>\n",
              "      <td>0</td>\n",
              "      <td>1</td>\n",
              "      <td>...</td>\n",
              "      <td>1</td>\n",
              "      <td>0</td>\n",
              "      <td>3</td>\n",
              "      <td>40</td>\n",
              "      <td>less1</td>\n",
              "      <td>7</td>\n",
              "      <td>Summer</td>\n",
              "      <td>Location C</td>\n",
              "      <td>0</td>\n",
              "      <td>No</td>\n",
              "    </tr>\n",
              "  </tbody>\n",
              "</table>\n",
              "<p>5 rows × 31 columns</p>\n",
              "</div>\n",
              "      <button class=\"colab-df-convert\" onclick=\"convertToInteractive('df-de50eceb-531c-4ccc-94ad-6f0459705c8d')\"\n",
              "              title=\"Convert this dataframe to an interactive table.\"\n",
              "              style=\"display:none;\">\n",
              "        \n",
              "  <svg xmlns=\"http://www.w3.org/2000/svg\" height=\"24px\"viewBox=\"0 0 24 24\"\n",
              "       width=\"24px\">\n",
              "    <path d=\"M0 0h24v24H0V0z\" fill=\"none\"/>\n",
              "    <path d=\"M18.56 5.44l.94 2.06.94-2.06 2.06-.94-2.06-.94-.94-2.06-.94 2.06-2.06.94zm-11 1L8.5 8.5l.94-2.06 2.06-.94-2.06-.94L8.5 2.5l-.94 2.06-2.06.94zm10 10l.94 2.06.94-2.06 2.06-.94-2.06-.94-.94-2.06-.94 2.06-2.06.94z\"/><path d=\"M17.41 7.96l-1.37-1.37c-.4-.4-.92-.59-1.43-.59-.52 0-1.04.2-1.43.59L10.3 9.45l-7.72 7.72c-.78.78-.78 2.05 0 2.83L4 21.41c.39.39.9.59 1.41.59.51 0 1.02-.2 1.41-.59l7.78-7.78 2.81-2.81c.8-.78.8-2.07 0-2.86zM5.41 20L4 18.59l7.72-7.72 1.47 1.35L5.41 20z\"/>\n",
              "  </svg>\n",
              "      </button>\n",
              "      \n",
              "  <style>\n",
              "    .colab-df-container {\n",
              "      display:flex;\n",
              "      flex-wrap:wrap;\n",
              "      gap: 12px;\n",
              "    }\n",
              "\n",
              "    .colab-df-convert {\n",
              "      background-color: #E8F0FE;\n",
              "      border: none;\n",
              "      border-radius: 50%;\n",
              "      cursor: pointer;\n",
              "      display: none;\n",
              "      fill: #1967D2;\n",
              "      height: 32px;\n",
              "      padding: 0 0 0 0;\n",
              "      width: 32px;\n",
              "    }\n",
              "\n",
              "    .colab-df-convert:hover {\n",
              "      background-color: #E2EBFA;\n",
              "      box-shadow: 0px 1px 2px rgba(60, 64, 67, 0.3), 0px 1px 3px 1px rgba(60, 64, 67, 0.15);\n",
              "      fill: #174EA6;\n",
              "    }\n",
              "\n",
              "    [theme=dark] .colab-df-convert {\n",
              "      background-color: #3B4455;\n",
              "      fill: #D2E3FC;\n",
              "    }\n",
              "\n",
              "    [theme=dark] .colab-df-convert:hover {\n",
              "      background-color: #434B5C;\n",
              "      box-shadow: 0px 1px 3px 1px rgba(0, 0, 0, 0.15);\n",
              "      filter: drop-shadow(0px 1px 2px rgba(0, 0, 0, 0.3));\n",
              "      fill: #FFFFFF;\n",
              "    }\n",
              "  </style>\n",
              "\n",
              "      <script>\n",
              "        const buttonEl =\n",
              "          document.querySelector('#df-de50eceb-531c-4ccc-94ad-6f0459705c8d button.colab-df-convert');\n",
              "        buttonEl.style.display =\n",
              "          google.colab.kernel.accessAllowed ? 'block' : 'none';\n",
              "\n",
              "        async function convertToInteractive(key) {\n",
              "          const element = document.querySelector('#df-de50eceb-531c-4ccc-94ad-6f0459705c8d');\n",
              "          const dataTable =\n",
              "            await google.colab.kernel.invokeFunction('convertToInteractive',\n",
              "                                                     [key], {});\n",
              "          if (!dataTable) return;\n",
              "\n",
              "          const docLinkHtml = 'Like what you see? Visit the ' +\n",
              "            '<a target=\"_blank\" href=https://colab.research.google.com/notebooks/data_table.ipynb>data table notebook</a>'\n",
              "            + ' to learn more about interactive tables.';\n",
              "          element.innerHTML = '';\n",
              "          dataTable['output_type'] = 'display_data';\n",
              "          await google.colab.output.renderOutput(dataTable, element);\n",
              "          const docLink = document.createElement('div');\n",
              "          docLink.innerHTML = docLinkHtml;\n",
              "          element.appendChild(docLink);\n",
              "        }\n",
              "      </script>\n",
              "    </div>\n",
              "  </div>\n",
              "  "
            ]
          },
          "metadata": {},
          "execution_count": 8
        }
      ]
    },
    {
      "cell_type": "code",
      "source": [
        "data.tail()"
      ],
      "metadata": {
        "colab": {
          "base_uri": "https://localhost:8080/",
          "height": 456
        },
        "id": "Mq6wovQl25Ex",
        "outputId": "7c7612af-ca17-40a0-98fa-ee4db5544195"
      },
      "execution_count": 9,
      "outputs": [
        {
          "output_type": "execute_result",
          "data": {
            "text/plain": [
              "      offer expiration     income_range no_visited_Cold drinks  \\\n",
              "17679            2days  ₹25000 - ₹37499                  less1   \n",
              "17680          10hours  ₹62500 - ₹74999                    1~3   \n",
              "17681          10hours  ₹50000 - ₹62499                    gt8   \n",
              "17682            2days  ₹50000 - ₹62499                    1~3   \n",
              "17683            2days  ₹37500 - ₹49999                  less1   \n",
              "\n",
              "       travelled_more_than_15mins_for_offer Restaur_spend_less_than20  \\\n",
              "17679                                     0                     less1   \n",
              "17680                                     0                       4~8   \n",
              "17681                                     1                       4~8   \n",
              "17682                                     1                       1~3   \n",
              "17683                                     0                       1~3   \n",
              "\n",
              "          Marital Status      restaurant type     age  \\\n",
              "17679  Unmarried partner    4 star restaurant      26   \n",
              "17680    Married partner    2 star restaurant      26   \n",
              "17681    Married partner          Cold drinks      36   \n",
              "17682    Married partner  Restaurant with pub      36   \n",
              "17683    Married partner    4 star restaurant  50plus   \n",
              "\n",
              "       Prefer western over chinese  travelled_more_than_25mins_for_offer  ...  \\\n",
              "17679                            0                                     0  ...   \n",
              "17680                            0                                     0  ...   \n",
              "17681                            0                                     0  ...   \n",
              "17682                            1                                     0  ...   \n",
              "17683                            1                                     0  ...   \n",
              "\n",
              "       restuarant_opposite_direction_house has Children  \\\n",
              "17679                                    0            0   \n",
              "17680                                    0            0   \n",
              "17681                                    1            1   \n",
              "17682                                    1            1   \n",
              "17683                                    1            1   \n",
              "\n",
              "      visit restaurant with rating (avg) temperature  \\\n",
              "17679                                  1          67   \n",
              "17680                                  3          89   \n",
              "17681                                  2          67   \n",
              "17682                                  3          89   \n",
              "17683                                  4          89   \n",
              "\n",
              "       Restaur_spend_greater_than20  Travel Time Climate drop location  \\\n",
              "17679                           1~3           18  Summer    Location B   \n",
              "17680                           1~3           18  Summer    Location B   \n",
              "17681                           1~3            7  Summer    Location C   \n",
              "17682                           1~3            7  Summer    Location A   \n",
              "17683                           1~3            7  Winter    Location A   \n",
              "\n",
              "       Prefer home food Offer Accepted  \n",
              "17679                 0            NaN  \n",
              "17680                 1            NaN  \n",
              "17681                 1            NaN  \n",
              "17682                 0            NaN  \n",
              "17683                 0            NaN  \n",
              "\n",
              "[5 rows x 31 columns]"
            ],
            "text/html": [
              "\n",
              "  <div id=\"df-033da9bf-c5ef-45ca-8a85-a8aa8f1f1d7b\">\n",
              "    <div class=\"colab-df-container\">\n",
              "      <div>\n",
              "<style scoped>\n",
              "    .dataframe tbody tr th:only-of-type {\n",
              "        vertical-align: middle;\n",
              "    }\n",
              "\n",
              "    .dataframe tbody tr th {\n",
              "        vertical-align: top;\n",
              "    }\n",
              "\n",
              "    .dataframe thead th {\n",
              "        text-align: right;\n",
              "    }\n",
              "</style>\n",
              "<table border=\"1\" class=\"dataframe\">\n",
              "  <thead>\n",
              "    <tr style=\"text-align: right;\">\n",
              "      <th></th>\n",
              "      <th>offer expiration</th>\n",
              "      <th>income_range</th>\n",
              "      <th>no_visited_Cold drinks</th>\n",
              "      <th>travelled_more_than_15mins_for_offer</th>\n",
              "      <th>Restaur_spend_less_than20</th>\n",
              "      <th>Marital Status</th>\n",
              "      <th>restaurant type</th>\n",
              "      <th>age</th>\n",
              "      <th>Prefer western over chinese</th>\n",
              "      <th>travelled_more_than_25mins_for_offer</th>\n",
              "      <th>...</th>\n",
              "      <th>restuarant_opposite_direction_house</th>\n",
              "      <th>has Children</th>\n",
              "      <th>visit restaurant with rating (avg)</th>\n",
              "      <th>temperature</th>\n",
              "      <th>Restaur_spend_greater_than20</th>\n",
              "      <th>Travel Time</th>\n",
              "      <th>Climate</th>\n",
              "      <th>drop location</th>\n",
              "      <th>Prefer home food</th>\n",
              "      <th>Offer Accepted</th>\n",
              "    </tr>\n",
              "  </thead>\n",
              "  <tbody>\n",
              "    <tr>\n",
              "      <th>17679</th>\n",
              "      <td>2days</td>\n",
              "      <td>₹25000 - ₹37499</td>\n",
              "      <td>less1</td>\n",
              "      <td>0</td>\n",
              "      <td>less1</td>\n",
              "      <td>Unmarried partner</td>\n",
              "      <td>4 star restaurant</td>\n",
              "      <td>26</td>\n",
              "      <td>0</td>\n",
              "      <td>0</td>\n",
              "      <td>...</td>\n",
              "      <td>0</td>\n",
              "      <td>0</td>\n",
              "      <td>1</td>\n",
              "      <td>67</td>\n",
              "      <td>1~3</td>\n",
              "      <td>18</td>\n",
              "      <td>Summer</td>\n",
              "      <td>Location B</td>\n",
              "      <td>0</td>\n",
              "      <td>NaN</td>\n",
              "    </tr>\n",
              "    <tr>\n",
              "      <th>17680</th>\n",
              "      <td>10hours</td>\n",
              "      <td>₹62500 - ₹74999</td>\n",
              "      <td>1~3</td>\n",
              "      <td>0</td>\n",
              "      <td>4~8</td>\n",
              "      <td>Married partner</td>\n",
              "      <td>2 star restaurant</td>\n",
              "      <td>26</td>\n",
              "      <td>0</td>\n",
              "      <td>0</td>\n",
              "      <td>...</td>\n",
              "      <td>0</td>\n",
              "      <td>0</td>\n",
              "      <td>3</td>\n",
              "      <td>89</td>\n",
              "      <td>1~3</td>\n",
              "      <td>18</td>\n",
              "      <td>Summer</td>\n",
              "      <td>Location B</td>\n",
              "      <td>1</td>\n",
              "      <td>NaN</td>\n",
              "    </tr>\n",
              "    <tr>\n",
              "      <th>17681</th>\n",
              "      <td>10hours</td>\n",
              "      <td>₹50000 - ₹62499</td>\n",
              "      <td>gt8</td>\n",
              "      <td>1</td>\n",
              "      <td>4~8</td>\n",
              "      <td>Married partner</td>\n",
              "      <td>Cold drinks</td>\n",
              "      <td>36</td>\n",
              "      <td>0</td>\n",
              "      <td>0</td>\n",
              "      <td>...</td>\n",
              "      <td>1</td>\n",
              "      <td>1</td>\n",
              "      <td>2</td>\n",
              "      <td>67</td>\n",
              "      <td>1~3</td>\n",
              "      <td>7</td>\n",
              "      <td>Summer</td>\n",
              "      <td>Location C</td>\n",
              "      <td>1</td>\n",
              "      <td>NaN</td>\n",
              "    </tr>\n",
              "    <tr>\n",
              "      <th>17682</th>\n",
              "      <td>2days</td>\n",
              "      <td>₹50000 - ₹62499</td>\n",
              "      <td>1~3</td>\n",
              "      <td>1</td>\n",
              "      <td>1~3</td>\n",
              "      <td>Married partner</td>\n",
              "      <td>Restaurant with pub</td>\n",
              "      <td>36</td>\n",
              "      <td>1</td>\n",
              "      <td>0</td>\n",
              "      <td>...</td>\n",
              "      <td>1</td>\n",
              "      <td>1</td>\n",
              "      <td>3</td>\n",
              "      <td>89</td>\n",
              "      <td>1~3</td>\n",
              "      <td>7</td>\n",
              "      <td>Summer</td>\n",
              "      <td>Location A</td>\n",
              "      <td>0</td>\n",
              "      <td>NaN</td>\n",
              "    </tr>\n",
              "    <tr>\n",
              "      <th>17683</th>\n",
              "      <td>2days</td>\n",
              "      <td>₹37500 - ₹49999</td>\n",
              "      <td>less1</td>\n",
              "      <td>0</td>\n",
              "      <td>1~3</td>\n",
              "      <td>Married partner</td>\n",
              "      <td>4 star restaurant</td>\n",
              "      <td>50plus</td>\n",
              "      <td>1</td>\n",
              "      <td>0</td>\n",
              "      <td>...</td>\n",
              "      <td>1</td>\n",
              "      <td>1</td>\n",
              "      <td>4</td>\n",
              "      <td>89</td>\n",
              "      <td>1~3</td>\n",
              "      <td>7</td>\n",
              "      <td>Winter</td>\n",
              "      <td>Location A</td>\n",
              "      <td>0</td>\n",
              "      <td>NaN</td>\n",
              "    </tr>\n",
              "  </tbody>\n",
              "</table>\n",
              "<p>5 rows × 31 columns</p>\n",
              "</div>\n",
              "      <button class=\"colab-df-convert\" onclick=\"convertToInteractive('df-033da9bf-c5ef-45ca-8a85-a8aa8f1f1d7b')\"\n",
              "              title=\"Convert this dataframe to an interactive table.\"\n",
              "              style=\"display:none;\">\n",
              "        \n",
              "  <svg xmlns=\"http://www.w3.org/2000/svg\" height=\"24px\"viewBox=\"0 0 24 24\"\n",
              "       width=\"24px\">\n",
              "    <path d=\"M0 0h24v24H0V0z\" fill=\"none\"/>\n",
              "    <path d=\"M18.56 5.44l.94 2.06.94-2.06 2.06-.94-2.06-.94-.94-2.06-.94 2.06-2.06.94zm-11 1L8.5 8.5l.94-2.06 2.06-.94-2.06-.94L8.5 2.5l-.94 2.06-2.06.94zm10 10l.94 2.06.94-2.06 2.06-.94-2.06-.94-.94-2.06-.94 2.06-2.06.94z\"/><path d=\"M17.41 7.96l-1.37-1.37c-.4-.4-.92-.59-1.43-.59-.52 0-1.04.2-1.43.59L10.3 9.45l-7.72 7.72c-.78.78-.78 2.05 0 2.83L4 21.41c.39.39.9.59 1.41.59.51 0 1.02-.2 1.41-.59l7.78-7.78 2.81-2.81c.8-.78.8-2.07 0-2.86zM5.41 20L4 18.59l7.72-7.72 1.47 1.35L5.41 20z\"/>\n",
              "  </svg>\n",
              "      </button>\n",
              "      \n",
              "  <style>\n",
              "    .colab-df-container {\n",
              "      display:flex;\n",
              "      flex-wrap:wrap;\n",
              "      gap: 12px;\n",
              "    }\n",
              "\n",
              "    .colab-df-convert {\n",
              "      background-color: #E8F0FE;\n",
              "      border: none;\n",
              "      border-radius: 50%;\n",
              "      cursor: pointer;\n",
              "      display: none;\n",
              "      fill: #1967D2;\n",
              "      height: 32px;\n",
              "      padding: 0 0 0 0;\n",
              "      width: 32px;\n",
              "    }\n",
              "\n",
              "    .colab-df-convert:hover {\n",
              "      background-color: #E2EBFA;\n",
              "      box-shadow: 0px 1px 2px rgba(60, 64, 67, 0.3), 0px 1px 3px 1px rgba(60, 64, 67, 0.15);\n",
              "      fill: #174EA6;\n",
              "    }\n",
              "\n",
              "    [theme=dark] .colab-df-convert {\n",
              "      background-color: #3B4455;\n",
              "      fill: #D2E3FC;\n",
              "    }\n",
              "\n",
              "    [theme=dark] .colab-df-convert:hover {\n",
              "      background-color: #434B5C;\n",
              "      box-shadow: 0px 1px 3px 1px rgba(0, 0, 0, 0.15);\n",
              "      filter: drop-shadow(0px 1px 2px rgba(0, 0, 0, 0.3));\n",
              "      fill: #FFFFFF;\n",
              "    }\n",
              "  </style>\n",
              "\n",
              "      <script>\n",
              "        const buttonEl =\n",
              "          document.querySelector('#df-033da9bf-c5ef-45ca-8a85-a8aa8f1f1d7b button.colab-df-convert');\n",
              "        buttonEl.style.display =\n",
              "          google.colab.kernel.accessAllowed ? 'block' : 'none';\n",
              "\n",
              "        async function convertToInteractive(key) {\n",
              "          const element = document.querySelector('#df-033da9bf-c5ef-45ca-8a85-a8aa8f1f1d7b');\n",
              "          const dataTable =\n",
              "            await google.colab.kernel.invokeFunction('convertToInteractive',\n",
              "                                                     [key], {});\n",
              "          if (!dataTable) return;\n",
              "\n",
              "          const docLinkHtml = 'Like what you see? Visit the ' +\n",
              "            '<a target=\"_blank\" href=https://colab.research.google.com/notebooks/data_table.ipynb>data table notebook</a>'\n",
              "            + ' to learn more about interactive tables.';\n",
              "          element.innerHTML = '';\n",
              "          dataTable['output_type'] = 'display_data';\n",
              "          await google.colab.output.renderOutput(dataTable, element);\n",
              "          const docLink = document.createElement('div');\n",
              "          docLink.innerHTML = docLinkHtml;\n",
              "          element.appendChild(docLink);\n",
              "        }\n",
              "      </script>\n",
              "    </div>\n",
              "  </div>\n",
              "  "
            ]
          },
          "metadata": {},
          "execution_count": 9
        }
      ]
    },
    {
      "cell_type": "code",
      "source": [
        "data.info()"
      ],
      "metadata": {
        "colab": {
          "base_uri": "https://localhost:8080/"
        },
        "id": "_WizRzQe3PQ9",
        "outputId": "fc4349db-9120-4363-c918-69fdb7fa3dd9"
      },
      "execution_count": 10,
      "outputs": [
        {
          "output_type": "stream",
          "name": "stdout",
          "text": [
            "<class 'pandas.core.frame.DataFrame'>\n",
            "RangeIndex: 17684 entries, 0 to 17683\n",
            "Data columns (total 31 columns):\n",
            " #   Column                                Non-Null Count  Dtype \n",
            "---  ------                                --------------  ----- \n",
            " 0   offer expiration                      17684 non-null  object\n",
            " 1   income_range                          17684 non-null  object\n",
            " 2   no_visited_Cold drinks                17396 non-null  object\n",
            " 3   travelled_more_than_15mins_for_offer  17684 non-null  int64 \n",
            " 4   Restaur_spend_less_than20             17502 non-null  object\n",
            " 5   Marital Status                        17684 non-null  object\n",
            " 6   restaurant type                       17684 non-null  object\n",
            " 7   age                                   17684 non-null  object\n",
            " 8   Prefer western over chinese           17684 non-null  int64 \n",
            " 9   travelled_more_than_25mins_for_offer  17684 non-null  int64 \n",
            " 10  travelled_more_than_5mins_for_offer   17684 non-null  int64 \n",
            " 11  no_visited_bars                       17541 non-null  object\n",
            " 12  gender                                17684 non-null  object\n",
            " 13  car                                   154 non-null    object\n",
            " 14  restuarant_same_direction_house       17684 non-null  int64 \n",
            " 15  Cooks regularly                       17684 non-null  int64 \n",
            " 16  Customer type                         17684 non-null  object\n",
            " 17  Qualification                         17684 non-null  object\n",
            " 18  is foodie                             17684 non-null  int64 \n",
            " 19  no_Take-aways                         17480 non-null  object\n",
            " 20  Job/Job Industry                      17684 non-null  object\n",
            " 21  restuarant_opposite_direction_house   17684 non-null  int64 \n",
            " 22  has Children                          17684 non-null  int64 \n",
            " 23  visit restaurant with rating (avg)    17684 non-null  int64 \n",
            " 24  temperature                           17684 non-null  int64 \n",
            " 25  Restaur_spend_greater_than20          17420 non-null  object\n",
            " 26  Travel Time                           17684 non-null  int64 \n",
            " 27  Climate                               17684 non-null  object\n",
            " 28  drop location                         17684 non-null  object\n",
            " 29  Prefer home food                      17684 non-null  int64 \n",
            " 30  Offer Accepted                        12379 non-null  object\n",
            "dtypes: int64(13), object(18)\n",
            "memory usage: 4.2+ MB\n"
          ]
        }
      ]
    },
    {
      "cell_type": "code",
      "source": [
        "data.drop(['no_visited_Cold drinks','Restaur_spend_less_than20','no_visited_bars','car','no_Take-aways','Restaur_spend_greater_than20'], axis=1, inplace=True)"
      ],
      "metadata": {
        "id": "FRTofqR93PTm"
      },
      "execution_count": 11,
      "outputs": []
    },
    {
      "cell_type": "code",
      "source": [
        "data.shape"
      ],
      "metadata": {
        "colab": {
          "base_uri": "https://localhost:8080/"
        },
        "id": "o-tWxC-I4LA5",
        "outputId": "cdac495a-42ca-4dc7-cbb6-f6114e116bab"
      },
      "execution_count": 12,
      "outputs": [
        {
          "output_type": "execute_result",
          "data": {
            "text/plain": [
              "(17684, 25)"
            ]
          },
          "metadata": {},
          "execution_count": 12
        }
      ]
    },
    {
      "cell_type": "markdown",
      "source": [
        "0 -> 12378 for train_data\n",
        "12379 -> 17683 for test_data"
      ],
      "metadata": {
        "id": "tvGTQg576v8o"
      }
    },
    {
      "cell_type": "code",
      "source": [
        "data.info()"
      ],
      "metadata": {
        "colab": {
          "base_uri": "https://localhost:8080/"
        },
        "id": "q7BXnQdx4Pba",
        "outputId": "98a15c55-b392-41c1-f905-bc7a6435e19b"
      },
      "execution_count": 13,
      "outputs": [
        {
          "output_type": "stream",
          "name": "stdout",
          "text": [
            "<class 'pandas.core.frame.DataFrame'>\n",
            "RangeIndex: 17684 entries, 0 to 17683\n",
            "Data columns (total 25 columns):\n",
            " #   Column                                Non-Null Count  Dtype \n",
            "---  ------                                --------------  ----- \n",
            " 0   offer expiration                      17684 non-null  object\n",
            " 1   income_range                          17684 non-null  object\n",
            " 2   travelled_more_than_15mins_for_offer  17684 non-null  int64 \n",
            " 3   Marital Status                        17684 non-null  object\n",
            " 4   restaurant type                       17684 non-null  object\n",
            " 5   age                                   17684 non-null  object\n",
            " 6   Prefer western over chinese           17684 non-null  int64 \n",
            " 7   travelled_more_than_25mins_for_offer  17684 non-null  int64 \n",
            " 8   travelled_more_than_5mins_for_offer   17684 non-null  int64 \n",
            " 9   gender                                17684 non-null  object\n",
            " 10  restuarant_same_direction_house       17684 non-null  int64 \n",
            " 11  Cooks regularly                       17684 non-null  int64 \n",
            " 12  Customer type                         17684 non-null  object\n",
            " 13  Qualification                         17684 non-null  object\n",
            " 14  is foodie                             17684 non-null  int64 \n",
            " 15  Job/Job Industry                      17684 non-null  object\n",
            " 16  restuarant_opposite_direction_house   17684 non-null  int64 \n",
            " 17  has Children                          17684 non-null  int64 \n",
            " 18  visit restaurant with rating (avg)    17684 non-null  int64 \n",
            " 19  temperature                           17684 non-null  int64 \n",
            " 20  Travel Time                           17684 non-null  int64 \n",
            " 21  Climate                               17684 non-null  object\n",
            " 22  drop location                         17684 non-null  object\n",
            " 23  Prefer home food                      17684 non-null  int64 \n",
            " 24  Offer Accepted                        12379 non-null  object\n",
            "dtypes: int64(13), object(12)\n",
            "memory usage: 3.4+ MB\n"
          ]
        }
      ]
    },
    {
      "cell_type": "markdown",
      "source": [
        "## Data Preprocessing"
      ],
      "metadata": {
        "id": "KZAtK_qE7Jhd"
      }
    },
    {
      "cell_type": "markdown",
      "source": [
        "### offer expiration"
      ],
      "metadata": {
        "id": "s03__RGDYQYi"
      }
    },
    {
      "cell_type": "code",
      "source": [
        "data['offer expiration'].unique()"
      ],
      "metadata": {
        "id": "PR0zZn9G7Ly4",
        "colab": {
          "base_uri": "https://localhost:8080/"
        },
        "outputId": "a7c619ad-dec8-4510-dadb-9c90a8b69c71"
      },
      "execution_count": 14,
      "outputs": [
        {
          "output_type": "execute_result",
          "data": {
            "text/plain": [
              "array(['2days', '10hours'], dtype=object)"
            ]
          },
          "metadata": {},
          "execution_count": 14
        }
      ]
    },
    {
      "cell_type": "markdown",
      "source": [
        "'10hours' -> 0\n",
        "\n",
        "'2days' -> 1"
      ],
      "metadata": {
        "id": "h3OdsR7hUQd-"
      }
    },
    {
      "cell_type": "code",
      "source": [
        "data['offer expiration'].replace({'10hours':0, '2days':1}, inplace=True)"
      ],
      "metadata": {
        "id": "z2SJzum-Ua_k"
      },
      "execution_count": 18,
      "outputs": []
    },
    {
      "cell_type": "markdown",
      "source": [
        "The keys are replaced by their corresponding values in the column of the dataframe"
      ],
      "metadata": {
        "id": "nHuYocN6bBZ7"
      }
    },
    {
      "cell_type": "code",
      "source": [
        "data['offer expiration'].head()"
      ],
      "metadata": {
        "id": "gZxumUY16jmd",
        "colab": {
          "base_uri": "https://localhost:8080/"
        },
        "outputId": "c8c4f7b0-0b41-4f72-f43e-5fdc42542ecc"
      },
      "execution_count": 23,
      "outputs": [
        {
          "output_type": "execute_result",
          "data": {
            "text/plain": [
              "0    1\n",
              "1    1\n",
              "2    1\n",
              "3    0\n",
              "4    1\n",
              "Name: offer expiration, dtype: int64"
            ]
          },
          "metadata": {},
          "execution_count": 23
        }
      ]
    },
    {
      "cell_type": "markdown",
      "source": [
        "### income_range"
      ],
      "metadata": {
        "id": "r-vC4vD_YVvB"
      }
    },
    {
      "cell_type": "code",
      "source": [
        "data['income_range'].value_counts()"
      ],
      "metadata": {
        "colab": {
          "base_uri": "https://localhost:8080/"
        },
        "id": "cM9Ypdv6Z_oT",
        "outputId": "61936efd-cde1-496e-d7e9-9ff4aef79ded"
      },
      "execution_count": 28,
      "outputs": [
        {
          "output_type": "execute_result",
          "data": {
            "text/plain": [
              "₹25000 - ₹37499     2860\n",
              "₹12500 - ₹24999     2534\n",
              "₹37500 - ₹49999     2492\n",
              "₹100000 or More     2397\n",
              "₹50000 - ₹62499     2276\n",
              "Less than ₹12500    1485\n",
              "₹87500 - ₹99999     1259\n",
              "₹75000 - ₹87499     1202\n",
              "₹62500 - ₹74999     1179\n",
              "Name: income_range, dtype: int64"
            ]
          },
          "metadata": {},
          "execution_count": 28
        }
      ]
    },
    {
      "cell_type": "code",
      "source": [
        "data['income_range'].replace({'Less than ₹12500':0, '₹12500 - ₹24999':1, '₹25000 - ₹37499':2, '₹37500 - ₹49999':3, '₹50000 - ₹62499':4, '₹62500 - ₹74999':5,\n",
        "                              '₹75000 - ₹87499':6, '₹87500 - ₹99999':7, '₹100000 or More':8 }, inplace=True)"
      ],
      "metadata": {
        "id": "L5AlFHfJaFMM"
      },
      "execution_count": 29,
      "outputs": []
    },
    {
      "cell_type": "code",
      "source": [
        "data['income_range'].head()"
      ],
      "metadata": {
        "colab": {
          "base_uri": "https://localhost:8080/"
        },
        "id": "_9WjgsXbaFOb",
        "outputId": "c2fa9bd3-48b3-4952-d35f-736970052ec9"
      },
      "execution_count": 30,
      "outputs": [
        {
          "output_type": "execute_result",
          "data": {
            "text/plain": [
              "0    8\n",
              "1    7\n",
              "2    7\n",
              "3    3\n",
              "4    8\n",
              "Name: income_range, dtype: int64"
            ]
          },
          "metadata": {},
          "execution_count": 30
        }
      ]
    },
    {
      "cell_type": "markdown",
      "source": [
        "### Marital Status"
      ],
      "metadata": {
        "id": "sODNOHjDbx1g"
      }
    },
    {
      "cell_type": "code",
      "source": [
        "data['Marital Status'].value_counts()"
      ],
      "metadata": {
        "colab": {
          "base_uri": "https://localhost:8080/"
        },
        "id": "MLYyerRCcMNa",
        "outputId": "6d2f5b4c-ba07-486c-cfee-107199156969"
      },
      "execution_count": 33,
      "outputs": [
        {
          "output_type": "execute_result",
          "data": {
            "text/plain": [
              "Married partner      7085\n",
              "Single               6675\n",
              "Unmarried partner    3031\n",
              "Divorced              718\n",
              "Widowed               175\n",
              "Name: Marital Status, dtype: int64"
            ]
          },
          "metadata": {},
          "execution_count": 33
        }
      ]
    },
    {
      "cell_type": "code",
      "source": [
        "data['Marital Status'][:5]"
      ],
      "metadata": {
        "colab": {
          "base_uri": "https://localhost:8080/"
        },
        "id": "9MO1iyOxdUug",
        "outputId": "7d73f7d4-1a17-46a2-dbe1-38bc2290677e"
      },
      "execution_count": 34,
      "outputs": [
        {
          "output_type": "execute_result",
          "data": {
            "text/plain": [
              "0    Married partner\n",
              "1    Married partner\n",
              "2             Single\n",
              "3             Single\n",
              "4             Single\n",
              "Name: Marital Status, dtype: object"
            ]
          },
          "metadata": {},
          "execution_count": 34
        }
      ]
    },
    {
      "cell_type": "code",
      "source": [
        "data['Marital Status'].replace({'Married partner':0, 'Single':1, 'Unmarried partner':2, 'Divorced':3, 'Widowed':4}, inplace=True)"
      ],
      "metadata": {
        "id": "tgrP-UPpdWkE"
      },
      "execution_count": 36,
      "outputs": []
    },
    {
      "cell_type": "code",
      "source": [
        "data['Marital Status'][:5]"
      ],
      "metadata": {
        "colab": {
          "base_uri": "https://localhost:8080/"
        },
        "id": "L-zKkzcUduEf",
        "outputId": "68e1ded7-f3c2-4d74-f34c-defa45b6ef8f"
      },
      "execution_count": 37,
      "outputs": [
        {
          "output_type": "execute_result",
          "data": {
            "text/plain": [
              "0    0\n",
              "1    0\n",
              "2    1\n",
              "3    1\n",
              "4    1\n",
              "Name: Marital Status, dtype: int64"
            ]
          },
          "metadata": {},
          "execution_count": 37
        }
      ]
    },
    {
      "cell_type": "markdown",
      "source": [
        "### restaurant type"
      ],
      "metadata": {
        "id": "gZRjRlgMd0H8"
      }
    },
    {
      "cell_type": "code",
      "source": [
        "data['restaurant type'].value_counts()"
      ],
      "metadata": {
        "colab": {
          "base_uri": "https://localhost:8080/"
        },
        "id": "AC-kbycadUxP",
        "outputId": "a02d0581-c234-498d-a3d3-6353f50b04e2"
      },
      "execution_count": 38,
      "outputs": [
        {
          "output_type": "execute_result",
          "data": {
            "text/plain": [
              "Cold drinks             4957\n",
              "2 star restaurant       3792\n",
              "Take-away restaurant    3374\n",
              "4 star restaurant       3108\n",
              "Restaurant with pub     2453\n",
              "Name: restaurant type, dtype: int64"
            ]
          },
          "metadata": {},
          "execution_count": 38
        }
      ]
    },
    {
      "cell_type": "code",
      "source": [
        "data['restaurant type'][:7]"
      ],
      "metadata": {
        "colab": {
          "base_uri": "https://localhost:8080/"
        },
        "id": "hTSND6JwdUzr",
        "outputId": "f688a7d4-1036-44ff-c945-373a1c65162a"
      },
      "execution_count": 39,
      "outputs": [
        {
          "output_type": "execute_result",
          "data": {
            "text/plain": [
              "0       4 star restaurant\n",
              "1    Take-away restaurant\n",
              "2             Cold drinks\n",
              "3    Take-away restaurant\n",
              "4       4 star restaurant\n",
              "5    Take-away restaurant\n",
              "6             Cold drinks\n",
              "Name: restaurant type, dtype: object"
            ]
          },
          "metadata": {},
          "execution_count": 39
        }
      ]
    },
    {
      "cell_type": "code",
      "source": [
        "data['restaurant type'].replace({'Cold drinks':0, '2 star restaurant':1, 'Take-away restaurant':2, '4 star restaurant':3, \n",
        "                                 'Restaurant with pub':4}, inplace=True)"
      ],
      "metadata": {
        "id": "16o3fZK2eIio"
      },
      "execution_count": 40,
      "outputs": []
    },
    {
      "cell_type": "code",
      "source": [
        "data['restaurant type'][:7]"
      ],
      "metadata": {
        "colab": {
          "base_uri": "https://localhost:8080/"
        },
        "id": "awlmDSlWeaTs",
        "outputId": "fe4b6f7c-e345-44f1-8fff-3617fc683eb9"
      },
      "execution_count": 42,
      "outputs": [
        {
          "output_type": "execute_result",
          "data": {
            "text/plain": [
              "0    3\n",
              "1    2\n",
              "2    0\n",
              "3    2\n",
              "4    3\n",
              "5    2\n",
              "6    0\n",
              "Name: restaurant type, dtype: int64"
            ]
          },
          "metadata": {},
          "execution_count": 42
        }
      ]
    },
    {
      "cell_type": "markdown",
      "source": [
        "### age"
      ],
      "metadata": {
        "id": "Y1U38N__fSSz"
      }
    },
    {
      "cell_type": "code",
      "source": [
        "data['age'].value_counts()"
      ],
      "metadata": {
        "colab": {
          "base_uri": "https://localhost:8080/"
        },
        "id": "Rx4J-rTFfWP1",
        "outputId": "c9d95f76-5eb8-4bb5-f7ec-4d23204eea9f"
      },
      "execution_count": 43,
      "outputs": [
        {
          "output_type": "execute_result",
          "data": {
            "text/plain": [
              "21         3717\n",
              "26         3622\n",
              "31         2785\n",
              "50plus     2528\n",
              "36         1809\n",
              "41         1497\n",
              "46          967\n",
              "below21     759\n",
              "Name: age, dtype: int64"
            ]
          },
          "metadata": {},
          "execution_count": 43
        }
      ]
    },
    {
      "cell_type": "code",
      "source": [
        "data['age'].replace({'below21':18, '50plus':53}, inplace=True)"
      ],
      "metadata": {
        "id": "K2nsGjBIfYQ_"
      },
      "execution_count": 44,
      "outputs": []
    },
    {
      "cell_type": "code",
      "source": [
        "data['age'][:5]"
      ],
      "metadata": {
        "colab": {
          "base_uri": "https://localhost:8080/"
        },
        "id": "BKHRojX6fzhn",
        "outputId": "d48c7a1c-ca37-4ebb-fade-1c953a434a7f"
      },
      "execution_count": 45,
      "outputs": [
        {
          "output_type": "execute_result",
          "data": {
            "text/plain": [
              "0    36\n",
              "1    53\n",
              "2    26\n",
              "3    46\n",
              "4    21\n",
              "Name: age, dtype: object"
            ]
          },
          "metadata": {},
          "execution_count": 45
        }
      ]
    },
    {
      "cell_type": "markdown",
      "source": [
        "### gender"
      ],
      "metadata": {
        "id": "U2EszHYIf2Q9"
      }
    },
    {
      "cell_type": "code",
      "source": [
        "data['gender'].value_counts()"
      ],
      "metadata": {
        "colab": {
          "base_uri": "https://localhost:8080/"
        },
        "id": "aZpzn3Kjf--K",
        "outputId": "48b974d1-f24f-44d6-b646-2f150a9569ee"
      },
      "execution_count": 46,
      "outputs": [
        {
          "output_type": "execute_result",
          "data": {
            "text/plain": [
              "Female    9037\n",
              "Male      8647\n",
              "Name: gender, dtype: int64"
            ]
          },
          "metadata": {},
          "execution_count": 46
        }
      ]
    },
    {
      "cell_type": "code",
      "source": [
        "data['gender'][:5]"
      ],
      "metadata": {
        "colab": {
          "base_uri": "https://localhost:8080/"
        },
        "id": "R1YW0JTrgCB_",
        "outputId": "3f9601dc-71c0-49b0-cb2e-9e8dabde08c6"
      },
      "execution_count": 47,
      "outputs": [
        {
          "output_type": "execute_result",
          "data": {
            "text/plain": [
              "0    Female\n",
              "1    Female\n",
              "2    Female\n",
              "3      Male\n",
              "4    Female\n",
              "Name: gender, dtype: object"
            ]
          },
          "metadata": {},
          "execution_count": 47
        }
      ]
    },
    {
      "cell_type": "code",
      "source": [
        "data['gender'].replace({'Female':0, 'Male':1}, inplace=True)"
      ],
      "metadata": {
        "id": "oRjtMp9ef_B8"
      },
      "execution_count": 48,
      "outputs": []
    },
    {
      "cell_type": "code",
      "source": [
        "data['gender'][:5]"
      ],
      "metadata": {
        "colab": {
          "base_uri": "https://localhost:8080/"
        },
        "id": "1xalZ9IRf_EL",
        "outputId": "6a316bbe-1696-46ac-d065-0afa3701e7dc"
      },
      "execution_count": 49,
      "outputs": [
        {
          "output_type": "execute_result",
          "data": {
            "text/plain": [
              "0    0\n",
              "1    0\n",
              "2    0\n",
              "3    1\n",
              "4    0\n",
              "Name: gender, dtype: int64"
            ]
          },
          "metadata": {},
          "execution_count": 49
        }
      ]
    },
    {
      "cell_type": "markdown",
      "source": [
        "### Customer type"
      ],
      "metadata": {
        "id": "JJaW6VasgaOV"
      }
    },
    {
      "cell_type": "code",
      "source": [
        "data['Customer type'].value_counts()"
      ],
      "metadata": {
        "colab": {
          "base_uri": "https://localhost:8080/"
        },
        "id": "xW0mleRHga8w",
        "outputId": "175d3cfe-09f9-44e4-f129-b1a4c7b05c0d"
      },
      "execution_count": 50,
      "outputs": [
        {
          "output_type": "execute_result",
          "data": {
            "text/plain": [
              "Individual         8497\n",
              "With Colleagues    4513\n",
              "With Family        2374\n",
              "With Kids          2300\n",
              "Name: Customer type, dtype: int64"
            ]
          },
          "metadata": {},
          "execution_count": 50
        }
      ]
    },
    {
      "cell_type": "code",
      "source": [
        "data['Customer type'].replace({'Individual':0, 'With Colleagues':1, 'With Family':2, 'With Kids':3}, inplace=True)"
      ],
      "metadata": {
        "id": "9GybeokDgddw"
      },
      "execution_count": 51,
      "outputs": []
    },
    {
      "cell_type": "markdown",
      "source": [
        "### Qualification"
      ],
      "metadata": {
        "id": "pJ2zJ-LqgxoX"
      }
    },
    {
      "cell_type": "code",
      "source": [
        "data['Qualification'].value_counts()"
      ],
      "metadata": {
        "colab": {
          "base_uri": "https://localhost:8080/"
        },
        "id": "XOWO0Maog08x",
        "outputId": "6c90cc62-37cc-440c-a53c-c9668ccfa308"
      },
      "execution_count": 53,
      "outputs": [
        {
          "output_type": "execute_result",
          "data": {
            "text/plain": [
              "Some college - no degree                  6068\n",
              "Bachelors degree                          6039\n",
              "Graduate degree (Masters or Doctorate)    2582\n",
              "Associates degree                         1610\n",
              "High School Graduate                      1258\n",
              "Some High School                           127\n",
              "Name: Qualification, dtype: int64"
            ]
          },
          "metadata": {},
          "execution_count": 53
        }
      ]
    },
    {
      "cell_type": "code",
      "source": [
        "data['Qualification'][:7]"
      ],
      "metadata": {
        "colab": {
          "base_uri": "https://localhost:8080/"
        },
        "id": "awfGnnJOg0-z",
        "outputId": "e343d3ca-2414-4870-d71a-4f7b9338ddc5"
      },
      "execution_count": 54,
      "outputs": [
        {
          "output_type": "execute_result",
          "data": {
            "text/plain": [
              "0            Bachelors degree\n",
              "1            Bachelors degree\n",
              "2            Bachelors degree\n",
              "3    Some college - no degree\n",
              "4    Some college - no degree\n",
              "5            Bachelors degree\n",
              "6    Some college - no degree\n",
              "Name: Qualification, dtype: object"
            ]
          },
          "metadata": {},
          "execution_count": 54
        }
      ]
    },
    {
      "cell_type": "code",
      "source": [
        "data['Qualification'].replace({'Some college - no degree':0, 'Bachelors degree':1, 'Graduate degree (Masters or Doctorate)':2,\n",
        "                               'Associates degree':3, 'High School Graduate':4, 'Some High School':5}, inplace=True)"
      ],
      "metadata": {
        "id": "Liq47nbLg1A9"
      },
      "execution_count": 57,
      "outputs": []
    },
    {
      "cell_type": "code",
      "source": [
        "data['Qualification'][:7]"
      ],
      "metadata": {
        "colab": {
          "base_uri": "https://localhost:8080/"
        },
        "id": "5UWbE23ChSvU",
        "outputId": "dfdd59e1-2cfb-41a8-ef54-334bcf5d2f16"
      },
      "execution_count": 58,
      "outputs": [
        {
          "output_type": "execute_result",
          "data": {
            "text/plain": [
              "0    1\n",
              "1    1\n",
              "2    1\n",
              "3    0\n",
              "4    0\n",
              "5    1\n",
              "6    0\n",
              "Name: Qualification, dtype: int64"
            ]
          },
          "metadata": {},
          "execution_count": 58
        }
      ]
    },
    {
      "cell_type": "markdown",
      "source": [
        "### Job/Job Industry"
      ],
      "metadata": {
        "id": "_B3SJCu5hiXt"
      }
    },
    {
      "cell_type": "code",
      "source": [
        "data['Job/Job Industry'].value_counts()"
      ],
      "metadata": {
        "colab": {
          "base_uri": "https://localhost:8080/"
        },
        "id": "RD-T_YethjBj",
        "outputId": "face8f19-a3b9-400f-e784-951b7744a3c7"
      },
      "execution_count": 59,
      "outputs": [
        {
          "output_type": "execute_result",
          "data": {
            "text/plain": [
              "Unemployed                                   2629\n",
              "Student                                      2205\n",
              "Computer & Mathematical                      1946\n",
              "Sales & Related                              1524\n",
              "Education&Training&Library                   1311\n",
              "Management                                   1176\n",
              "Office & Administrative Support               903\n",
              "Arts Design Entertainment Sports & Media      898\n",
              "Business & Financial                          739\n",
              "Retired                                       664\n",
              "Food Preparation & Serving Related            403\n",
              "Community & Social Services                   346\n",
              "Healthcare Practitioners & Technical          339\n",
              "Healthcare Support                            332\n",
              "Transportation & Material Moving              316\n",
              "Legal                                         311\n",
              "Life Physical Social Science                  247\n",
              "Protective Service                            243\n",
              "Architecture & Engineering                    241\n",
              "Personal Care & Service                       232\n",
              "Construction & Extraction                     208\n",
              "Installation Maintenance & Repair             197\n",
              "Production Occupations                        158\n",
              "Building & Grounds Cleaning & Maintenance      59\n",
              "Farming Fishing & Forestry                     57\n",
              "Name: Job/Job Industry, dtype: int64"
            ]
          },
          "metadata": {},
          "execution_count": 59
        }
      ]
    },
    {
      "cell_type": "markdown",
      "source": [
        "Removing this column:"
      ],
      "metadata": {
        "id": "ZHvLw99jhro6"
      }
    },
    {
      "cell_type": "code",
      "source": [
        "data.drop(['Job/Job Industry'], axis=1, inplace=True)"
      ],
      "metadata": {
        "id": "YxF-vXcchmHW"
      },
      "execution_count": 60,
      "outputs": []
    },
    {
      "cell_type": "code",
      "source": [
        "data.shape"
      ],
      "metadata": {
        "colab": {
          "base_uri": "https://localhost:8080/"
        },
        "id": "oyv2pS6nhjDw",
        "outputId": "1666142b-51c3-4b6f-957d-2a9c1b2b8ea1"
      },
      "execution_count": 61,
      "outputs": [
        {
          "output_type": "execute_result",
          "data": {
            "text/plain": [
              "(17684, 24)"
            ]
          },
          "metadata": {},
          "execution_count": 61
        }
      ]
    },
    {
      "cell_type": "markdown",
      "source": [
        "### Climate"
      ],
      "metadata": {
        "id": "11QrQl3OirlV"
      }
    },
    {
      "cell_type": "code",
      "source": [
        "data['Climate'].value_counts()"
      ],
      "metadata": {
        "colab": {
          "base_uri": "https://localhost:8080/"
        },
        "id": "Kxc7wBkpih40",
        "outputId": "6be6789f-2ac0-484f-925b-450e69306957"
      },
      "execution_count": 65,
      "outputs": [
        {
          "output_type": "execute_result",
          "data": {
            "text/plain": [
              "Summer    11520\n",
              "Spring     3114\n",
              "Winter     3050\n",
              "Name: Climate, dtype: int64"
            ]
          },
          "metadata": {},
          "execution_count": 65
        }
      ]
    },
    {
      "cell_type": "code",
      "source": [
        "data['Climate'].replace({'Summer':0, 'Spring':1, 'Winter':2}, inplace=True)"
      ],
      "metadata": {
        "id": "G6hp0T9giusw"
      },
      "execution_count": 66,
      "outputs": []
    },
    {
      "cell_type": "markdown",
      "source": [
        "### drop location"
      ],
      "metadata": {
        "id": "8mfEuBTMjCZi"
      }
    },
    {
      "cell_type": "code",
      "source": [
        "data['drop location'].value_counts()"
      ],
      "metadata": {
        "colab": {
          "base_uri": "https://localhost:8080/"
        },
        "id": "fFMcfm7UjHIE",
        "outputId": "e317dbf0-4f3c-40b9-aa62-49e4580f08ef"
      },
      "execution_count": 67,
      "outputs": [
        {
          "output_type": "execute_result",
          "data": {
            "text/plain": [
              "Location A    7934\n",
              "Location B    4900\n",
              "Location C    4850\n",
              "Name: drop location, dtype: int64"
            ]
          },
          "metadata": {},
          "execution_count": 67
        }
      ]
    },
    {
      "cell_type": "code",
      "source": [
        "data['drop location'].replace({'Location A':0, 'Location B':1, 'Location C':2}, inplace=True)"
      ],
      "metadata": {
        "id": "fkOKLg5ujLD3"
      },
      "execution_count": 68,
      "outputs": []
    },
    {
      "cell_type": "markdown",
      "source": [
        "### Label - Offer Accepted"
      ],
      "metadata": {
        "id": "zUDgU56_jjud"
      }
    },
    {
      "cell_type": "code",
      "source": [
        "data['Offer Accepted'].value_counts()"
      ],
      "metadata": {
        "colab": {
          "base_uri": "https://localhost:8080/"
        },
        "id": "lTg4ITwtjpv5",
        "outputId": "7e839692-9788-478f-e386-6e1f781cc547"
      },
      "execution_count": 72,
      "outputs": [
        {
          "output_type": "execute_result",
          "data": {
            "text/plain": [
              "Yes    6994\n",
              "No     5385\n",
              "Name: Offer Accepted, dtype: int64"
            ]
          },
          "metadata": {},
          "execution_count": 72
        }
      ]
    },
    {
      "cell_type": "code",
      "source": [
        "data['Offer Accepted'].replace({'Yes':1, 'No':0}, inplace=True)"
      ],
      "metadata": {
        "id": "wYbAe55OkESk"
      },
      "execution_count": 73,
      "outputs": []
    }
  ]
}