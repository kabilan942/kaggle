{
  "nbformat": 4,
  "nbformat_minor": 0,
  "metadata": {
    "colab": {
      "provenance": [],
      "collapsed_sections": [
        "KZAtK_qE7Jhd",
        "s03__RGDYQYi",
        "r-vC4vD_YVvB",
        "sODNOHjDbx1g",
        "gZRjRlgMd0H8",
        "Y1U38N__fSSz",
        "U2EszHYIf2Q9",
        "JJaW6VasgaOV",
        "pJ2zJ-LqgxoX",
        "_B3SJCu5hiXt",
        "11QrQl3OirlV",
        "8mfEuBTMjCZi",
        "zUDgU56_jjud",
        "KOJlS61sqakj"
      ],
      "authorship_tag": "ABX9TyMQx2uB4q6RaNXscax2nTkf",
      "include_colab_link": true
    },
    "kernelspec": {
      "name": "python3",
      "display_name": "Python 3"
    },
    "language_info": {
      "name": "python"
    }
  },
  "cells": [
    {
      "cell_type": "markdown",
      "metadata": {
        "id": "view-in-github",
        "colab_type": "text"
      },
      "source": [
        "<a href=\"https://colab.research.google.com/github/kabilan942/kaggle/blob/main/MLP_Project.ipynb\" target=\"_parent\"><img src=\"https://colab.research.google.com/assets/colab-badge.svg\" alt=\"Open In Colab\"/></a>"
      ]
    },
    {
      "cell_type": "code",
      "execution_count": 1,
      "metadata": {
        "id": "DdcG8odqIEql"
      },
      "outputs": [],
      "source": [
        "import pandas as pd"
      ]
    },
    {
      "cell_type": "markdown",
      "source": [
        "## Data Loading and Exploration"
      ],
      "metadata": {
        "id": "lwGqLPvViT2v"
      }
    },
    {
      "cell_type": "code",
      "source": [
        "train_data = pd.read_csv('train_data.csv')\n",
        "test_data = pd.read_csv('test_data.csv')"
      ],
      "metadata": {
        "id": "NPPqPYbHKDvM"
      },
      "execution_count": 2,
      "outputs": []
    },
    {
      "cell_type": "code",
      "source": [
        "print('Shape of Train data:', train_data.shape)\n",
        "print('Shape of Test data:', test_data.shape)"
      ],
      "metadata": {
        "colab": {
          "base_uri": "https://localhost:8080/"
        },
        "id": "cuUlKtz4zFCq",
        "outputId": "cc9c07f5-93d8-4215-bea0-18a4a295e3e8"
      },
      "execution_count": 3,
      "outputs": [
        {
          "output_type": "stream",
          "name": "stdout",
          "text": [
            "Shape of Train data: (12379, 31)\n",
            "Shape of Test data: (5305, 30)\n"
          ]
        }
      ]
    },
    {
      "cell_type": "code",
      "source": [
        "train_data.info()"
      ],
      "metadata": {
        "colab": {
          "base_uri": "https://localhost:8080/"
        },
        "id": "IXMV0eoHzMsc",
        "outputId": "385d4bb9-4358-43ac-9fa9-c85b0f451914"
      },
      "execution_count": 4,
      "outputs": [
        {
          "output_type": "stream",
          "name": "stdout",
          "text": [
            "<class 'pandas.core.frame.DataFrame'>\n",
            "RangeIndex: 12379 entries, 0 to 12378\n",
            "Data columns (total 31 columns):\n",
            " #   Column                                Non-Null Count  Dtype \n",
            "---  ------                                --------------  ----- \n",
            " 0   offer expiration                      12379 non-null  object\n",
            " 1   income_range                          12379 non-null  object\n",
            " 2   no_visited_Cold drinks                12181 non-null  object\n",
            " 3   travelled_more_than_15mins_for_offer  12379 non-null  int64 \n",
            " 4   Restaur_spend_less_than20             12258 non-null  object\n",
            " 5   Marital Status                        12379 non-null  object\n",
            " 6   restaurant type                       12379 non-null  object\n",
            " 7   age                                   12379 non-null  object\n",
            " 8   Prefer western over chinese           12379 non-null  int64 \n",
            " 9   travelled_more_than_25mins_for_offer  12379 non-null  int64 \n",
            " 10  travelled_more_than_5mins_for_offer   12379 non-null  int64 \n",
            " 11  no_visited_bars                       12286 non-null  object\n",
            " 12  gender                                12379 non-null  object\n",
            " 13  car                                   111 non-null    object\n",
            " 14  restuarant_same_direction_house       12379 non-null  int64 \n",
            " 15  Cooks regularly                       12379 non-null  int64 \n",
            " 16  Customer type                         12379 non-null  object\n",
            " 17  Qualification                         12379 non-null  object\n",
            " 18  is foodie                             12379 non-null  int64 \n",
            " 19  no_Take-aways                         12235 non-null  object\n",
            " 20  Job/Job Industry                      12379 non-null  object\n",
            " 21  restuarant_opposite_direction_house   12379 non-null  int64 \n",
            " 22  has Children                          12379 non-null  int64 \n",
            " 23  visit restaurant with rating (avg)    12379 non-null  int64 \n",
            " 24  temperature                           12379 non-null  int64 \n",
            " 25  Restaur_spend_greater_than20          12219 non-null  object\n",
            " 26  Travel Time                           12379 non-null  int64 \n",
            " 27  Climate                               12379 non-null  object\n",
            " 28  drop location                         12379 non-null  object\n",
            " 29  Prefer home food                      12379 non-null  int64 \n",
            " 30  Offer Accepted                        12379 non-null  object\n",
            "dtypes: int64(13), object(18)\n",
            "memory usage: 2.9+ MB\n"
          ]
        }
      ]
    },
    {
      "cell_type": "code",
      "source": [
        "test_data.info()"
      ],
      "metadata": {
        "colab": {
          "base_uri": "https://localhost:8080/"
        },
        "id": "jlBigc_HzUcC",
        "outputId": "1d25ec4e-2ef5-442b-e066-b3292d098931"
      },
      "execution_count": 5,
      "outputs": [
        {
          "output_type": "stream",
          "name": "stdout",
          "text": [
            "<class 'pandas.core.frame.DataFrame'>\n",
            "RangeIndex: 5305 entries, 0 to 5304\n",
            "Data columns (total 30 columns):\n",
            " #   Column                                Non-Null Count  Dtype \n",
            "---  ------                                --------------  ----- \n",
            " 0   offer expiration                      5305 non-null   object\n",
            " 1   income_range                          5305 non-null   object\n",
            " 2   no_visited_Cold drinks                5215 non-null   object\n",
            " 3   travelled_more_than_15mins_for_offer  5305 non-null   int64 \n",
            " 4   Restaur_spend_less_than20             5244 non-null   object\n",
            " 5   Marital Status                        5305 non-null   object\n",
            " 6   restaurant type                       5305 non-null   object\n",
            " 7   age                                   5305 non-null   object\n",
            " 8   Prefer western over chinese           5305 non-null   int64 \n",
            " 9   travelled_more_than_25mins_for_offer  5305 non-null   int64 \n",
            " 10  travelled_more_than_5mins_for_offer   5305 non-null   int64 \n",
            " 11  no_visited_bars                       5255 non-null   object\n",
            " 12  gender                                5305 non-null   object\n",
            " 13  car                                   43 non-null     object\n",
            " 14  restuarant_same_direction_house       5305 non-null   int64 \n",
            " 15  Cooks regularly                       5305 non-null   int64 \n",
            " 16  Customer type                         5305 non-null   object\n",
            " 17  Qualification                         5305 non-null   object\n",
            " 18  is foodie                             5305 non-null   int64 \n",
            " 19  no_Take-aways                         5245 non-null   object\n",
            " 20  Job/Job Industry                      5305 non-null   object\n",
            " 21  restuarant_opposite_direction_house   5305 non-null   int64 \n",
            " 22  has Children                          5305 non-null   int64 \n",
            " 23  visit restaurant with rating (avg)    5305 non-null   int64 \n",
            " 24  temperature                           5305 non-null   int64 \n",
            " 25  Restaur_spend_greater_than20          5201 non-null   object\n",
            " 26  Travel Time                           5305 non-null   int64 \n",
            " 27  Climate                               5305 non-null   object\n",
            " 28  drop location                         5305 non-null   object\n",
            " 29  Prefer home food                      5305 non-null   int64 \n",
            "dtypes: int64(13), object(17)\n",
            "memory usage: 1.2+ MB\n"
          ]
        }
      ]
    },
    {
      "cell_type": "code",
      "source": [
        "data = pd.concat([train_data, test_data], ignore_index=True)"
      ],
      "metadata": {
        "id": "GeEyjlRgzXvl"
      },
      "execution_count": 6,
      "outputs": []
    },
    {
      "cell_type": "code",
      "source": [
        "data.shape"
      ],
      "metadata": {
        "colab": {
          "base_uri": "https://localhost:8080/"
        },
        "id": "HPrn-7Jl2Ndh",
        "outputId": "b129020e-b08e-474b-c296-96642832f1f7"
      },
      "execution_count": 7,
      "outputs": [
        {
          "output_type": "execute_result",
          "data": {
            "text/plain": [
              "(17684, 31)"
            ]
          },
          "metadata": {},
          "execution_count": 7
        }
      ]
    },
    {
      "cell_type": "code",
      "source": [
        "data.head()"
      ],
      "metadata": {
        "colab": {
          "base_uri": "https://localhost:8080/",
          "height": 456
        },
        "id": "yD3WVjMT2SXB",
        "outputId": "2ee34547-21eb-4e0f-efc3-90129ef7bf87"
      },
      "execution_count": 8,
      "outputs": [
        {
          "output_type": "execute_result",
          "data": {
            "text/plain": [
              "  offer expiration     income_range no_visited_Cold drinks  \\\n",
              "0            2days  ₹100000 or More                    4~8   \n",
              "1            2days  ₹87500 - ₹99999                    4~8   \n",
              "2            2days  ₹87500 - ₹99999                  less1   \n",
              "3          10hours  ₹37500 - ₹49999                  less1   \n",
              "4            2days  ₹100000 or More                  never   \n",
              "\n",
              "   travelled_more_than_15mins_for_offer Restaur_spend_less_than20  \\\n",
              "0                                     1                     less1   \n",
              "1                                     0                       4~8   \n",
              "2                                     1                       1~3   \n",
              "3                                     0                       1~3   \n",
              "4                                     1                       1~3   \n",
              "\n",
              "    Marital Status       restaurant type     age  Prefer western over chinese  \\\n",
              "0  Married partner     4 star restaurant      36                            0   \n",
              "1  Married partner  Take-away restaurant  50plus                            0   \n",
              "2           Single           Cold drinks      26                            1   \n",
              "3           Single  Take-away restaurant      46                            1   \n",
              "4           Single     4 star restaurant      21                            0   \n",
              "\n",
              "   travelled_more_than_25mins_for_offer  ...  \\\n",
              "0                                     0  ...   \n",
              "1                                     0  ...   \n",
              "2                                     0  ...   \n",
              "3                                     0  ...   \n",
              "4                                     1  ...   \n",
              "\n",
              "   restuarant_opposite_direction_house has Children  \\\n",
              "0                                    0            0   \n",
              "1                                    0            1   \n",
              "2                                    1            1   \n",
              "3                                    0            1   \n",
              "4                                    1            0   \n",
              "\n",
              "  visit restaurant with rating (avg) temperature  \\\n",
              "0                                  4          67   \n",
              "1                                  3          89   \n",
              "2                                  4          67   \n",
              "3                                  3          89   \n",
              "4                                  3          40   \n",
              "\n",
              "   Restaur_spend_greater_than20  Travel Time Climate drop location  \\\n",
              "0                         less1           22  Spring    Location B   \n",
              "1                           1~3           18  Summer    Location B   \n",
              "2                         less1            7  Winter    Location A   \n",
              "3                           1~3            7  Summer    Location C   \n",
              "4                         less1            7  Summer    Location C   \n",
              "\n",
              "   Prefer home food Offer Accepted  \n",
              "0                 0             No  \n",
              "1                 0            Yes  \n",
              "2                 1            Yes  \n",
              "3                 0             No  \n",
              "4                 0             No  \n",
              "\n",
              "[5 rows x 31 columns]"
            ],
            "text/html": [
              "\n",
              "  <div id=\"df-de50eceb-531c-4ccc-94ad-6f0459705c8d\">\n",
              "    <div class=\"colab-df-container\">\n",
              "      <div>\n",
              "<style scoped>\n",
              "    .dataframe tbody tr th:only-of-type {\n",
              "        vertical-align: middle;\n",
              "    }\n",
              "\n",
              "    .dataframe tbody tr th {\n",
              "        vertical-align: top;\n",
              "    }\n",
              "\n",
              "    .dataframe thead th {\n",
              "        text-align: right;\n",
              "    }\n",
              "</style>\n",
              "<table border=\"1\" class=\"dataframe\">\n",
              "  <thead>\n",
              "    <tr style=\"text-align: right;\">\n",
              "      <th></th>\n",
              "      <th>offer expiration</th>\n",
              "      <th>income_range</th>\n",
              "      <th>no_visited_Cold drinks</th>\n",
              "      <th>travelled_more_than_15mins_for_offer</th>\n",
              "      <th>Restaur_spend_less_than20</th>\n",
              "      <th>Marital Status</th>\n",
              "      <th>restaurant type</th>\n",
              "      <th>age</th>\n",
              "      <th>Prefer western over chinese</th>\n",
              "      <th>travelled_more_than_25mins_for_offer</th>\n",
              "      <th>...</th>\n",
              "      <th>restuarant_opposite_direction_house</th>\n",
              "      <th>has Children</th>\n",
              "      <th>visit restaurant with rating (avg)</th>\n",
              "      <th>temperature</th>\n",
              "      <th>Restaur_spend_greater_than20</th>\n",
              "      <th>Travel Time</th>\n",
              "      <th>Climate</th>\n",
              "      <th>drop location</th>\n",
              "      <th>Prefer home food</th>\n",
              "      <th>Offer Accepted</th>\n",
              "    </tr>\n",
              "  </thead>\n",
              "  <tbody>\n",
              "    <tr>\n",
              "      <th>0</th>\n",
              "      <td>2days</td>\n",
              "      <td>₹100000 or More</td>\n",
              "      <td>4~8</td>\n",
              "      <td>1</td>\n",
              "      <td>less1</td>\n",
              "      <td>Married partner</td>\n",
              "      <td>4 star restaurant</td>\n",
              "      <td>36</td>\n",
              "      <td>0</td>\n",
              "      <td>0</td>\n",
              "      <td>...</td>\n",
              "      <td>0</td>\n",
              "      <td>0</td>\n",
              "      <td>4</td>\n",
              "      <td>67</td>\n",
              "      <td>less1</td>\n",
              "      <td>22</td>\n",
              "      <td>Spring</td>\n",
              "      <td>Location B</td>\n",
              "      <td>0</td>\n",
              "      <td>No</td>\n",
              "    </tr>\n",
              "    <tr>\n",
              "      <th>1</th>\n",
              "      <td>2days</td>\n",
              "      <td>₹87500 - ₹99999</td>\n",
              "      <td>4~8</td>\n",
              "      <td>0</td>\n",
              "      <td>4~8</td>\n",
              "      <td>Married partner</td>\n",
              "      <td>Take-away restaurant</td>\n",
              "      <td>50plus</td>\n",
              "      <td>0</td>\n",
              "      <td>0</td>\n",
              "      <td>...</td>\n",
              "      <td>0</td>\n",
              "      <td>1</td>\n",
              "      <td>3</td>\n",
              "      <td>89</td>\n",
              "      <td>1~3</td>\n",
              "      <td>18</td>\n",
              "      <td>Summer</td>\n",
              "      <td>Location B</td>\n",
              "      <td>0</td>\n",
              "      <td>Yes</td>\n",
              "    </tr>\n",
              "    <tr>\n",
              "      <th>2</th>\n",
              "      <td>2days</td>\n",
              "      <td>₹87500 - ₹99999</td>\n",
              "      <td>less1</td>\n",
              "      <td>1</td>\n",
              "      <td>1~3</td>\n",
              "      <td>Single</td>\n",
              "      <td>Cold drinks</td>\n",
              "      <td>26</td>\n",
              "      <td>1</td>\n",
              "      <td>0</td>\n",
              "      <td>...</td>\n",
              "      <td>1</td>\n",
              "      <td>1</td>\n",
              "      <td>4</td>\n",
              "      <td>67</td>\n",
              "      <td>less1</td>\n",
              "      <td>7</td>\n",
              "      <td>Winter</td>\n",
              "      <td>Location A</td>\n",
              "      <td>1</td>\n",
              "      <td>Yes</td>\n",
              "    </tr>\n",
              "    <tr>\n",
              "      <th>3</th>\n",
              "      <td>10hours</td>\n",
              "      <td>₹37500 - ₹49999</td>\n",
              "      <td>less1</td>\n",
              "      <td>0</td>\n",
              "      <td>1~3</td>\n",
              "      <td>Single</td>\n",
              "      <td>Take-away restaurant</td>\n",
              "      <td>46</td>\n",
              "      <td>1</td>\n",
              "      <td>0</td>\n",
              "      <td>...</td>\n",
              "      <td>0</td>\n",
              "      <td>1</td>\n",
              "      <td>3</td>\n",
              "      <td>89</td>\n",
              "      <td>1~3</td>\n",
              "      <td>7</td>\n",
              "      <td>Summer</td>\n",
              "      <td>Location C</td>\n",
              "      <td>0</td>\n",
              "      <td>No</td>\n",
              "    </tr>\n",
              "    <tr>\n",
              "      <th>4</th>\n",
              "      <td>2days</td>\n",
              "      <td>₹100000 or More</td>\n",
              "      <td>never</td>\n",
              "      <td>1</td>\n",
              "      <td>1~3</td>\n",
              "      <td>Single</td>\n",
              "      <td>4 star restaurant</td>\n",
              "      <td>21</td>\n",
              "      <td>0</td>\n",
              "      <td>1</td>\n",
              "      <td>...</td>\n",
              "      <td>1</td>\n",
              "      <td>0</td>\n",
              "      <td>3</td>\n",
              "      <td>40</td>\n",
              "      <td>less1</td>\n",
              "      <td>7</td>\n",
              "      <td>Summer</td>\n",
              "      <td>Location C</td>\n",
              "      <td>0</td>\n",
              "      <td>No</td>\n",
              "    </tr>\n",
              "  </tbody>\n",
              "</table>\n",
              "<p>5 rows × 31 columns</p>\n",
              "</div>\n",
              "      <button class=\"colab-df-convert\" onclick=\"convertToInteractive('df-de50eceb-531c-4ccc-94ad-6f0459705c8d')\"\n",
              "              title=\"Convert this dataframe to an interactive table.\"\n",
              "              style=\"display:none;\">\n",
              "        \n",
              "  <svg xmlns=\"http://www.w3.org/2000/svg\" height=\"24px\"viewBox=\"0 0 24 24\"\n",
              "       width=\"24px\">\n",
              "    <path d=\"M0 0h24v24H0V0z\" fill=\"none\"/>\n",
              "    <path d=\"M18.56 5.44l.94 2.06.94-2.06 2.06-.94-2.06-.94-.94-2.06-.94 2.06-2.06.94zm-11 1L8.5 8.5l.94-2.06 2.06-.94-2.06-.94L8.5 2.5l-.94 2.06-2.06.94zm10 10l.94 2.06.94-2.06 2.06-.94-2.06-.94-.94-2.06-.94 2.06-2.06.94z\"/><path d=\"M17.41 7.96l-1.37-1.37c-.4-.4-.92-.59-1.43-.59-.52 0-1.04.2-1.43.59L10.3 9.45l-7.72 7.72c-.78.78-.78 2.05 0 2.83L4 21.41c.39.39.9.59 1.41.59.51 0 1.02-.2 1.41-.59l7.78-7.78 2.81-2.81c.8-.78.8-2.07 0-2.86zM5.41 20L4 18.59l7.72-7.72 1.47 1.35L5.41 20z\"/>\n",
              "  </svg>\n",
              "      </button>\n",
              "      \n",
              "  <style>\n",
              "    .colab-df-container {\n",
              "      display:flex;\n",
              "      flex-wrap:wrap;\n",
              "      gap: 12px;\n",
              "    }\n",
              "\n",
              "    .colab-df-convert {\n",
              "      background-color: #E8F0FE;\n",
              "      border: none;\n",
              "      border-radius: 50%;\n",
              "      cursor: pointer;\n",
              "      display: none;\n",
              "      fill: #1967D2;\n",
              "      height: 32px;\n",
              "      padding: 0 0 0 0;\n",
              "      width: 32px;\n",
              "    }\n",
              "\n",
              "    .colab-df-convert:hover {\n",
              "      background-color: #E2EBFA;\n",
              "      box-shadow: 0px 1px 2px rgba(60, 64, 67, 0.3), 0px 1px 3px 1px rgba(60, 64, 67, 0.15);\n",
              "      fill: #174EA6;\n",
              "    }\n",
              "\n",
              "    [theme=dark] .colab-df-convert {\n",
              "      background-color: #3B4455;\n",
              "      fill: #D2E3FC;\n",
              "    }\n",
              "\n",
              "    [theme=dark] .colab-df-convert:hover {\n",
              "      background-color: #434B5C;\n",
              "      box-shadow: 0px 1px 3px 1px rgba(0, 0, 0, 0.15);\n",
              "      filter: drop-shadow(0px 1px 2px rgba(0, 0, 0, 0.3));\n",
              "      fill: #FFFFFF;\n",
              "    }\n",
              "  </style>\n",
              "\n",
              "      <script>\n",
              "        const buttonEl =\n",
              "          document.querySelector('#df-de50eceb-531c-4ccc-94ad-6f0459705c8d button.colab-df-convert');\n",
              "        buttonEl.style.display =\n",
              "          google.colab.kernel.accessAllowed ? 'block' : 'none';\n",
              "\n",
              "        async function convertToInteractive(key) {\n",
              "          const element = document.querySelector('#df-de50eceb-531c-4ccc-94ad-6f0459705c8d');\n",
              "          const dataTable =\n",
              "            await google.colab.kernel.invokeFunction('convertToInteractive',\n",
              "                                                     [key], {});\n",
              "          if (!dataTable) return;\n",
              "\n",
              "          const docLinkHtml = 'Like what you see? Visit the ' +\n",
              "            '<a target=\"_blank\" href=https://colab.research.google.com/notebooks/data_table.ipynb>data table notebook</a>'\n",
              "            + ' to learn more about interactive tables.';\n",
              "          element.innerHTML = '';\n",
              "          dataTable['output_type'] = 'display_data';\n",
              "          await google.colab.output.renderOutput(dataTable, element);\n",
              "          const docLink = document.createElement('div');\n",
              "          docLink.innerHTML = docLinkHtml;\n",
              "          element.appendChild(docLink);\n",
              "        }\n",
              "      </script>\n",
              "    </div>\n",
              "  </div>\n",
              "  "
            ]
          },
          "metadata": {},
          "execution_count": 8
        }
      ]
    },
    {
      "cell_type": "code",
      "source": [
        "data.tail()"
      ],
      "metadata": {
        "colab": {
          "base_uri": "https://localhost:8080/",
          "height": 456
        },
        "id": "Mq6wovQl25Ex",
        "outputId": "7c7612af-ca17-40a0-98fa-ee4db5544195"
      },
      "execution_count": 9,
      "outputs": [
        {
          "output_type": "execute_result",
          "data": {
            "text/plain": [
              "      offer expiration     income_range no_visited_Cold drinks  \\\n",
              "17679            2days  ₹25000 - ₹37499                  less1   \n",
              "17680          10hours  ₹62500 - ₹74999                    1~3   \n",
              "17681          10hours  ₹50000 - ₹62499                    gt8   \n",
              "17682            2days  ₹50000 - ₹62499                    1~3   \n",
              "17683            2days  ₹37500 - ₹49999                  less1   \n",
              "\n",
              "       travelled_more_than_15mins_for_offer Restaur_spend_less_than20  \\\n",
              "17679                                     0                     less1   \n",
              "17680                                     0                       4~8   \n",
              "17681                                     1                       4~8   \n",
              "17682                                     1                       1~3   \n",
              "17683                                     0                       1~3   \n",
              "\n",
              "          Marital Status      restaurant type     age  \\\n",
              "17679  Unmarried partner    4 star restaurant      26   \n",
              "17680    Married partner    2 star restaurant      26   \n",
              "17681    Married partner          Cold drinks      36   \n",
              "17682    Married partner  Restaurant with pub      36   \n",
              "17683    Married partner    4 star restaurant  50plus   \n",
              "\n",
              "       Prefer western over chinese  travelled_more_than_25mins_for_offer  ...  \\\n",
              "17679                            0                                     0  ...   \n",
              "17680                            0                                     0  ...   \n",
              "17681                            0                                     0  ...   \n",
              "17682                            1                                     0  ...   \n",
              "17683                            1                                     0  ...   \n",
              "\n",
              "       restuarant_opposite_direction_house has Children  \\\n",
              "17679                                    0            0   \n",
              "17680                                    0            0   \n",
              "17681                                    1            1   \n",
              "17682                                    1            1   \n",
              "17683                                    1            1   \n",
              "\n",
              "      visit restaurant with rating (avg) temperature  \\\n",
              "17679                                  1          67   \n",
              "17680                                  3          89   \n",
              "17681                                  2          67   \n",
              "17682                                  3          89   \n",
              "17683                                  4          89   \n",
              "\n",
              "       Restaur_spend_greater_than20  Travel Time Climate drop location  \\\n",
              "17679                           1~3           18  Summer    Location B   \n",
              "17680                           1~3           18  Summer    Location B   \n",
              "17681                           1~3            7  Summer    Location C   \n",
              "17682                           1~3            7  Summer    Location A   \n",
              "17683                           1~3            7  Winter    Location A   \n",
              "\n",
              "       Prefer home food Offer Accepted  \n",
              "17679                 0            NaN  \n",
              "17680                 1            NaN  \n",
              "17681                 1            NaN  \n",
              "17682                 0            NaN  \n",
              "17683                 0            NaN  \n",
              "\n",
              "[5 rows x 31 columns]"
            ],
            "text/html": [
              "\n",
              "  <div id=\"df-033da9bf-c5ef-45ca-8a85-a8aa8f1f1d7b\">\n",
              "    <div class=\"colab-df-container\">\n",
              "      <div>\n",
              "<style scoped>\n",
              "    .dataframe tbody tr th:only-of-type {\n",
              "        vertical-align: middle;\n",
              "    }\n",
              "\n",
              "    .dataframe tbody tr th {\n",
              "        vertical-align: top;\n",
              "    }\n",
              "\n",
              "    .dataframe thead th {\n",
              "        text-align: right;\n",
              "    }\n",
              "</style>\n",
              "<table border=\"1\" class=\"dataframe\">\n",
              "  <thead>\n",
              "    <tr style=\"text-align: right;\">\n",
              "      <th></th>\n",
              "      <th>offer expiration</th>\n",
              "      <th>income_range</th>\n",
              "      <th>no_visited_Cold drinks</th>\n",
              "      <th>travelled_more_than_15mins_for_offer</th>\n",
              "      <th>Restaur_spend_less_than20</th>\n",
              "      <th>Marital Status</th>\n",
              "      <th>restaurant type</th>\n",
              "      <th>age</th>\n",
              "      <th>Prefer western over chinese</th>\n",
              "      <th>travelled_more_than_25mins_for_offer</th>\n",
              "      <th>...</th>\n",
              "      <th>restuarant_opposite_direction_house</th>\n",
              "      <th>has Children</th>\n",
              "      <th>visit restaurant with rating (avg)</th>\n",
              "      <th>temperature</th>\n",
              "      <th>Restaur_spend_greater_than20</th>\n",
              "      <th>Travel Time</th>\n",
              "      <th>Climate</th>\n",
              "      <th>drop location</th>\n",
              "      <th>Prefer home food</th>\n",
              "      <th>Offer Accepted</th>\n",
              "    </tr>\n",
              "  </thead>\n",
              "  <tbody>\n",
              "    <tr>\n",
              "      <th>17679</th>\n",
              "      <td>2days</td>\n",
              "      <td>₹25000 - ₹37499</td>\n",
              "      <td>less1</td>\n",
              "      <td>0</td>\n",
              "      <td>less1</td>\n",
              "      <td>Unmarried partner</td>\n",
              "      <td>4 star restaurant</td>\n",
              "      <td>26</td>\n",
              "      <td>0</td>\n",
              "      <td>0</td>\n",
              "      <td>...</td>\n",
              "      <td>0</td>\n",
              "      <td>0</td>\n",
              "      <td>1</td>\n",
              "      <td>67</td>\n",
              "      <td>1~3</td>\n",
              "      <td>18</td>\n",
              "      <td>Summer</td>\n",
              "      <td>Location B</td>\n",
              "      <td>0</td>\n",
              "      <td>NaN</td>\n",
              "    </tr>\n",
              "    <tr>\n",
              "      <th>17680</th>\n",
              "      <td>10hours</td>\n",
              "      <td>₹62500 - ₹74999</td>\n",
              "      <td>1~3</td>\n",
              "      <td>0</td>\n",
              "      <td>4~8</td>\n",
              "      <td>Married partner</td>\n",
              "      <td>2 star restaurant</td>\n",
              "      <td>26</td>\n",
              "      <td>0</td>\n",
              "      <td>0</td>\n",
              "      <td>...</td>\n",
              "      <td>0</td>\n",
              "      <td>0</td>\n",
              "      <td>3</td>\n",
              "      <td>89</td>\n",
              "      <td>1~3</td>\n",
              "      <td>18</td>\n",
              "      <td>Summer</td>\n",
              "      <td>Location B</td>\n",
              "      <td>1</td>\n",
              "      <td>NaN</td>\n",
              "    </tr>\n",
              "    <tr>\n",
              "      <th>17681</th>\n",
              "      <td>10hours</td>\n",
              "      <td>₹50000 - ₹62499</td>\n",
              "      <td>gt8</td>\n",
              "      <td>1</td>\n",
              "      <td>4~8</td>\n",
              "      <td>Married partner</td>\n",
              "      <td>Cold drinks</td>\n",
              "      <td>36</td>\n",
              "      <td>0</td>\n",
              "      <td>0</td>\n",
              "      <td>...</td>\n",
              "      <td>1</td>\n",
              "      <td>1</td>\n",
              "      <td>2</td>\n",
              "      <td>67</td>\n",
              "      <td>1~3</td>\n",
              "      <td>7</td>\n",
              "      <td>Summer</td>\n",
              "      <td>Location C</td>\n",
              "      <td>1</td>\n",
              "      <td>NaN</td>\n",
              "    </tr>\n",
              "    <tr>\n",
              "      <th>17682</th>\n",
              "      <td>2days</td>\n",
              "      <td>₹50000 - ₹62499</td>\n",
              "      <td>1~3</td>\n",
              "      <td>1</td>\n",
              "      <td>1~3</td>\n",
              "      <td>Married partner</td>\n",
              "      <td>Restaurant with pub</td>\n",
              "      <td>36</td>\n",
              "      <td>1</td>\n",
              "      <td>0</td>\n",
              "      <td>...</td>\n",
              "      <td>1</td>\n",
              "      <td>1</td>\n",
              "      <td>3</td>\n",
              "      <td>89</td>\n",
              "      <td>1~3</td>\n",
              "      <td>7</td>\n",
              "      <td>Summer</td>\n",
              "      <td>Location A</td>\n",
              "      <td>0</td>\n",
              "      <td>NaN</td>\n",
              "    </tr>\n",
              "    <tr>\n",
              "      <th>17683</th>\n",
              "      <td>2days</td>\n",
              "      <td>₹37500 - ₹49999</td>\n",
              "      <td>less1</td>\n",
              "      <td>0</td>\n",
              "      <td>1~3</td>\n",
              "      <td>Married partner</td>\n",
              "      <td>4 star restaurant</td>\n",
              "      <td>50plus</td>\n",
              "      <td>1</td>\n",
              "      <td>0</td>\n",
              "      <td>...</td>\n",
              "      <td>1</td>\n",
              "      <td>1</td>\n",
              "      <td>4</td>\n",
              "      <td>89</td>\n",
              "      <td>1~3</td>\n",
              "      <td>7</td>\n",
              "      <td>Winter</td>\n",
              "      <td>Location A</td>\n",
              "      <td>0</td>\n",
              "      <td>NaN</td>\n",
              "    </tr>\n",
              "  </tbody>\n",
              "</table>\n",
              "<p>5 rows × 31 columns</p>\n",
              "</div>\n",
              "      <button class=\"colab-df-convert\" onclick=\"convertToInteractive('df-033da9bf-c5ef-45ca-8a85-a8aa8f1f1d7b')\"\n",
              "              title=\"Convert this dataframe to an interactive table.\"\n",
              "              style=\"display:none;\">\n",
              "        \n",
              "  <svg xmlns=\"http://www.w3.org/2000/svg\" height=\"24px\"viewBox=\"0 0 24 24\"\n",
              "       width=\"24px\">\n",
              "    <path d=\"M0 0h24v24H0V0z\" fill=\"none\"/>\n",
              "    <path d=\"M18.56 5.44l.94 2.06.94-2.06 2.06-.94-2.06-.94-.94-2.06-.94 2.06-2.06.94zm-11 1L8.5 8.5l.94-2.06 2.06-.94-2.06-.94L8.5 2.5l-.94 2.06-2.06.94zm10 10l.94 2.06.94-2.06 2.06-.94-2.06-.94-.94-2.06-.94 2.06-2.06.94z\"/><path d=\"M17.41 7.96l-1.37-1.37c-.4-.4-.92-.59-1.43-.59-.52 0-1.04.2-1.43.59L10.3 9.45l-7.72 7.72c-.78.78-.78 2.05 0 2.83L4 21.41c.39.39.9.59 1.41.59.51 0 1.02-.2 1.41-.59l7.78-7.78 2.81-2.81c.8-.78.8-2.07 0-2.86zM5.41 20L4 18.59l7.72-7.72 1.47 1.35L5.41 20z\"/>\n",
              "  </svg>\n",
              "      </button>\n",
              "      \n",
              "  <style>\n",
              "    .colab-df-container {\n",
              "      display:flex;\n",
              "      flex-wrap:wrap;\n",
              "      gap: 12px;\n",
              "    }\n",
              "\n",
              "    .colab-df-convert {\n",
              "      background-color: #E8F0FE;\n",
              "      border: none;\n",
              "      border-radius: 50%;\n",
              "      cursor: pointer;\n",
              "      display: none;\n",
              "      fill: #1967D2;\n",
              "      height: 32px;\n",
              "      padding: 0 0 0 0;\n",
              "      width: 32px;\n",
              "    }\n",
              "\n",
              "    .colab-df-convert:hover {\n",
              "      background-color: #E2EBFA;\n",
              "      box-shadow: 0px 1px 2px rgba(60, 64, 67, 0.3), 0px 1px 3px 1px rgba(60, 64, 67, 0.15);\n",
              "      fill: #174EA6;\n",
              "    }\n",
              "\n",
              "    [theme=dark] .colab-df-convert {\n",
              "      background-color: #3B4455;\n",
              "      fill: #D2E3FC;\n",
              "    }\n",
              "\n",
              "    [theme=dark] .colab-df-convert:hover {\n",
              "      background-color: #434B5C;\n",
              "      box-shadow: 0px 1px 3px 1px rgba(0, 0, 0, 0.15);\n",
              "      filter: drop-shadow(0px 1px 2px rgba(0, 0, 0, 0.3));\n",
              "      fill: #FFFFFF;\n",
              "    }\n",
              "  </style>\n",
              "\n",
              "      <script>\n",
              "        const buttonEl =\n",
              "          document.querySelector('#df-033da9bf-c5ef-45ca-8a85-a8aa8f1f1d7b button.colab-df-convert');\n",
              "        buttonEl.style.display =\n",
              "          google.colab.kernel.accessAllowed ? 'block' : 'none';\n",
              "\n",
              "        async function convertToInteractive(key) {\n",
              "          const element = document.querySelector('#df-033da9bf-c5ef-45ca-8a85-a8aa8f1f1d7b');\n",
              "          const dataTable =\n",
              "            await google.colab.kernel.invokeFunction('convertToInteractive',\n",
              "                                                     [key], {});\n",
              "          if (!dataTable) return;\n",
              "\n",
              "          const docLinkHtml = 'Like what you see? Visit the ' +\n",
              "            '<a target=\"_blank\" href=https://colab.research.google.com/notebooks/data_table.ipynb>data table notebook</a>'\n",
              "            + ' to learn more about interactive tables.';\n",
              "          element.innerHTML = '';\n",
              "          dataTable['output_type'] = 'display_data';\n",
              "          await google.colab.output.renderOutput(dataTable, element);\n",
              "          const docLink = document.createElement('div');\n",
              "          docLink.innerHTML = docLinkHtml;\n",
              "          element.appendChild(docLink);\n",
              "        }\n",
              "      </script>\n",
              "    </div>\n",
              "  </div>\n",
              "  "
            ]
          },
          "metadata": {},
          "execution_count": 9
        }
      ]
    },
    {
      "cell_type": "code",
      "source": [
        "data.info()"
      ],
      "metadata": {
        "colab": {
          "base_uri": "https://localhost:8080/"
        },
        "id": "_WizRzQe3PQ9",
        "outputId": "fc4349db-9120-4363-c918-69fdb7fa3dd9"
      },
      "execution_count": 10,
      "outputs": [
        {
          "output_type": "stream",
          "name": "stdout",
          "text": [
            "<class 'pandas.core.frame.DataFrame'>\n",
            "RangeIndex: 17684 entries, 0 to 17683\n",
            "Data columns (total 31 columns):\n",
            " #   Column                                Non-Null Count  Dtype \n",
            "---  ------                                --------------  ----- \n",
            " 0   offer expiration                      17684 non-null  object\n",
            " 1   income_range                          17684 non-null  object\n",
            " 2   no_visited_Cold drinks                17396 non-null  object\n",
            " 3   travelled_more_than_15mins_for_offer  17684 non-null  int64 \n",
            " 4   Restaur_spend_less_than20             17502 non-null  object\n",
            " 5   Marital Status                        17684 non-null  object\n",
            " 6   restaurant type                       17684 non-null  object\n",
            " 7   age                                   17684 non-null  object\n",
            " 8   Prefer western over chinese           17684 non-null  int64 \n",
            " 9   travelled_more_than_25mins_for_offer  17684 non-null  int64 \n",
            " 10  travelled_more_than_5mins_for_offer   17684 non-null  int64 \n",
            " 11  no_visited_bars                       17541 non-null  object\n",
            " 12  gender                                17684 non-null  object\n",
            " 13  car                                   154 non-null    object\n",
            " 14  restuarant_same_direction_house       17684 non-null  int64 \n",
            " 15  Cooks regularly                       17684 non-null  int64 \n",
            " 16  Customer type                         17684 non-null  object\n",
            " 17  Qualification                         17684 non-null  object\n",
            " 18  is foodie                             17684 non-null  int64 \n",
            " 19  no_Take-aways                         17480 non-null  object\n",
            " 20  Job/Job Industry                      17684 non-null  object\n",
            " 21  restuarant_opposite_direction_house   17684 non-null  int64 \n",
            " 22  has Children                          17684 non-null  int64 \n",
            " 23  visit restaurant with rating (avg)    17684 non-null  int64 \n",
            " 24  temperature                           17684 non-null  int64 \n",
            " 25  Restaur_spend_greater_than20          17420 non-null  object\n",
            " 26  Travel Time                           17684 non-null  int64 \n",
            " 27  Climate                               17684 non-null  object\n",
            " 28  drop location                         17684 non-null  object\n",
            " 29  Prefer home food                      17684 non-null  int64 \n",
            " 30  Offer Accepted                        12379 non-null  object\n",
            "dtypes: int64(13), object(18)\n",
            "memory usage: 4.2+ MB\n"
          ]
        }
      ]
    },
    {
      "cell_type": "code",
      "source": [
        "data.drop(['no_visited_Cold drinks','Restaur_spend_less_than20','no_visited_bars','car','no_Take-aways','Restaur_spend_greater_than20'], axis=1, inplace=True)"
      ],
      "metadata": {
        "id": "FRTofqR93PTm"
      },
      "execution_count": 11,
      "outputs": []
    },
    {
      "cell_type": "code",
      "source": [
        "data.shape"
      ],
      "metadata": {
        "colab": {
          "base_uri": "https://localhost:8080/"
        },
        "id": "o-tWxC-I4LA5",
        "outputId": "cdac495a-42ca-4dc7-cbb6-f6114e116bab"
      },
      "execution_count": 12,
      "outputs": [
        {
          "output_type": "execute_result",
          "data": {
            "text/plain": [
              "(17684, 25)"
            ]
          },
          "metadata": {},
          "execution_count": 12
        }
      ]
    },
    {
      "cell_type": "markdown",
      "source": [
        "0 -> 12378 for train_data\n",
        "12379 -> 17683 for test_data"
      ],
      "metadata": {
        "id": "tvGTQg576v8o"
      }
    },
    {
      "cell_type": "code",
      "source": [
        "data.info()"
      ],
      "metadata": {
        "colab": {
          "base_uri": "https://localhost:8080/"
        },
        "id": "q7BXnQdx4Pba",
        "outputId": "98a15c55-b392-41c1-f905-bc7a6435e19b"
      },
      "execution_count": 13,
      "outputs": [
        {
          "output_type": "stream",
          "name": "stdout",
          "text": [
            "<class 'pandas.core.frame.DataFrame'>\n",
            "RangeIndex: 17684 entries, 0 to 17683\n",
            "Data columns (total 25 columns):\n",
            " #   Column                                Non-Null Count  Dtype \n",
            "---  ------                                --------------  ----- \n",
            " 0   offer expiration                      17684 non-null  object\n",
            " 1   income_range                          17684 non-null  object\n",
            " 2   travelled_more_than_15mins_for_offer  17684 non-null  int64 \n",
            " 3   Marital Status                        17684 non-null  object\n",
            " 4   restaurant type                       17684 non-null  object\n",
            " 5   age                                   17684 non-null  object\n",
            " 6   Prefer western over chinese           17684 non-null  int64 \n",
            " 7   travelled_more_than_25mins_for_offer  17684 non-null  int64 \n",
            " 8   travelled_more_than_5mins_for_offer   17684 non-null  int64 \n",
            " 9   gender                                17684 non-null  object\n",
            " 10  restuarant_same_direction_house       17684 non-null  int64 \n",
            " 11  Cooks regularly                       17684 non-null  int64 \n",
            " 12  Customer type                         17684 non-null  object\n",
            " 13  Qualification                         17684 non-null  object\n",
            " 14  is foodie                             17684 non-null  int64 \n",
            " 15  Job/Job Industry                      17684 non-null  object\n",
            " 16  restuarant_opposite_direction_house   17684 non-null  int64 \n",
            " 17  has Children                          17684 non-null  int64 \n",
            " 18  visit restaurant with rating (avg)    17684 non-null  int64 \n",
            " 19  temperature                           17684 non-null  int64 \n",
            " 20  Travel Time                           17684 non-null  int64 \n",
            " 21  Climate                               17684 non-null  object\n",
            " 22  drop location                         17684 non-null  object\n",
            " 23  Prefer home food                      17684 non-null  int64 \n",
            " 24  Offer Accepted                        12379 non-null  object\n",
            "dtypes: int64(13), object(12)\n",
            "memory usage: 3.4+ MB\n"
          ]
        }
      ]
    },
    {
      "cell_type": "markdown",
      "source": [
        "## Data Preprocessing"
      ],
      "metadata": {
        "id": "KZAtK_qE7Jhd"
      }
    },
    {
      "cell_type": "markdown",
      "source": [
        "### offer expiration"
      ],
      "metadata": {
        "id": "s03__RGDYQYi"
      }
    },
    {
      "cell_type": "code",
      "source": [
        "data['offer expiration'].unique()"
      ],
      "metadata": {
        "id": "PR0zZn9G7Ly4",
        "colab": {
          "base_uri": "https://localhost:8080/"
        },
        "outputId": "a7c619ad-dec8-4510-dadb-9c90a8b69c71"
      },
      "execution_count": 14,
      "outputs": [
        {
          "output_type": "execute_result",
          "data": {
            "text/plain": [
              "array(['2days', '10hours'], dtype=object)"
            ]
          },
          "metadata": {},
          "execution_count": 14
        }
      ]
    },
    {
      "cell_type": "markdown",
      "source": [
        "'10hours' -> 0\n",
        "\n",
        "'2days' -> 1"
      ],
      "metadata": {
        "id": "h3OdsR7hUQd-"
      }
    },
    {
      "cell_type": "code",
      "source": [
        "data['offer expiration'].replace({'10hours':0, '2days':1}, inplace=True)"
      ],
      "metadata": {
        "id": "z2SJzum-Ua_k"
      },
      "execution_count": 18,
      "outputs": []
    },
    {
      "cell_type": "markdown",
      "source": [
        "The keys are replaced by their corresponding values in the column of the dataframe"
      ],
      "metadata": {
        "id": "nHuYocN6bBZ7"
      }
    },
    {
      "cell_type": "code",
      "source": [
        "data['offer expiration'].head()"
      ],
      "metadata": {
        "id": "gZxumUY16jmd",
        "colab": {
          "base_uri": "https://localhost:8080/"
        },
        "outputId": "c8c4f7b0-0b41-4f72-f43e-5fdc42542ecc"
      },
      "execution_count": 23,
      "outputs": [
        {
          "output_type": "execute_result",
          "data": {
            "text/plain": [
              "0    1\n",
              "1    1\n",
              "2    1\n",
              "3    0\n",
              "4    1\n",
              "Name: offer expiration, dtype: int64"
            ]
          },
          "metadata": {},
          "execution_count": 23
        }
      ]
    },
    {
      "cell_type": "markdown",
      "source": [
        "### income_range"
      ],
      "metadata": {
        "id": "r-vC4vD_YVvB"
      }
    },
    {
      "cell_type": "code",
      "source": [
        "data['income_range'].value_counts()"
      ],
      "metadata": {
        "colab": {
          "base_uri": "https://localhost:8080/"
        },
        "id": "cM9Ypdv6Z_oT",
        "outputId": "61936efd-cde1-496e-d7e9-9ff4aef79ded"
      },
      "execution_count": 28,
      "outputs": [
        {
          "output_type": "execute_result",
          "data": {
            "text/plain": [
              "₹25000 - ₹37499     2860\n",
              "₹12500 - ₹24999     2534\n",
              "₹37500 - ₹49999     2492\n",
              "₹100000 or More     2397\n",
              "₹50000 - ₹62499     2276\n",
              "Less than ₹12500    1485\n",
              "₹87500 - ₹99999     1259\n",
              "₹75000 - ₹87499     1202\n",
              "₹62500 - ₹74999     1179\n",
              "Name: income_range, dtype: int64"
            ]
          },
          "metadata": {},
          "execution_count": 28
        }
      ]
    },
    {
      "cell_type": "code",
      "source": [
        "data['income_range'].replace({'Less than ₹12500':0, '₹12500 - ₹24999':1, '₹25000 - ₹37499':2, '₹37500 - ₹49999':3, '₹50000 - ₹62499':4, '₹62500 - ₹74999':5,\n",
        "                              '₹75000 - ₹87499':6, '₹87500 - ₹99999':7, '₹100000 or More':8 }, inplace=True)"
      ],
      "metadata": {
        "id": "L5AlFHfJaFMM"
      },
      "execution_count": 29,
      "outputs": []
    },
    {
      "cell_type": "code",
      "source": [
        "data['income_range'].head()"
      ],
      "metadata": {
        "colab": {
          "base_uri": "https://localhost:8080/"
        },
        "id": "_9WjgsXbaFOb",
        "outputId": "c2fa9bd3-48b3-4952-d35f-736970052ec9"
      },
      "execution_count": 30,
      "outputs": [
        {
          "output_type": "execute_result",
          "data": {
            "text/plain": [
              "0    8\n",
              "1    7\n",
              "2    7\n",
              "3    3\n",
              "4    8\n",
              "Name: income_range, dtype: int64"
            ]
          },
          "metadata": {},
          "execution_count": 30
        }
      ]
    },
    {
      "cell_type": "markdown",
      "source": [
        "### Marital Status"
      ],
      "metadata": {
        "id": "sODNOHjDbx1g"
      }
    },
    {
      "cell_type": "code",
      "source": [
        "data['Marital Status'].value_counts()"
      ],
      "metadata": {
        "colab": {
          "base_uri": "https://localhost:8080/"
        },
        "id": "MLYyerRCcMNa",
        "outputId": "6d2f5b4c-ba07-486c-cfee-107199156969"
      },
      "execution_count": 33,
      "outputs": [
        {
          "output_type": "execute_result",
          "data": {
            "text/plain": [
              "Married partner      7085\n",
              "Single               6675\n",
              "Unmarried partner    3031\n",
              "Divorced              718\n",
              "Widowed               175\n",
              "Name: Marital Status, dtype: int64"
            ]
          },
          "metadata": {},
          "execution_count": 33
        }
      ]
    },
    {
      "cell_type": "code",
      "source": [
        "data['Marital Status'][:5]"
      ],
      "metadata": {
        "colab": {
          "base_uri": "https://localhost:8080/"
        },
        "id": "9MO1iyOxdUug",
        "outputId": "7d73f7d4-1a17-46a2-dbe1-38bc2290677e"
      },
      "execution_count": 34,
      "outputs": [
        {
          "output_type": "execute_result",
          "data": {
            "text/plain": [
              "0    Married partner\n",
              "1    Married partner\n",
              "2             Single\n",
              "3             Single\n",
              "4             Single\n",
              "Name: Marital Status, dtype: object"
            ]
          },
          "metadata": {},
          "execution_count": 34
        }
      ]
    },
    {
      "cell_type": "code",
      "source": [
        "data['Marital Status'].replace({'Married partner':0, 'Single':1, 'Unmarried partner':2, 'Divorced':3, 'Widowed':4}, inplace=True)"
      ],
      "metadata": {
        "id": "tgrP-UPpdWkE"
      },
      "execution_count": 36,
      "outputs": []
    },
    {
      "cell_type": "code",
      "source": [
        "data['Marital Status'][:5]"
      ],
      "metadata": {
        "colab": {
          "base_uri": "https://localhost:8080/"
        },
        "id": "L-zKkzcUduEf",
        "outputId": "68e1ded7-f3c2-4d74-f34c-defa45b6ef8f"
      },
      "execution_count": 37,
      "outputs": [
        {
          "output_type": "execute_result",
          "data": {
            "text/plain": [
              "0    0\n",
              "1    0\n",
              "2    1\n",
              "3    1\n",
              "4    1\n",
              "Name: Marital Status, dtype: int64"
            ]
          },
          "metadata": {},
          "execution_count": 37
        }
      ]
    },
    {
      "cell_type": "markdown",
      "source": [
        "### restaurant type"
      ],
      "metadata": {
        "id": "gZRjRlgMd0H8"
      }
    },
    {
      "cell_type": "code",
      "source": [
        "data['restaurant type'].value_counts()"
      ],
      "metadata": {
        "colab": {
          "base_uri": "https://localhost:8080/"
        },
        "id": "AC-kbycadUxP",
        "outputId": "a02d0581-c234-498d-a3d3-6353f50b04e2"
      },
      "execution_count": 38,
      "outputs": [
        {
          "output_type": "execute_result",
          "data": {
            "text/plain": [
              "Cold drinks             4957\n",
              "2 star restaurant       3792\n",
              "Take-away restaurant    3374\n",
              "4 star restaurant       3108\n",
              "Restaurant with pub     2453\n",
              "Name: restaurant type, dtype: int64"
            ]
          },
          "metadata": {},
          "execution_count": 38
        }
      ]
    },
    {
      "cell_type": "code",
      "source": [
        "data['restaurant type'][:7]"
      ],
      "metadata": {
        "colab": {
          "base_uri": "https://localhost:8080/"
        },
        "id": "hTSND6JwdUzr",
        "outputId": "f688a7d4-1036-44ff-c945-373a1c65162a"
      },
      "execution_count": 39,
      "outputs": [
        {
          "output_type": "execute_result",
          "data": {
            "text/plain": [
              "0       4 star restaurant\n",
              "1    Take-away restaurant\n",
              "2             Cold drinks\n",
              "3    Take-away restaurant\n",
              "4       4 star restaurant\n",
              "5    Take-away restaurant\n",
              "6             Cold drinks\n",
              "Name: restaurant type, dtype: object"
            ]
          },
          "metadata": {},
          "execution_count": 39
        }
      ]
    },
    {
      "cell_type": "code",
      "source": [
        "data['restaurant type'].replace({'Cold drinks':0, '2 star restaurant':1, 'Take-away restaurant':2, '4 star restaurant':3, \n",
        "                                 'Restaurant with pub':4}, inplace=True)"
      ],
      "metadata": {
        "id": "16o3fZK2eIio"
      },
      "execution_count": 40,
      "outputs": []
    },
    {
      "cell_type": "code",
      "source": [
        "data['restaurant type'][:7]"
      ],
      "metadata": {
        "colab": {
          "base_uri": "https://localhost:8080/"
        },
        "id": "awlmDSlWeaTs",
        "outputId": "fe4b6f7c-e345-44f1-8fff-3617fc683eb9"
      },
      "execution_count": 42,
      "outputs": [
        {
          "output_type": "execute_result",
          "data": {
            "text/plain": [
              "0    3\n",
              "1    2\n",
              "2    0\n",
              "3    2\n",
              "4    3\n",
              "5    2\n",
              "6    0\n",
              "Name: restaurant type, dtype: int64"
            ]
          },
          "metadata": {},
          "execution_count": 42
        }
      ]
    },
    {
      "cell_type": "markdown",
      "source": [
        "### age"
      ],
      "metadata": {
        "id": "Y1U38N__fSSz"
      }
    },
    {
      "cell_type": "code",
      "source": [
        "data['age'].value_counts()"
      ],
      "metadata": {
        "colab": {
          "base_uri": "https://localhost:8080/"
        },
        "id": "Rx4J-rTFfWP1",
        "outputId": "c9d95f76-5eb8-4bb5-f7ec-4d23204eea9f"
      },
      "execution_count": 43,
      "outputs": [
        {
          "output_type": "execute_result",
          "data": {
            "text/plain": [
              "21         3717\n",
              "26         3622\n",
              "31         2785\n",
              "50plus     2528\n",
              "36         1809\n",
              "41         1497\n",
              "46          967\n",
              "below21     759\n",
              "Name: age, dtype: int64"
            ]
          },
          "metadata": {},
          "execution_count": 43
        }
      ]
    },
    {
      "cell_type": "code",
      "source": [
        "data['age'].replace({'below21':18, '50plus':53}, inplace=True)"
      ],
      "metadata": {
        "id": "K2nsGjBIfYQ_"
      },
      "execution_count": 44,
      "outputs": []
    },
    {
      "cell_type": "code",
      "source": [
        "data['age'][:5]"
      ],
      "metadata": {
        "colab": {
          "base_uri": "https://localhost:8080/"
        },
        "id": "BKHRojX6fzhn",
        "outputId": "d48c7a1c-ca37-4ebb-fade-1c953a434a7f"
      },
      "execution_count": 45,
      "outputs": [
        {
          "output_type": "execute_result",
          "data": {
            "text/plain": [
              "0    36\n",
              "1    53\n",
              "2    26\n",
              "3    46\n",
              "4    21\n",
              "Name: age, dtype: object"
            ]
          },
          "metadata": {},
          "execution_count": 45
        }
      ]
    },
    {
      "cell_type": "markdown",
      "source": [
        "### gender"
      ],
      "metadata": {
        "id": "U2EszHYIf2Q9"
      }
    },
    {
      "cell_type": "code",
      "source": [
        "data['gender'].value_counts()"
      ],
      "metadata": {
        "colab": {
          "base_uri": "https://localhost:8080/"
        },
        "id": "aZpzn3Kjf--K",
        "outputId": "48b974d1-f24f-44d6-b646-2f150a9569ee"
      },
      "execution_count": 46,
      "outputs": [
        {
          "output_type": "execute_result",
          "data": {
            "text/plain": [
              "Female    9037\n",
              "Male      8647\n",
              "Name: gender, dtype: int64"
            ]
          },
          "metadata": {},
          "execution_count": 46
        }
      ]
    },
    {
      "cell_type": "code",
      "source": [
        "data['gender'][:5]"
      ],
      "metadata": {
        "colab": {
          "base_uri": "https://localhost:8080/"
        },
        "id": "R1YW0JTrgCB_",
        "outputId": "3f9601dc-71c0-49b0-cb2e-9e8dabde08c6"
      },
      "execution_count": 47,
      "outputs": [
        {
          "output_type": "execute_result",
          "data": {
            "text/plain": [
              "0    Female\n",
              "1    Female\n",
              "2    Female\n",
              "3      Male\n",
              "4    Female\n",
              "Name: gender, dtype: object"
            ]
          },
          "metadata": {},
          "execution_count": 47
        }
      ]
    },
    {
      "cell_type": "code",
      "source": [
        "data['gender'].replace({'Female':0, 'Male':1}, inplace=True)"
      ],
      "metadata": {
        "id": "oRjtMp9ef_B8"
      },
      "execution_count": 48,
      "outputs": []
    },
    {
      "cell_type": "code",
      "source": [
        "data['gender'][:5]"
      ],
      "metadata": {
        "colab": {
          "base_uri": "https://localhost:8080/"
        },
        "id": "1xalZ9IRf_EL",
        "outputId": "6a316bbe-1696-46ac-d065-0afa3701e7dc"
      },
      "execution_count": 49,
      "outputs": [
        {
          "output_type": "execute_result",
          "data": {
            "text/plain": [
              "0    0\n",
              "1    0\n",
              "2    0\n",
              "3    1\n",
              "4    0\n",
              "Name: gender, dtype: int64"
            ]
          },
          "metadata": {},
          "execution_count": 49
        }
      ]
    },
    {
      "cell_type": "markdown",
      "source": [
        "### Customer type"
      ],
      "metadata": {
        "id": "JJaW6VasgaOV"
      }
    },
    {
      "cell_type": "code",
      "source": [
        "data['Customer type'].value_counts()"
      ],
      "metadata": {
        "colab": {
          "base_uri": "https://localhost:8080/"
        },
        "id": "xW0mleRHga8w",
        "outputId": "175d3cfe-09f9-44e4-f129-b1a4c7b05c0d"
      },
      "execution_count": 50,
      "outputs": [
        {
          "output_type": "execute_result",
          "data": {
            "text/plain": [
              "Individual         8497\n",
              "With Colleagues    4513\n",
              "With Family        2374\n",
              "With Kids          2300\n",
              "Name: Customer type, dtype: int64"
            ]
          },
          "metadata": {},
          "execution_count": 50
        }
      ]
    },
    {
      "cell_type": "code",
      "source": [
        "data['Customer type'].replace({'Individual':0, 'With Colleagues':1, 'With Family':2, 'With Kids':3}, inplace=True)"
      ],
      "metadata": {
        "id": "9GybeokDgddw"
      },
      "execution_count": 51,
      "outputs": []
    },
    {
      "cell_type": "markdown",
      "source": [
        "### Qualification"
      ],
      "metadata": {
        "id": "pJ2zJ-LqgxoX"
      }
    },
    {
      "cell_type": "code",
      "source": [
        "data['Qualification'].value_counts()"
      ],
      "metadata": {
        "colab": {
          "base_uri": "https://localhost:8080/"
        },
        "id": "XOWO0Maog08x",
        "outputId": "6c90cc62-37cc-440c-a53c-c9668ccfa308"
      },
      "execution_count": 53,
      "outputs": [
        {
          "output_type": "execute_result",
          "data": {
            "text/plain": [
              "Some college - no degree                  6068\n",
              "Bachelors degree                          6039\n",
              "Graduate degree (Masters or Doctorate)    2582\n",
              "Associates degree                         1610\n",
              "High School Graduate                      1258\n",
              "Some High School                           127\n",
              "Name: Qualification, dtype: int64"
            ]
          },
          "metadata": {},
          "execution_count": 53
        }
      ]
    },
    {
      "cell_type": "code",
      "source": [
        "data['Qualification'][:7]"
      ],
      "metadata": {
        "colab": {
          "base_uri": "https://localhost:8080/"
        },
        "id": "awfGnnJOg0-z",
        "outputId": "e343d3ca-2414-4870-d71a-4f7b9338ddc5"
      },
      "execution_count": 54,
      "outputs": [
        {
          "output_type": "execute_result",
          "data": {
            "text/plain": [
              "0            Bachelors degree\n",
              "1            Bachelors degree\n",
              "2            Bachelors degree\n",
              "3    Some college - no degree\n",
              "4    Some college - no degree\n",
              "5            Bachelors degree\n",
              "6    Some college - no degree\n",
              "Name: Qualification, dtype: object"
            ]
          },
          "metadata": {},
          "execution_count": 54
        }
      ]
    },
    {
      "cell_type": "code",
      "source": [
        "data['Qualification'].replace({'Some college - no degree':0, 'Bachelors degree':1, 'Graduate degree (Masters or Doctorate)':2,\n",
        "                               'Associates degree':3, 'High School Graduate':4, 'Some High School':5}, inplace=True)"
      ],
      "metadata": {
        "id": "Liq47nbLg1A9"
      },
      "execution_count": 57,
      "outputs": []
    },
    {
      "cell_type": "code",
      "source": [
        "data['Qualification'][:7]"
      ],
      "metadata": {
        "colab": {
          "base_uri": "https://localhost:8080/"
        },
        "id": "5UWbE23ChSvU",
        "outputId": "dfdd59e1-2cfb-41a8-ef54-334bcf5d2f16"
      },
      "execution_count": 58,
      "outputs": [
        {
          "output_type": "execute_result",
          "data": {
            "text/plain": [
              "0    1\n",
              "1    1\n",
              "2    1\n",
              "3    0\n",
              "4    0\n",
              "5    1\n",
              "6    0\n",
              "Name: Qualification, dtype: int64"
            ]
          },
          "metadata": {},
          "execution_count": 58
        }
      ]
    },
    {
      "cell_type": "markdown",
      "source": [
        "### Job/Job Industry"
      ],
      "metadata": {
        "id": "_B3SJCu5hiXt"
      }
    },
    {
      "cell_type": "code",
      "source": [
        "data['Job/Job Industry'].value_counts()"
      ],
      "metadata": {
        "colab": {
          "base_uri": "https://localhost:8080/"
        },
        "id": "RD-T_YethjBj",
        "outputId": "face8f19-a3b9-400f-e784-951b7744a3c7"
      },
      "execution_count": 59,
      "outputs": [
        {
          "output_type": "execute_result",
          "data": {
            "text/plain": [
              "Unemployed                                   2629\n",
              "Student                                      2205\n",
              "Computer & Mathematical                      1946\n",
              "Sales & Related                              1524\n",
              "Education&Training&Library                   1311\n",
              "Management                                   1176\n",
              "Office & Administrative Support               903\n",
              "Arts Design Entertainment Sports & Media      898\n",
              "Business & Financial                          739\n",
              "Retired                                       664\n",
              "Food Preparation & Serving Related            403\n",
              "Community & Social Services                   346\n",
              "Healthcare Practitioners & Technical          339\n",
              "Healthcare Support                            332\n",
              "Transportation & Material Moving              316\n",
              "Legal                                         311\n",
              "Life Physical Social Science                  247\n",
              "Protective Service                            243\n",
              "Architecture & Engineering                    241\n",
              "Personal Care & Service                       232\n",
              "Construction & Extraction                     208\n",
              "Installation Maintenance & Repair             197\n",
              "Production Occupations                        158\n",
              "Building & Grounds Cleaning & Maintenance      59\n",
              "Farming Fishing & Forestry                     57\n",
              "Name: Job/Job Industry, dtype: int64"
            ]
          },
          "metadata": {},
          "execution_count": 59
        }
      ]
    },
    {
      "cell_type": "markdown",
      "source": [
        "Removing this column:"
      ],
      "metadata": {
        "id": "ZHvLw99jhro6"
      }
    },
    {
      "cell_type": "code",
      "source": [
        "data.drop(['Job/Job Industry'], axis=1, inplace=True)"
      ],
      "metadata": {
        "id": "YxF-vXcchmHW"
      },
      "execution_count": 60,
      "outputs": []
    },
    {
      "cell_type": "code",
      "source": [
        "data.shape"
      ],
      "metadata": {
        "colab": {
          "base_uri": "https://localhost:8080/"
        },
        "id": "oyv2pS6nhjDw",
        "outputId": "1666142b-51c3-4b6f-957d-2a9c1b2b8ea1"
      },
      "execution_count": 61,
      "outputs": [
        {
          "output_type": "execute_result",
          "data": {
            "text/plain": [
              "(17684, 24)"
            ]
          },
          "metadata": {},
          "execution_count": 61
        }
      ]
    },
    {
      "cell_type": "markdown",
      "source": [
        "### Climate"
      ],
      "metadata": {
        "id": "11QrQl3OirlV"
      }
    },
    {
      "cell_type": "code",
      "source": [
        "data['Climate'].value_counts()"
      ],
      "metadata": {
        "colab": {
          "base_uri": "https://localhost:8080/"
        },
        "id": "Kxc7wBkpih40",
        "outputId": "6be6789f-2ac0-484f-925b-450e69306957"
      },
      "execution_count": 65,
      "outputs": [
        {
          "output_type": "execute_result",
          "data": {
            "text/plain": [
              "Summer    11520\n",
              "Spring     3114\n",
              "Winter     3050\n",
              "Name: Climate, dtype: int64"
            ]
          },
          "metadata": {},
          "execution_count": 65
        }
      ]
    },
    {
      "cell_type": "code",
      "source": [
        "data['Climate'].replace({'Summer':0, 'Spring':1, 'Winter':2}, inplace=True)"
      ],
      "metadata": {
        "id": "G6hp0T9giusw"
      },
      "execution_count": 66,
      "outputs": []
    },
    {
      "cell_type": "markdown",
      "source": [
        "### drop location"
      ],
      "metadata": {
        "id": "8mfEuBTMjCZi"
      }
    },
    {
      "cell_type": "code",
      "source": [
        "data['drop location'].value_counts()"
      ],
      "metadata": {
        "colab": {
          "base_uri": "https://localhost:8080/"
        },
        "id": "fFMcfm7UjHIE",
        "outputId": "e317dbf0-4f3c-40b9-aa62-49e4580f08ef"
      },
      "execution_count": 67,
      "outputs": [
        {
          "output_type": "execute_result",
          "data": {
            "text/plain": [
              "Location A    7934\n",
              "Location B    4900\n",
              "Location C    4850\n",
              "Name: drop location, dtype: int64"
            ]
          },
          "metadata": {},
          "execution_count": 67
        }
      ]
    },
    {
      "cell_type": "code",
      "source": [
        "data['drop location'].replace({'Location A':0, 'Location B':1, 'Location C':2}, inplace=True)"
      ],
      "metadata": {
        "id": "fkOKLg5ujLD3"
      },
      "execution_count": 68,
      "outputs": []
    },
    {
      "cell_type": "markdown",
      "source": [
        "### Label - Offer Accepted"
      ],
      "metadata": {
        "id": "zUDgU56_jjud"
      }
    },
    {
      "cell_type": "code",
      "source": [
        "data['Offer Accepted'].value_counts()"
      ],
      "metadata": {
        "colab": {
          "base_uri": "https://localhost:8080/"
        },
        "id": "lTg4ITwtjpv5",
        "outputId": "7e839692-9788-478f-e386-6e1f781cc547"
      },
      "execution_count": 72,
      "outputs": [
        {
          "output_type": "execute_result",
          "data": {
            "text/plain": [
              "Yes    6994\n",
              "No     5385\n",
              "Name: Offer Accepted, dtype: int64"
            ]
          },
          "metadata": {},
          "execution_count": 72
        }
      ]
    },
    {
      "cell_type": "code",
      "source": [
        "data['Offer Accepted'].replace({'Yes':1, 'No':0}, inplace=True)"
      ],
      "metadata": {
        "id": "wYbAe55OkESk"
      },
      "execution_count": 73,
      "outputs": []
    },
    {
      "cell_type": "markdown",
      "source": [
        "### Scaling of features"
      ],
      "metadata": {
        "id": "KOJlS61sqakj"
      }
    },
    {
      "cell_type": "code",
      "source": [
        "from sklearn.preprocessing import MinMaxScaler\n",
        "\n",
        "mms = MinMaxScaler()"
      ],
      "metadata": {
        "id": "zD9HHqI2qgUx"
      },
      "execution_count": 109,
      "outputs": []
    },
    {
      "cell_type": "code",
      "source": [
        "age_np = data['age'].to_numpy()\n",
        "age_np_scaled = mms.fit_transform(age_np.reshape(-1,1))"
      ],
      "metadata": {
        "id": "tNaod-Waqvb-"
      },
      "execution_count": 111,
      "outputs": []
    },
    {
      "cell_type": "code",
      "source": [
        "age_series = pd.Series(age_np_scaled.reshape(-1,), index=data.index.values)"
      ],
      "metadata": {
        "id": "QLaMhtb0qgYD"
      },
      "execution_count": 115,
      "outputs": []
    },
    {
      "cell_type": "code",
      "source": [
        "data['age'] = age_series"
      ],
      "metadata": {
        "id": "NjYeMaBTrxUG"
      },
      "execution_count": 120,
      "outputs": []
    },
    {
      "cell_type": "code",
      "source": [
        "visit_restaurant_np = data['visit restaurant with rating (avg)'].to_numpy()\n",
        "temperature_np = data['temperature'].to_numpy()\n",
        "travel_time_np = data['Travel Time'].to_numpy()"
      ],
      "metadata": {
        "id": "C_Wsd2pSr92X"
      },
      "execution_count": 129,
      "outputs": []
    },
    {
      "cell_type": "code",
      "source": [
        "vist_restaurent_scaled = mms.fit_transform(visit_restaurant_np.reshape(-1,1))\n",
        "temperature_scaled = mms.fit_transform(temperature_np.reshape(-1,1))\n",
        "travel_time_scaled = mms.fit_transform(travel_time_np.reshape(-1,1))"
      ],
      "metadata": {
        "id": "50lOpXdYr-E_"
      },
      "execution_count": 130,
      "outputs": []
    },
    {
      "cell_type": "code",
      "source": [
        "vist_restaurent_series = pd.Series(vist_restaurent_scaled.reshape(-1,), index=data.index.values)\n",
        "temperature_series = pd.Series(temperature_scaled.reshape(-1,), index=data.index.values)\n",
        "travel_time_series = pd.Series(travel_time_scaled.reshape(-1,), index=data.index.values)"
      ],
      "metadata": {
        "id": "oZ0Dt2Wvr-Vb"
      },
      "execution_count": 131,
      "outputs": []
    },
    {
      "cell_type": "code",
      "source": [
        "data['visit restaurant with rating (avg)'] = vist_restaurent_series\n",
        "data['temperature'] = temperature_series\n",
        "data['Travel Time'] = travel_time_series"
      ],
      "metadata": {
        "id": "Wurfq4TSt9pd"
      },
      "execution_count": 132,
      "outputs": []
    },
    {
      "cell_type": "code",
      "source": [
        "data.head()"
      ],
      "metadata": {
        "colab": {
          "base_uri": "https://localhost:8080/",
          "height": 369
        },
        "id": "U828YsGhuTd9",
        "outputId": "289dfb15-774d-4b62-dc4e-7ee5e6849a65"
      },
      "execution_count": 133,
      "outputs": [
        {
          "output_type": "execute_result",
          "data": {
            "text/plain": [
              "   offer expiration  income_range  travelled_more_than_15mins_for_offer  \\\n",
              "0                 1             8                                     1   \n",
              "1                 1             7                                     0   \n",
              "2                 1             7                                     1   \n",
              "3                 0             3                                     0   \n",
              "4                 1             8                                     1   \n",
              "\n",
              "   Marital Status  restaurant type       age  Prefer western over chinese  \\\n",
              "0               0                3  0.514286                            0   \n",
              "1               0                2  1.000000                            0   \n",
              "2               1                0  0.228571                            1   \n",
              "3               1                2  0.800000                            1   \n",
              "4               1                3  0.085714                            0   \n",
              "\n",
              "   travelled_more_than_25mins_for_offer  travelled_more_than_5mins_for_offer  \\\n",
              "0                                     0                                    1   \n",
              "1                                     0                                    1   \n",
              "2                                     0                                    1   \n",
              "3                                     0                                    1   \n",
              "4                                     1                                    1   \n",
              "\n",
              "   gender  ...  is foodie  restuarant_opposite_direction_house  has Children  \\\n",
              "0       0  ...          0                                    0             0   \n",
              "1       0  ...          0                                    0             1   \n",
              "2       0  ...          1                                    1             1   \n",
              "3       1  ...          1                                    0             1   \n",
              "4       0  ...          1                                    1             0   \n",
              "\n",
              "   visit restaurant with rating (avg)  temperature  Travel Time  Climate  \\\n",
              "0                                1.00      0.55102     1.000000        1   \n",
              "1                                0.75      1.00000     0.733333        0   \n",
              "2                                1.00      0.55102     0.000000        2   \n",
              "3                                0.75      1.00000     0.000000        0   \n",
              "4                                0.75      0.00000     0.000000        0   \n",
              "\n",
              "   drop location  Prefer home food  Offer Accepted  \n",
              "0              1                 0             0.0  \n",
              "1              1                 0             1.0  \n",
              "2              0                 1             1.0  \n",
              "3              2                 0             0.0  \n",
              "4              2                 0             0.0  \n",
              "\n",
              "[5 rows x 24 columns]"
            ],
            "text/html": [
              "\n",
              "  <div id=\"df-2f6b2a03-9bec-415a-99dc-2c3e30ae49db\">\n",
              "    <div class=\"colab-df-container\">\n",
              "      <div>\n",
              "<style scoped>\n",
              "    .dataframe tbody tr th:only-of-type {\n",
              "        vertical-align: middle;\n",
              "    }\n",
              "\n",
              "    .dataframe tbody tr th {\n",
              "        vertical-align: top;\n",
              "    }\n",
              "\n",
              "    .dataframe thead th {\n",
              "        text-align: right;\n",
              "    }\n",
              "</style>\n",
              "<table border=\"1\" class=\"dataframe\">\n",
              "  <thead>\n",
              "    <tr style=\"text-align: right;\">\n",
              "      <th></th>\n",
              "      <th>offer expiration</th>\n",
              "      <th>income_range</th>\n",
              "      <th>travelled_more_than_15mins_for_offer</th>\n",
              "      <th>Marital Status</th>\n",
              "      <th>restaurant type</th>\n",
              "      <th>age</th>\n",
              "      <th>Prefer western over chinese</th>\n",
              "      <th>travelled_more_than_25mins_for_offer</th>\n",
              "      <th>travelled_more_than_5mins_for_offer</th>\n",
              "      <th>gender</th>\n",
              "      <th>...</th>\n",
              "      <th>is foodie</th>\n",
              "      <th>restuarant_opposite_direction_house</th>\n",
              "      <th>has Children</th>\n",
              "      <th>visit restaurant with rating (avg)</th>\n",
              "      <th>temperature</th>\n",
              "      <th>Travel Time</th>\n",
              "      <th>Climate</th>\n",
              "      <th>drop location</th>\n",
              "      <th>Prefer home food</th>\n",
              "      <th>Offer Accepted</th>\n",
              "    </tr>\n",
              "  </thead>\n",
              "  <tbody>\n",
              "    <tr>\n",
              "      <th>0</th>\n",
              "      <td>1</td>\n",
              "      <td>8</td>\n",
              "      <td>1</td>\n",
              "      <td>0</td>\n",
              "      <td>3</td>\n",
              "      <td>0.514286</td>\n",
              "      <td>0</td>\n",
              "      <td>0</td>\n",
              "      <td>1</td>\n",
              "      <td>0</td>\n",
              "      <td>...</td>\n",
              "      <td>0</td>\n",
              "      <td>0</td>\n",
              "      <td>0</td>\n",
              "      <td>1.00</td>\n",
              "      <td>0.55102</td>\n",
              "      <td>1.000000</td>\n",
              "      <td>1</td>\n",
              "      <td>1</td>\n",
              "      <td>0</td>\n",
              "      <td>0.0</td>\n",
              "    </tr>\n",
              "    <tr>\n",
              "      <th>1</th>\n",
              "      <td>1</td>\n",
              "      <td>7</td>\n",
              "      <td>0</td>\n",
              "      <td>0</td>\n",
              "      <td>2</td>\n",
              "      <td>1.000000</td>\n",
              "      <td>0</td>\n",
              "      <td>0</td>\n",
              "      <td>1</td>\n",
              "      <td>0</td>\n",
              "      <td>...</td>\n",
              "      <td>0</td>\n",
              "      <td>0</td>\n",
              "      <td>1</td>\n",
              "      <td>0.75</td>\n",
              "      <td>1.00000</td>\n",
              "      <td>0.733333</td>\n",
              "      <td>0</td>\n",
              "      <td>1</td>\n",
              "      <td>0</td>\n",
              "      <td>1.0</td>\n",
              "    </tr>\n",
              "    <tr>\n",
              "      <th>2</th>\n",
              "      <td>1</td>\n",
              "      <td>7</td>\n",
              "      <td>1</td>\n",
              "      <td>1</td>\n",
              "      <td>0</td>\n",
              "      <td>0.228571</td>\n",
              "      <td>1</td>\n",
              "      <td>0</td>\n",
              "      <td>1</td>\n",
              "      <td>0</td>\n",
              "      <td>...</td>\n",
              "      <td>1</td>\n",
              "      <td>1</td>\n",
              "      <td>1</td>\n",
              "      <td>1.00</td>\n",
              "      <td>0.55102</td>\n",
              "      <td>0.000000</td>\n",
              "      <td>2</td>\n",
              "      <td>0</td>\n",
              "      <td>1</td>\n",
              "      <td>1.0</td>\n",
              "    </tr>\n",
              "    <tr>\n",
              "      <th>3</th>\n",
              "      <td>0</td>\n",
              "      <td>3</td>\n",
              "      <td>0</td>\n",
              "      <td>1</td>\n",
              "      <td>2</td>\n",
              "      <td>0.800000</td>\n",
              "      <td>1</td>\n",
              "      <td>0</td>\n",
              "      <td>1</td>\n",
              "      <td>1</td>\n",
              "      <td>...</td>\n",
              "      <td>1</td>\n",
              "      <td>0</td>\n",
              "      <td>1</td>\n",
              "      <td>0.75</td>\n",
              "      <td>1.00000</td>\n",
              "      <td>0.000000</td>\n",
              "      <td>0</td>\n",
              "      <td>2</td>\n",
              "      <td>0</td>\n",
              "      <td>0.0</td>\n",
              "    </tr>\n",
              "    <tr>\n",
              "      <th>4</th>\n",
              "      <td>1</td>\n",
              "      <td>8</td>\n",
              "      <td>1</td>\n",
              "      <td>1</td>\n",
              "      <td>3</td>\n",
              "      <td>0.085714</td>\n",
              "      <td>0</td>\n",
              "      <td>1</td>\n",
              "      <td>1</td>\n",
              "      <td>0</td>\n",
              "      <td>...</td>\n",
              "      <td>1</td>\n",
              "      <td>1</td>\n",
              "      <td>0</td>\n",
              "      <td>0.75</td>\n",
              "      <td>0.00000</td>\n",
              "      <td>0.000000</td>\n",
              "      <td>0</td>\n",
              "      <td>2</td>\n",
              "      <td>0</td>\n",
              "      <td>0.0</td>\n",
              "    </tr>\n",
              "  </tbody>\n",
              "</table>\n",
              "<p>5 rows × 24 columns</p>\n",
              "</div>\n",
              "      <button class=\"colab-df-convert\" onclick=\"convertToInteractive('df-2f6b2a03-9bec-415a-99dc-2c3e30ae49db')\"\n",
              "              title=\"Convert this dataframe to an interactive table.\"\n",
              "              style=\"display:none;\">\n",
              "        \n",
              "  <svg xmlns=\"http://www.w3.org/2000/svg\" height=\"24px\"viewBox=\"0 0 24 24\"\n",
              "       width=\"24px\">\n",
              "    <path d=\"M0 0h24v24H0V0z\" fill=\"none\"/>\n",
              "    <path d=\"M18.56 5.44l.94 2.06.94-2.06 2.06-.94-2.06-.94-.94-2.06-.94 2.06-2.06.94zm-11 1L8.5 8.5l.94-2.06 2.06-.94-2.06-.94L8.5 2.5l-.94 2.06-2.06.94zm10 10l.94 2.06.94-2.06 2.06-.94-2.06-.94-.94-2.06-.94 2.06-2.06.94z\"/><path d=\"M17.41 7.96l-1.37-1.37c-.4-.4-.92-.59-1.43-.59-.52 0-1.04.2-1.43.59L10.3 9.45l-7.72 7.72c-.78.78-.78 2.05 0 2.83L4 21.41c.39.39.9.59 1.41.59.51 0 1.02-.2 1.41-.59l7.78-7.78 2.81-2.81c.8-.78.8-2.07 0-2.86zM5.41 20L4 18.59l7.72-7.72 1.47 1.35L5.41 20z\"/>\n",
              "  </svg>\n",
              "      </button>\n",
              "      \n",
              "  <style>\n",
              "    .colab-df-container {\n",
              "      display:flex;\n",
              "      flex-wrap:wrap;\n",
              "      gap: 12px;\n",
              "    }\n",
              "\n",
              "    .colab-df-convert {\n",
              "      background-color: #E8F0FE;\n",
              "      border: none;\n",
              "      border-radius: 50%;\n",
              "      cursor: pointer;\n",
              "      display: none;\n",
              "      fill: #1967D2;\n",
              "      height: 32px;\n",
              "      padding: 0 0 0 0;\n",
              "      width: 32px;\n",
              "    }\n",
              "\n",
              "    .colab-df-convert:hover {\n",
              "      background-color: #E2EBFA;\n",
              "      box-shadow: 0px 1px 2px rgba(60, 64, 67, 0.3), 0px 1px 3px 1px rgba(60, 64, 67, 0.15);\n",
              "      fill: #174EA6;\n",
              "    }\n",
              "\n",
              "    [theme=dark] .colab-df-convert {\n",
              "      background-color: #3B4455;\n",
              "      fill: #D2E3FC;\n",
              "    }\n",
              "\n",
              "    [theme=dark] .colab-df-convert:hover {\n",
              "      background-color: #434B5C;\n",
              "      box-shadow: 0px 1px 3px 1px rgba(0, 0, 0, 0.15);\n",
              "      filter: drop-shadow(0px 1px 2px rgba(0, 0, 0, 0.3));\n",
              "      fill: #FFFFFF;\n",
              "    }\n",
              "  </style>\n",
              "\n",
              "      <script>\n",
              "        const buttonEl =\n",
              "          document.querySelector('#df-2f6b2a03-9bec-415a-99dc-2c3e30ae49db button.colab-df-convert');\n",
              "        buttonEl.style.display =\n",
              "          google.colab.kernel.accessAllowed ? 'block' : 'none';\n",
              "\n",
              "        async function convertToInteractive(key) {\n",
              "          const element = document.querySelector('#df-2f6b2a03-9bec-415a-99dc-2c3e30ae49db');\n",
              "          const dataTable =\n",
              "            await google.colab.kernel.invokeFunction('convertToInteractive',\n",
              "                                                     [key], {});\n",
              "          if (!dataTable) return;\n",
              "\n",
              "          const docLinkHtml = 'Like what you see? Visit the ' +\n",
              "            '<a target=\"_blank\" href=https://colab.research.google.com/notebooks/data_table.ipynb>data table notebook</a>'\n",
              "            + ' to learn more about interactive tables.';\n",
              "          element.innerHTML = '';\n",
              "          dataTable['output_type'] = 'display_data';\n",
              "          await google.colab.output.renderOutput(dataTable, element);\n",
              "          const docLink = document.createElement('div');\n",
              "          docLink.innerHTML = docLinkHtml;\n",
              "          element.appendChild(docLink);\n",
              "        }\n",
              "      </script>\n",
              "    </div>\n",
              "  </div>\n",
              "  "
            ]
          },
          "metadata": {},
          "execution_count": 133
        }
      ]
    },
    {
      "cell_type": "markdown",
      "source": [
        "## Model "
      ],
      "metadata": {
        "id": "4PUsXParlbnY"
      }
    },
    {
      "cell_type": "markdown",
      "source": [
        "### Splitting data into Train and Test data"
      ],
      "metadata": {
        "id": "dUN9ggEOlmwV"
      }
    },
    {
      "cell_type": "code",
      "source": [
        "data.head()"
      ],
      "metadata": {
        "colab": {
          "base_uri": "https://localhost:8080/",
          "height": 369
        },
        "id": "CZEOGWEhlTgn",
        "outputId": "b37bdd36-6e59-411f-917c-16f9fef61c2f"
      },
      "execution_count": 134,
      "outputs": [
        {
          "output_type": "execute_result",
          "data": {
            "text/plain": [
              "   offer expiration  income_range  travelled_more_than_15mins_for_offer  \\\n",
              "0                 1             8                                     1   \n",
              "1                 1             7                                     0   \n",
              "2                 1             7                                     1   \n",
              "3                 0             3                                     0   \n",
              "4                 1             8                                     1   \n",
              "\n",
              "   Marital Status  restaurant type       age  Prefer western over chinese  \\\n",
              "0               0                3  0.514286                            0   \n",
              "1               0                2  1.000000                            0   \n",
              "2               1                0  0.228571                            1   \n",
              "3               1                2  0.800000                            1   \n",
              "4               1                3  0.085714                            0   \n",
              "\n",
              "   travelled_more_than_25mins_for_offer  travelled_more_than_5mins_for_offer  \\\n",
              "0                                     0                                    1   \n",
              "1                                     0                                    1   \n",
              "2                                     0                                    1   \n",
              "3                                     0                                    1   \n",
              "4                                     1                                    1   \n",
              "\n",
              "   gender  ...  is foodie  restuarant_opposite_direction_house  has Children  \\\n",
              "0       0  ...          0                                    0             0   \n",
              "1       0  ...          0                                    0             1   \n",
              "2       0  ...          1                                    1             1   \n",
              "3       1  ...          1                                    0             1   \n",
              "4       0  ...          1                                    1             0   \n",
              "\n",
              "   visit restaurant with rating (avg)  temperature  Travel Time  Climate  \\\n",
              "0                                1.00      0.55102     1.000000        1   \n",
              "1                                0.75      1.00000     0.733333        0   \n",
              "2                                1.00      0.55102     0.000000        2   \n",
              "3                                0.75      1.00000     0.000000        0   \n",
              "4                                0.75      0.00000     0.000000        0   \n",
              "\n",
              "   drop location  Prefer home food  Offer Accepted  \n",
              "0              1                 0             0.0  \n",
              "1              1                 0             1.0  \n",
              "2              0                 1             1.0  \n",
              "3              2                 0             0.0  \n",
              "4              2                 0             0.0  \n",
              "\n",
              "[5 rows x 24 columns]"
            ],
            "text/html": [
              "\n",
              "  <div id=\"df-f0f2fbc3-346c-42c4-94bc-2772240ab0d2\">\n",
              "    <div class=\"colab-df-container\">\n",
              "      <div>\n",
              "<style scoped>\n",
              "    .dataframe tbody tr th:only-of-type {\n",
              "        vertical-align: middle;\n",
              "    }\n",
              "\n",
              "    .dataframe tbody tr th {\n",
              "        vertical-align: top;\n",
              "    }\n",
              "\n",
              "    .dataframe thead th {\n",
              "        text-align: right;\n",
              "    }\n",
              "</style>\n",
              "<table border=\"1\" class=\"dataframe\">\n",
              "  <thead>\n",
              "    <tr style=\"text-align: right;\">\n",
              "      <th></th>\n",
              "      <th>offer expiration</th>\n",
              "      <th>income_range</th>\n",
              "      <th>travelled_more_than_15mins_for_offer</th>\n",
              "      <th>Marital Status</th>\n",
              "      <th>restaurant type</th>\n",
              "      <th>age</th>\n",
              "      <th>Prefer western over chinese</th>\n",
              "      <th>travelled_more_than_25mins_for_offer</th>\n",
              "      <th>travelled_more_than_5mins_for_offer</th>\n",
              "      <th>gender</th>\n",
              "      <th>...</th>\n",
              "      <th>is foodie</th>\n",
              "      <th>restuarant_opposite_direction_house</th>\n",
              "      <th>has Children</th>\n",
              "      <th>visit restaurant with rating (avg)</th>\n",
              "      <th>temperature</th>\n",
              "      <th>Travel Time</th>\n",
              "      <th>Climate</th>\n",
              "      <th>drop location</th>\n",
              "      <th>Prefer home food</th>\n",
              "      <th>Offer Accepted</th>\n",
              "    </tr>\n",
              "  </thead>\n",
              "  <tbody>\n",
              "    <tr>\n",
              "      <th>0</th>\n",
              "      <td>1</td>\n",
              "      <td>8</td>\n",
              "      <td>1</td>\n",
              "      <td>0</td>\n",
              "      <td>3</td>\n",
              "      <td>0.514286</td>\n",
              "      <td>0</td>\n",
              "      <td>0</td>\n",
              "      <td>1</td>\n",
              "      <td>0</td>\n",
              "      <td>...</td>\n",
              "      <td>0</td>\n",
              "      <td>0</td>\n",
              "      <td>0</td>\n",
              "      <td>1.00</td>\n",
              "      <td>0.55102</td>\n",
              "      <td>1.000000</td>\n",
              "      <td>1</td>\n",
              "      <td>1</td>\n",
              "      <td>0</td>\n",
              "      <td>0.0</td>\n",
              "    </tr>\n",
              "    <tr>\n",
              "      <th>1</th>\n",
              "      <td>1</td>\n",
              "      <td>7</td>\n",
              "      <td>0</td>\n",
              "      <td>0</td>\n",
              "      <td>2</td>\n",
              "      <td>1.000000</td>\n",
              "      <td>0</td>\n",
              "      <td>0</td>\n",
              "      <td>1</td>\n",
              "      <td>0</td>\n",
              "      <td>...</td>\n",
              "      <td>0</td>\n",
              "      <td>0</td>\n",
              "      <td>1</td>\n",
              "      <td>0.75</td>\n",
              "      <td>1.00000</td>\n",
              "      <td>0.733333</td>\n",
              "      <td>0</td>\n",
              "      <td>1</td>\n",
              "      <td>0</td>\n",
              "      <td>1.0</td>\n",
              "    </tr>\n",
              "    <tr>\n",
              "      <th>2</th>\n",
              "      <td>1</td>\n",
              "      <td>7</td>\n",
              "      <td>1</td>\n",
              "      <td>1</td>\n",
              "      <td>0</td>\n",
              "      <td>0.228571</td>\n",
              "      <td>1</td>\n",
              "      <td>0</td>\n",
              "      <td>1</td>\n",
              "      <td>0</td>\n",
              "      <td>...</td>\n",
              "      <td>1</td>\n",
              "      <td>1</td>\n",
              "      <td>1</td>\n",
              "      <td>1.00</td>\n",
              "      <td>0.55102</td>\n",
              "      <td>0.000000</td>\n",
              "      <td>2</td>\n",
              "      <td>0</td>\n",
              "      <td>1</td>\n",
              "      <td>1.0</td>\n",
              "    </tr>\n",
              "    <tr>\n",
              "      <th>3</th>\n",
              "      <td>0</td>\n",
              "      <td>3</td>\n",
              "      <td>0</td>\n",
              "      <td>1</td>\n",
              "      <td>2</td>\n",
              "      <td>0.800000</td>\n",
              "      <td>1</td>\n",
              "      <td>0</td>\n",
              "      <td>1</td>\n",
              "      <td>1</td>\n",
              "      <td>...</td>\n",
              "      <td>1</td>\n",
              "      <td>0</td>\n",
              "      <td>1</td>\n",
              "      <td>0.75</td>\n",
              "      <td>1.00000</td>\n",
              "      <td>0.000000</td>\n",
              "      <td>0</td>\n",
              "      <td>2</td>\n",
              "      <td>0</td>\n",
              "      <td>0.0</td>\n",
              "    </tr>\n",
              "    <tr>\n",
              "      <th>4</th>\n",
              "      <td>1</td>\n",
              "      <td>8</td>\n",
              "      <td>1</td>\n",
              "      <td>1</td>\n",
              "      <td>3</td>\n",
              "      <td>0.085714</td>\n",
              "      <td>0</td>\n",
              "      <td>1</td>\n",
              "      <td>1</td>\n",
              "      <td>0</td>\n",
              "      <td>...</td>\n",
              "      <td>1</td>\n",
              "      <td>1</td>\n",
              "      <td>0</td>\n",
              "      <td>0.75</td>\n",
              "      <td>0.00000</td>\n",
              "      <td>0.000000</td>\n",
              "      <td>0</td>\n",
              "      <td>2</td>\n",
              "      <td>0</td>\n",
              "      <td>0.0</td>\n",
              "    </tr>\n",
              "  </tbody>\n",
              "</table>\n",
              "<p>5 rows × 24 columns</p>\n",
              "</div>\n",
              "      <button class=\"colab-df-convert\" onclick=\"convertToInteractive('df-f0f2fbc3-346c-42c4-94bc-2772240ab0d2')\"\n",
              "              title=\"Convert this dataframe to an interactive table.\"\n",
              "              style=\"display:none;\">\n",
              "        \n",
              "  <svg xmlns=\"http://www.w3.org/2000/svg\" height=\"24px\"viewBox=\"0 0 24 24\"\n",
              "       width=\"24px\">\n",
              "    <path d=\"M0 0h24v24H0V0z\" fill=\"none\"/>\n",
              "    <path d=\"M18.56 5.44l.94 2.06.94-2.06 2.06-.94-2.06-.94-.94-2.06-.94 2.06-2.06.94zm-11 1L8.5 8.5l.94-2.06 2.06-.94-2.06-.94L8.5 2.5l-.94 2.06-2.06.94zm10 10l.94 2.06.94-2.06 2.06-.94-2.06-.94-.94-2.06-.94 2.06-2.06.94z\"/><path d=\"M17.41 7.96l-1.37-1.37c-.4-.4-.92-.59-1.43-.59-.52 0-1.04.2-1.43.59L10.3 9.45l-7.72 7.72c-.78.78-.78 2.05 0 2.83L4 21.41c.39.39.9.59 1.41.59.51 0 1.02-.2 1.41-.59l7.78-7.78 2.81-2.81c.8-.78.8-2.07 0-2.86zM5.41 20L4 18.59l7.72-7.72 1.47 1.35L5.41 20z\"/>\n",
              "  </svg>\n",
              "      </button>\n",
              "      \n",
              "  <style>\n",
              "    .colab-df-container {\n",
              "      display:flex;\n",
              "      flex-wrap:wrap;\n",
              "      gap: 12px;\n",
              "    }\n",
              "\n",
              "    .colab-df-convert {\n",
              "      background-color: #E8F0FE;\n",
              "      border: none;\n",
              "      border-radius: 50%;\n",
              "      cursor: pointer;\n",
              "      display: none;\n",
              "      fill: #1967D2;\n",
              "      height: 32px;\n",
              "      padding: 0 0 0 0;\n",
              "      width: 32px;\n",
              "    }\n",
              "\n",
              "    .colab-df-convert:hover {\n",
              "      background-color: #E2EBFA;\n",
              "      box-shadow: 0px 1px 2px rgba(60, 64, 67, 0.3), 0px 1px 3px 1px rgba(60, 64, 67, 0.15);\n",
              "      fill: #174EA6;\n",
              "    }\n",
              "\n",
              "    [theme=dark] .colab-df-convert {\n",
              "      background-color: #3B4455;\n",
              "      fill: #D2E3FC;\n",
              "    }\n",
              "\n",
              "    [theme=dark] .colab-df-convert:hover {\n",
              "      background-color: #434B5C;\n",
              "      box-shadow: 0px 1px 3px 1px rgba(0, 0, 0, 0.15);\n",
              "      filter: drop-shadow(0px 1px 2px rgba(0, 0, 0, 0.3));\n",
              "      fill: #FFFFFF;\n",
              "    }\n",
              "  </style>\n",
              "\n",
              "      <script>\n",
              "        const buttonEl =\n",
              "          document.querySelector('#df-f0f2fbc3-346c-42c4-94bc-2772240ab0d2 button.colab-df-convert');\n",
              "        buttonEl.style.display =\n",
              "          google.colab.kernel.accessAllowed ? 'block' : 'none';\n",
              "\n",
              "        async function convertToInteractive(key) {\n",
              "          const element = document.querySelector('#df-f0f2fbc3-346c-42c4-94bc-2772240ab0d2');\n",
              "          const dataTable =\n",
              "            await google.colab.kernel.invokeFunction('convertToInteractive',\n",
              "                                                     [key], {});\n",
              "          if (!dataTable) return;\n",
              "\n",
              "          const docLinkHtml = 'Like what you see? Visit the ' +\n",
              "            '<a target=\"_blank\" href=https://colab.research.google.com/notebooks/data_table.ipynb>data table notebook</a>'\n",
              "            + ' to learn more about interactive tables.';\n",
              "          element.innerHTML = '';\n",
              "          dataTable['output_type'] = 'display_data';\n",
              "          await google.colab.output.renderOutput(dataTable, element);\n",
              "          const docLink = document.createElement('div');\n",
              "          docLink.innerHTML = docLinkHtml;\n",
              "          element.appendChild(docLink);\n",
              "        }\n",
              "      </script>\n",
              "    </div>\n",
              "  </div>\n",
              "  "
            ]
          },
          "metadata": {},
          "execution_count": 134
        }
      ]
    },
    {
      "cell_type": "code",
      "source": [
        "data.tail()"
      ],
      "metadata": {
        "colab": {
          "base_uri": "https://localhost:8080/",
          "height": 369
        },
        "id": "JSe7udx_lVkf",
        "outputId": "d5a2e0b3-5e17-4f84-cca6-f5b8136a0421"
      },
      "execution_count": 135,
      "outputs": [
        {
          "output_type": "execute_result",
          "data": {
            "text/plain": [
              "       offer expiration  income_range  travelled_more_than_15mins_for_offer  \\\n",
              "17679                 1             2                                     0   \n",
              "17680                 0             5                                     0   \n",
              "17681                 0             4                                     1   \n",
              "17682                 1             4                                     1   \n",
              "17683                 1             3                                     0   \n",
              "\n",
              "       Marital Status  restaurant type       age  Prefer western over chinese  \\\n",
              "17679               2                3  0.228571                            0   \n",
              "17680               0                1  0.228571                            0   \n",
              "17681               0                0  0.514286                            0   \n",
              "17682               0                4  0.514286                            1   \n",
              "17683               0                3  1.000000                            1   \n",
              "\n",
              "       travelled_more_than_25mins_for_offer  \\\n",
              "17679                                     0   \n",
              "17680                                     0   \n",
              "17681                                     0   \n",
              "17682                                     0   \n",
              "17683                                     0   \n",
              "\n",
              "       travelled_more_than_5mins_for_offer  gender  ...  is foodie  \\\n",
              "17679                                    1       1  ...          0   \n",
              "17680                                    1       0  ...          1   \n",
              "17681                                    1       0  ...          1   \n",
              "17682                                    1       0  ...          0   \n",
              "17683                                    1       1  ...          0   \n",
              "\n",
              "       restuarant_opposite_direction_house  has Children  \\\n",
              "17679                                    0             0   \n",
              "17680                                    0             0   \n",
              "17681                                    1             1   \n",
              "17682                                    1             1   \n",
              "17683                                    1             1   \n",
              "\n",
              "       visit restaurant with rating (avg)  temperature  Travel Time  Climate  \\\n",
              "17679                                0.25      0.55102     0.733333        0   \n",
              "17680                                0.75      1.00000     0.733333        0   \n",
              "17681                                0.50      0.55102     0.000000        0   \n",
              "17682                                0.75      1.00000     0.000000        0   \n",
              "17683                                1.00      1.00000     0.000000        2   \n",
              "\n",
              "       drop location  Prefer home food  Offer Accepted  \n",
              "17679              1                 0             NaN  \n",
              "17680              1                 1             NaN  \n",
              "17681              2                 1             NaN  \n",
              "17682              0                 0             NaN  \n",
              "17683              0                 0             NaN  \n",
              "\n",
              "[5 rows x 24 columns]"
            ],
            "text/html": [
              "\n",
              "  <div id=\"df-64f61a73-cf63-47df-b640-ece077e6db0d\">\n",
              "    <div class=\"colab-df-container\">\n",
              "      <div>\n",
              "<style scoped>\n",
              "    .dataframe tbody tr th:only-of-type {\n",
              "        vertical-align: middle;\n",
              "    }\n",
              "\n",
              "    .dataframe tbody tr th {\n",
              "        vertical-align: top;\n",
              "    }\n",
              "\n",
              "    .dataframe thead th {\n",
              "        text-align: right;\n",
              "    }\n",
              "</style>\n",
              "<table border=\"1\" class=\"dataframe\">\n",
              "  <thead>\n",
              "    <tr style=\"text-align: right;\">\n",
              "      <th></th>\n",
              "      <th>offer expiration</th>\n",
              "      <th>income_range</th>\n",
              "      <th>travelled_more_than_15mins_for_offer</th>\n",
              "      <th>Marital Status</th>\n",
              "      <th>restaurant type</th>\n",
              "      <th>age</th>\n",
              "      <th>Prefer western over chinese</th>\n",
              "      <th>travelled_more_than_25mins_for_offer</th>\n",
              "      <th>travelled_more_than_5mins_for_offer</th>\n",
              "      <th>gender</th>\n",
              "      <th>...</th>\n",
              "      <th>is foodie</th>\n",
              "      <th>restuarant_opposite_direction_house</th>\n",
              "      <th>has Children</th>\n",
              "      <th>visit restaurant with rating (avg)</th>\n",
              "      <th>temperature</th>\n",
              "      <th>Travel Time</th>\n",
              "      <th>Climate</th>\n",
              "      <th>drop location</th>\n",
              "      <th>Prefer home food</th>\n",
              "      <th>Offer Accepted</th>\n",
              "    </tr>\n",
              "  </thead>\n",
              "  <tbody>\n",
              "    <tr>\n",
              "      <th>17679</th>\n",
              "      <td>1</td>\n",
              "      <td>2</td>\n",
              "      <td>0</td>\n",
              "      <td>2</td>\n",
              "      <td>3</td>\n",
              "      <td>0.228571</td>\n",
              "      <td>0</td>\n",
              "      <td>0</td>\n",
              "      <td>1</td>\n",
              "      <td>1</td>\n",
              "      <td>...</td>\n",
              "      <td>0</td>\n",
              "      <td>0</td>\n",
              "      <td>0</td>\n",
              "      <td>0.25</td>\n",
              "      <td>0.55102</td>\n",
              "      <td>0.733333</td>\n",
              "      <td>0</td>\n",
              "      <td>1</td>\n",
              "      <td>0</td>\n",
              "      <td>NaN</td>\n",
              "    </tr>\n",
              "    <tr>\n",
              "      <th>17680</th>\n",
              "      <td>0</td>\n",
              "      <td>5</td>\n",
              "      <td>0</td>\n",
              "      <td>0</td>\n",
              "      <td>1</td>\n",
              "      <td>0.228571</td>\n",
              "      <td>0</td>\n",
              "      <td>0</td>\n",
              "      <td>1</td>\n",
              "      <td>0</td>\n",
              "      <td>...</td>\n",
              "      <td>1</td>\n",
              "      <td>0</td>\n",
              "      <td>0</td>\n",
              "      <td>0.75</td>\n",
              "      <td>1.00000</td>\n",
              "      <td>0.733333</td>\n",
              "      <td>0</td>\n",
              "      <td>1</td>\n",
              "      <td>1</td>\n",
              "      <td>NaN</td>\n",
              "    </tr>\n",
              "    <tr>\n",
              "      <th>17681</th>\n",
              "      <td>0</td>\n",
              "      <td>4</td>\n",
              "      <td>1</td>\n",
              "      <td>0</td>\n",
              "      <td>0</td>\n",
              "      <td>0.514286</td>\n",
              "      <td>0</td>\n",
              "      <td>0</td>\n",
              "      <td>1</td>\n",
              "      <td>0</td>\n",
              "      <td>...</td>\n",
              "      <td>1</td>\n",
              "      <td>1</td>\n",
              "      <td>1</td>\n",
              "      <td>0.50</td>\n",
              "      <td>0.55102</td>\n",
              "      <td>0.000000</td>\n",
              "      <td>0</td>\n",
              "      <td>2</td>\n",
              "      <td>1</td>\n",
              "      <td>NaN</td>\n",
              "    </tr>\n",
              "    <tr>\n",
              "      <th>17682</th>\n",
              "      <td>1</td>\n",
              "      <td>4</td>\n",
              "      <td>1</td>\n",
              "      <td>0</td>\n",
              "      <td>4</td>\n",
              "      <td>0.514286</td>\n",
              "      <td>1</td>\n",
              "      <td>0</td>\n",
              "      <td>1</td>\n",
              "      <td>0</td>\n",
              "      <td>...</td>\n",
              "      <td>0</td>\n",
              "      <td>1</td>\n",
              "      <td>1</td>\n",
              "      <td>0.75</td>\n",
              "      <td>1.00000</td>\n",
              "      <td>0.000000</td>\n",
              "      <td>0</td>\n",
              "      <td>0</td>\n",
              "      <td>0</td>\n",
              "      <td>NaN</td>\n",
              "    </tr>\n",
              "    <tr>\n",
              "      <th>17683</th>\n",
              "      <td>1</td>\n",
              "      <td>3</td>\n",
              "      <td>0</td>\n",
              "      <td>0</td>\n",
              "      <td>3</td>\n",
              "      <td>1.000000</td>\n",
              "      <td>1</td>\n",
              "      <td>0</td>\n",
              "      <td>1</td>\n",
              "      <td>1</td>\n",
              "      <td>...</td>\n",
              "      <td>0</td>\n",
              "      <td>1</td>\n",
              "      <td>1</td>\n",
              "      <td>1.00</td>\n",
              "      <td>1.00000</td>\n",
              "      <td>0.000000</td>\n",
              "      <td>2</td>\n",
              "      <td>0</td>\n",
              "      <td>0</td>\n",
              "      <td>NaN</td>\n",
              "    </tr>\n",
              "  </tbody>\n",
              "</table>\n",
              "<p>5 rows × 24 columns</p>\n",
              "</div>\n",
              "      <button class=\"colab-df-convert\" onclick=\"convertToInteractive('df-64f61a73-cf63-47df-b640-ece077e6db0d')\"\n",
              "              title=\"Convert this dataframe to an interactive table.\"\n",
              "              style=\"display:none;\">\n",
              "        \n",
              "  <svg xmlns=\"http://www.w3.org/2000/svg\" height=\"24px\"viewBox=\"0 0 24 24\"\n",
              "       width=\"24px\">\n",
              "    <path d=\"M0 0h24v24H0V0z\" fill=\"none\"/>\n",
              "    <path d=\"M18.56 5.44l.94 2.06.94-2.06 2.06-.94-2.06-.94-.94-2.06-.94 2.06-2.06.94zm-11 1L8.5 8.5l.94-2.06 2.06-.94-2.06-.94L8.5 2.5l-.94 2.06-2.06.94zm10 10l.94 2.06.94-2.06 2.06-.94-2.06-.94-.94-2.06-.94 2.06-2.06.94z\"/><path d=\"M17.41 7.96l-1.37-1.37c-.4-.4-.92-.59-1.43-.59-.52 0-1.04.2-1.43.59L10.3 9.45l-7.72 7.72c-.78.78-.78 2.05 0 2.83L4 21.41c.39.39.9.59 1.41.59.51 0 1.02-.2 1.41-.59l7.78-7.78 2.81-2.81c.8-.78.8-2.07 0-2.86zM5.41 20L4 18.59l7.72-7.72 1.47 1.35L5.41 20z\"/>\n",
              "  </svg>\n",
              "      </button>\n",
              "      \n",
              "  <style>\n",
              "    .colab-df-container {\n",
              "      display:flex;\n",
              "      flex-wrap:wrap;\n",
              "      gap: 12px;\n",
              "    }\n",
              "\n",
              "    .colab-df-convert {\n",
              "      background-color: #E8F0FE;\n",
              "      border: none;\n",
              "      border-radius: 50%;\n",
              "      cursor: pointer;\n",
              "      display: none;\n",
              "      fill: #1967D2;\n",
              "      height: 32px;\n",
              "      padding: 0 0 0 0;\n",
              "      width: 32px;\n",
              "    }\n",
              "\n",
              "    .colab-df-convert:hover {\n",
              "      background-color: #E2EBFA;\n",
              "      box-shadow: 0px 1px 2px rgba(60, 64, 67, 0.3), 0px 1px 3px 1px rgba(60, 64, 67, 0.15);\n",
              "      fill: #174EA6;\n",
              "    }\n",
              "\n",
              "    [theme=dark] .colab-df-convert {\n",
              "      background-color: #3B4455;\n",
              "      fill: #D2E3FC;\n",
              "    }\n",
              "\n",
              "    [theme=dark] .colab-df-convert:hover {\n",
              "      background-color: #434B5C;\n",
              "      box-shadow: 0px 1px 3px 1px rgba(0, 0, 0, 0.15);\n",
              "      filter: drop-shadow(0px 1px 2px rgba(0, 0, 0, 0.3));\n",
              "      fill: #FFFFFF;\n",
              "    }\n",
              "  </style>\n",
              "\n",
              "      <script>\n",
              "        const buttonEl =\n",
              "          document.querySelector('#df-64f61a73-cf63-47df-b640-ece077e6db0d button.colab-df-convert');\n",
              "        buttonEl.style.display =\n",
              "          google.colab.kernel.accessAllowed ? 'block' : 'none';\n",
              "\n",
              "        async function convertToInteractive(key) {\n",
              "          const element = document.querySelector('#df-64f61a73-cf63-47df-b640-ece077e6db0d');\n",
              "          const dataTable =\n",
              "            await google.colab.kernel.invokeFunction('convertToInteractive',\n",
              "                                                     [key], {});\n",
              "          if (!dataTable) return;\n",
              "\n",
              "          const docLinkHtml = 'Like what you see? Visit the ' +\n",
              "            '<a target=\"_blank\" href=https://colab.research.google.com/notebooks/data_table.ipynb>data table notebook</a>'\n",
              "            + ' to learn more about interactive tables.';\n",
              "          element.innerHTML = '';\n",
              "          dataTable['output_type'] = 'display_data';\n",
              "          await google.colab.output.renderOutput(dataTable, element);\n",
              "          const docLink = document.createElement('div');\n",
              "          docLink.innerHTML = docLinkHtml;\n",
              "          element.appendChild(docLink);\n",
              "        }\n",
              "      </script>\n",
              "    </div>\n",
              "  </div>\n",
              "  "
            ]
          },
          "metadata": {},
          "execution_count": 135
        }
      ]
    },
    {
      "cell_type": "markdown",
      "source": [
        "0 -> 12378 for train_data\n",
        "\n",
        "12379 -> 17683 for test_data"
      ],
      "metadata": {
        "id": "JLINKvsEl69W"
      }
    },
    {
      "cell_type": "code",
      "source": [
        "train = data.iloc[:12379, :]\n",
        "test = data.iloc[12379:,:]"
      ],
      "metadata": {
        "id": "BVORh3_OlsC9"
      },
      "execution_count": 136,
      "outputs": []
    },
    {
      "cell_type": "code",
      "source": [
        "test.drop(['Offer Accepted'], axis=1, inplace=True)"
      ],
      "metadata": {
        "colab": {
          "base_uri": "https://localhost:8080/"
        },
        "id": "bndOo8immrwl",
        "outputId": "123dc407-ce03-4474-cea7-fbfe01fb1ba9"
      },
      "execution_count": 137,
      "outputs": [
        {
          "output_type": "stream",
          "name": "stderr",
          "text": [
            "/usr/local/lib/python3.8/dist-packages/pandas/core/frame.py:4906: SettingWithCopyWarning: \n",
            "A value is trying to be set on a copy of a slice from a DataFrame\n",
            "\n",
            "See the caveats in the documentation: https://pandas.pydata.org/pandas-docs/stable/user_guide/indexing.html#returning-a-view-versus-a-copy\n",
            "  return super().drop(\n"
          ]
        }
      ]
    },
    {
      "cell_type": "code",
      "source": [
        "print('Shape of Train data:', train.shape)\n",
        "print('Shape of Test data:', test.shape)"
      ],
      "metadata": {
        "colab": {
          "base_uri": "https://localhost:8080/"
        },
        "id": "YcNojOaUmaXq",
        "outputId": "fbcd069d-3d10-4589-ee4a-778827f9ba91"
      },
      "execution_count": 138,
      "outputs": [
        {
          "output_type": "stream",
          "name": "stdout",
          "text": [
            "Shape of Train data: (12379, 24)\n",
            "Shape of Test data: (5305, 23)\n"
          ]
        }
      ]
    },
    {
      "cell_type": "code",
      "source": [
        "train.head()"
      ],
      "metadata": {
        "colab": {
          "base_uri": "https://localhost:8080/",
          "height": 369
        },
        "id": "J4WKZ7zCm1MY",
        "outputId": "b2aae71f-24e5-4f6a-9430-51ea9cddd749"
      },
      "execution_count": 139,
      "outputs": [
        {
          "output_type": "execute_result",
          "data": {
            "text/plain": [
              "   offer expiration  income_range  travelled_more_than_15mins_for_offer  \\\n",
              "0                 1             8                                     1   \n",
              "1                 1             7                                     0   \n",
              "2                 1             7                                     1   \n",
              "3                 0             3                                     0   \n",
              "4                 1             8                                     1   \n",
              "\n",
              "   Marital Status  restaurant type       age  Prefer western over chinese  \\\n",
              "0               0                3  0.514286                            0   \n",
              "1               0                2  1.000000                            0   \n",
              "2               1                0  0.228571                            1   \n",
              "3               1                2  0.800000                            1   \n",
              "4               1                3  0.085714                            0   \n",
              "\n",
              "   travelled_more_than_25mins_for_offer  travelled_more_than_5mins_for_offer  \\\n",
              "0                                     0                                    1   \n",
              "1                                     0                                    1   \n",
              "2                                     0                                    1   \n",
              "3                                     0                                    1   \n",
              "4                                     1                                    1   \n",
              "\n",
              "   gender  ...  is foodie  restuarant_opposite_direction_house  has Children  \\\n",
              "0       0  ...          0                                    0             0   \n",
              "1       0  ...          0                                    0             1   \n",
              "2       0  ...          1                                    1             1   \n",
              "3       1  ...          1                                    0             1   \n",
              "4       0  ...          1                                    1             0   \n",
              "\n",
              "   visit restaurant with rating (avg)  temperature  Travel Time  Climate  \\\n",
              "0                                1.00      0.55102     1.000000        1   \n",
              "1                                0.75      1.00000     0.733333        0   \n",
              "2                                1.00      0.55102     0.000000        2   \n",
              "3                                0.75      1.00000     0.000000        0   \n",
              "4                                0.75      0.00000     0.000000        0   \n",
              "\n",
              "   drop location  Prefer home food  Offer Accepted  \n",
              "0              1                 0             0.0  \n",
              "1              1                 0             1.0  \n",
              "2              0                 1             1.0  \n",
              "3              2                 0             0.0  \n",
              "4              2                 0             0.0  \n",
              "\n",
              "[5 rows x 24 columns]"
            ],
            "text/html": [
              "\n",
              "  <div id=\"df-34d9e4a1-d6ea-4527-a675-61136b3e9c89\">\n",
              "    <div class=\"colab-df-container\">\n",
              "      <div>\n",
              "<style scoped>\n",
              "    .dataframe tbody tr th:only-of-type {\n",
              "        vertical-align: middle;\n",
              "    }\n",
              "\n",
              "    .dataframe tbody tr th {\n",
              "        vertical-align: top;\n",
              "    }\n",
              "\n",
              "    .dataframe thead th {\n",
              "        text-align: right;\n",
              "    }\n",
              "</style>\n",
              "<table border=\"1\" class=\"dataframe\">\n",
              "  <thead>\n",
              "    <tr style=\"text-align: right;\">\n",
              "      <th></th>\n",
              "      <th>offer expiration</th>\n",
              "      <th>income_range</th>\n",
              "      <th>travelled_more_than_15mins_for_offer</th>\n",
              "      <th>Marital Status</th>\n",
              "      <th>restaurant type</th>\n",
              "      <th>age</th>\n",
              "      <th>Prefer western over chinese</th>\n",
              "      <th>travelled_more_than_25mins_for_offer</th>\n",
              "      <th>travelled_more_than_5mins_for_offer</th>\n",
              "      <th>gender</th>\n",
              "      <th>...</th>\n",
              "      <th>is foodie</th>\n",
              "      <th>restuarant_opposite_direction_house</th>\n",
              "      <th>has Children</th>\n",
              "      <th>visit restaurant with rating (avg)</th>\n",
              "      <th>temperature</th>\n",
              "      <th>Travel Time</th>\n",
              "      <th>Climate</th>\n",
              "      <th>drop location</th>\n",
              "      <th>Prefer home food</th>\n",
              "      <th>Offer Accepted</th>\n",
              "    </tr>\n",
              "  </thead>\n",
              "  <tbody>\n",
              "    <tr>\n",
              "      <th>0</th>\n",
              "      <td>1</td>\n",
              "      <td>8</td>\n",
              "      <td>1</td>\n",
              "      <td>0</td>\n",
              "      <td>3</td>\n",
              "      <td>0.514286</td>\n",
              "      <td>0</td>\n",
              "      <td>0</td>\n",
              "      <td>1</td>\n",
              "      <td>0</td>\n",
              "      <td>...</td>\n",
              "      <td>0</td>\n",
              "      <td>0</td>\n",
              "      <td>0</td>\n",
              "      <td>1.00</td>\n",
              "      <td>0.55102</td>\n",
              "      <td>1.000000</td>\n",
              "      <td>1</td>\n",
              "      <td>1</td>\n",
              "      <td>0</td>\n",
              "      <td>0.0</td>\n",
              "    </tr>\n",
              "    <tr>\n",
              "      <th>1</th>\n",
              "      <td>1</td>\n",
              "      <td>7</td>\n",
              "      <td>0</td>\n",
              "      <td>0</td>\n",
              "      <td>2</td>\n",
              "      <td>1.000000</td>\n",
              "      <td>0</td>\n",
              "      <td>0</td>\n",
              "      <td>1</td>\n",
              "      <td>0</td>\n",
              "      <td>...</td>\n",
              "      <td>0</td>\n",
              "      <td>0</td>\n",
              "      <td>1</td>\n",
              "      <td>0.75</td>\n",
              "      <td>1.00000</td>\n",
              "      <td>0.733333</td>\n",
              "      <td>0</td>\n",
              "      <td>1</td>\n",
              "      <td>0</td>\n",
              "      <td>1.0</td>\n",
              "    </tr>\n",
              "    <tr>\n",
              "      <th>2</th>\n",
              "      <td>1</td>\n",
              "      <td>7</td>\n",
              "      <td>1</td>\n",
              "      <td>1</td>\n",
              "      <td>0</td>\n",
              "      <td>0.228571</td>\n",
              "      <td>1</td>\n",
              "      <td>0</td>\n",
              "      <td>1</td>\n",
              "      <td>0</td>\n",
              "      <td>...</td>\n",
              "      <td>1</td>\n",
              "      <td>1</td>\n",
              "      <td>1</td>\n",
              "      <td>1.00</td>\n",
              "      <td>0.55102</td>\n",
              "      <td>0.000000</td>\n",
              "      <td>2</td>\n",
              "      <td>0</td>\n",
              "      <td>1</td>\n",
              "      <td>1.0</td>\n",
              "    </tr>\n",
              "    <tr>\n",
              "      <th>3</th>\n",
              "      <td>0</td>\n",
              "      <td>3</td>\n",
              "      <td>0</td>\n",
              "      <td>1</td>\n",
              "      <td>2</td>\n",
              "      <td>0.800000</td>\n",
              "      <td>1</td>\n",
              "      <td>0</td>\n",
              "      <td>1</td>\n",
              "      <td>1</td>\n",
              "      <td>...</td>\n",
              "      <td>1</td>\n",
              "      <td>0</td>\n",
              "      <td>1</td>\n",
              "      <td>0.75</td>\n",
              "      <td>1.00000</td>\n",
              "      <td>0.000000</td>\n",
              "      <td>0</td>\n",
              "      <td>2</td>\n",
              "      <td>0</td>\n",
              "      <td>0.0</td>\n",
              "    </tr>\n",
              "    <tr>\n",
              "      <th>4</th>\n",
              "      <td>1</td>\n",
              "      <td>8</td>\n",
              "      <td>1</td>\n",
              "      <td>1</td>\n",
              "      <td>3</td>\n",
              "      <td>0.085714</td>\n",
              "      <td>0</td>\n",
              "      <td>1</td>\n",
              "      <td>1</td>\n",
              "      <td>0</td>\n",
              "      <td>...</td>\n",
              "      <td>1</td>\n",
              "      <td>1</td>\n",
              "      <td>0</td>\n",
              "      <td>0.75</td>\n",
              "      <td>0.00000</td>\n",
              "      <td>0.000000</td>\n",
              "      <td>0</td>\n",
              "      <td>2</td>\n",
              "      <td>0</td>\n",
              "      <td>0.0</td>\n",
              "    </tr>\n",
              "  </tbody>\n",
              "</table>\n",
              "<p>5 rows × 24 columns</p>\n",
              "</div>\n",
              "      <button class=\"colab-df-convert\" onclick=\"convertToInteractive('df-34d9e4a1-d6ea-4527-a675-61136b3e9c89')\"\n",
              "              title=\"Convert this dataframe to an interactive table.\"\n",
              "              style=\"display:none;\">\n",
              "        \n",
              "  <svg xmlns=\"http://www.w3.org/2000/svg\" height=\"24px\"viewBox=\"0 0 24 24\"\n",
              "       width=\"24px\">\n",
              "    <path d=\"M0 0h24v24H0V0z\" fill=\"none\"/>\n",
              "    <path d=\"M18.56 5.44l.94 2.06.94-2.06 2.06-.94-2.06-.94-.94-2.06-.94 2.06-2.06.94zm-11 1L8.5 8.5l.94-2.06 2.06-.94-2.06-.94L8.5 2.5l-.94 2.06-2.06.94zm10 10l.94 2.06.94-2.06 2.06-.94-2.06-.94-.94-2.06-.94 2.06-2.06.94z\"/><path d=\"M17.41 7.96l-1.37-1.37c-.4-.4-.92-.59-1.43-.59-.52 0-1.04.2-1.43.59L10.3 9.45l-7.72 7.72c-.78.78-.78 2.05 0 2.83L4 21.41c.39.39.9.59 1.41.59.51 0 1.02-.2 1.41-.59l7.78-7.78 2.81-2.81c.8-.78.8-2.07 0-2.86zM5.41 20L4 18.59l7.72-7.72 1.47 1.35L5.41 20z\"/>\n",
              "  </svg>\n",
              "      </button>\n",
              "      \n",
              "  <style>\n",
              "    .colab-df-container {\n",
              "      display:flex;\n",
              "      flex-wrap:wrap;\n",
              "      gap: 12px;\n",
              "    }\n",
              "\n",
              "    .colab-df-convert {\n",
              "      background-color: #E8F0FE;\n",
              "      border: none;\n",
              "      border-radius: 50%;\n",
              "      cursor: pointer;\n",
              "      display: none;\n",
              "      fill: #1967D2;\n",
              "      height: 32px;\n",
              "      padding: 0 0 0 0;\n",
              "      width: 32px;\n",
              "    }\n",
              "\n",
              "    .colab-df-convert:hover {\n",
              "      background-color: #E2EBFA;\n",
              "      box-shadow: 0px 1px 2px rgba(60, 64, 67, 0.3), 0px 1px 3px 1px rgba(60, 64, 67, 0.15);\n",
              "      fill: #174EA6;\n",
              "    }\n",
              "\n",
              "    [theme=dark] .colab-df-convert {\n",
              "      background-color: #3B4455;\n",
              "      fill: #D2E3FC;\n",
              "    }\n",
              "\n",
              "    [theme=dark] .colab-df-convert:hover {\n",
              "      background-color: #434B5C;\n",
              "      box-shadow: 0px 1px 3px 1px rgba(0, 0, 0, 0.15);\n",
              "      filter: drop-shadow(0px 1px 2px rgba(0, 0, 0, 0.3));\n",
              "      fill: #FFFFFF;\n",
              "    }\n",
              "  </style>\n",
              "\n",
              "      <script>\n",
              "        const buttonEl =\n",
              "          document.querySelector('#df-34d9e4a1-d6ea-4527-a675-61136b3e9c89 button.colab-df-convert');\n",
              "        buttonEl.style.display =\n",
              "          google.colab.kernel.accessAllowed ? 'block' : 'none';\n",
              "\n",
              "        async function convertToInteractive(key) {\n",
              "          const element = document.querySelector('#df-34d9e4a1-d6ea-4527-a675-61136b3e9c89');\n",
              "          const dataTable =\n",
              "            await google.colab.kernel.invokeFunction('convertToInteractive',\n",
              "                                                     [key], {});\n",
              "          if (!dataTable) return;\n",
              "\n",
              "          const docLinkHtml = 'Like what you see? Visit the ' +\n",
              "            '<a target=\"_blank\" href=https://colab.research.google.com/notebooks/data_table.ipynb>data table notebook</a>'\n",
              "            + ' to learn more about interactive tables.';\n",
              "          element.innerHTML = '';\n",
              "          dataTable['output_type'] = 'display_data';\n",
              "          await google.colab.output.renderOutput(dataTable, element);\n",
              "          const docLink = document.createElement('div');\n",
              "          docLink.innerHTML = docLinkHtml;\n",
              "          element.appendChild(docLink);\n",
              "        }\n",
              "      </script>\n",
              "    </div>\n",
              "  </div>\n",
              "  "
            ]
          },
          "metadata": {},
          "execution_count": 139
        }
      ]
    },
    {
      "cell_type": "code",
      "source": [
        "test.head()"
      ],
      "metadata": {
        "colab": {
          "base_uri": "https://localhost:8080/",
          "height": 369
        },
        "id": "e-SYlHk0m2E2",
        "outputId": "d2ca3297-1d18-4536-e5e6-97bb9d3134a7"
      },
      "execution_count": 140,
      "outputs": [
        {
          "output_type": "execute_result",
          "data": {
            "text/plain": [
              "       offer expiration  income_range  travelled_more_than_15mins_for_offer  \\\n",
              "12379                 1             3                                     1   \n",
              "12380                 0             2                                     0   \n",
              "12381                 1             8                                     1   \n",
              "12382                 1             2                                     1   \n",
              "12383                 0             1                                     0   \n",
              "\n",
              "       Marital Status  restaurant type       age  Prefer western over chinese  \\\n",
              "12379               3                2  1.000000                            0   \n",
              "12380               2                0  0.085714                            1   \n",
              "12381               1                0  0.085714                            1   \n",
              "12382               0                4  0.657143                            0   \n",
              "12383               1                1  0.371429                            1   \n",
              "\n",
              "       travelled_more_than_25mins_for_offer  \\\n",
              "12379                                     1   \n",
              "12380                                     0   \n",
              "12381                                     0   \n",
              "12382                                     0   \n",
              "12383                                     0   \n",
              "\n",
              "       travelled_more_than_5mins_for_offer  gender  ...  Qualification  \\\n",
              "12379                                    1       1  ...              2   \n",
              "12380                                    1       1  ...              0   \n",
              "12381                                    1       0  ...              4   \n",
              "12382                                    1       0  ...              0   \n",
              "12383                                    1       1  ...              4   \n",
              "\n",
              "       is foodie  restuarant_opposite_direction_house  has Children  \\\n",
              "12379          0                                    1             1   \n",
              "12380          1                                    1             1   \n",
              "12381          0                                    1             0   \n",
              "12382          1                                    1             1   \n",
              "12383          1                                    0             0   \n",
              "\n",
              "       visit restaurant with rating (avg)  temperature  Travel Time  Climate  \\\n",
              "12379                                 1.0      1.00000     0.000000        0   \n",
              "12380                                 0.0      0.55102     0.733333        0   \n",
              "12381                                 1.0      0.55102     0.000000        0   \n",
              "12382                                 0.0      0.00000     0.733333        1   \n",
              "12383                                 0.0      1.00000     0.733333        0   \n",
              "\n",
              "       drop location  Prefer home food  \n",
              "12379              2                 0  \n",
              "12380              0                 1  \n",
              "12381              2                 0  \n",
              "12382              2                 1  \n",
              "12383              1                 1  \n",
              "\n",
              "[5 rows x 23 columns]"
            ],
            "text/html": [
              "\n",
              "  <div id=\"df-a3339ecb-d5e8-40a0-89dd-7619a3a14d14\">\n",
              "    <div class=\"colab-df-container\">\n",
              "      <div>\n",
              "<style scoped>\n",
              "    .dataframe tbody tr th:only-of-type {\n",
              "        vertical-align: middle;\n",
              "    }\n",
              "\n",
              "    .dataframe tbody tr th {\n",
              "        vertical-align: top;\n",
              "    }\n",
              "\n",
              "    .dataframe thead th {\n",
              "        text-align: right;\n",
              "    }\n",
              "</style>\n",
              "<table border=\"1\" class=\"dataframe\">\n",
              "  <thead>\n",
              "    <tr style=\"text-align: right;\">\n",
              "      <th></th>\n",
              "      <th>offer expiration</th>\n",
              "      <th>income_range</th>\n",
              "      <th>travelled_more_than_15mins_for_offer</th>\n",
              "      <th>Marital Status</th>\n",
              "      <th>restaurant type</th>\n",
              "      <th>age</th>\n",
              "      <th>Prefer western over chinese</th>\n",
              "      <th>travelled_more_than_25mins_for_offer</th>\n",
              "      <th>travelled_more_than_5mins_for_offer</th>\n",
              "      <th>gender</th>\n",
              "      <th>...</th>\n",
              "      <th>Qualification</th>\n",
              "      <th>is foodie</th>\n",
              "      <th>restuarant_opposite_direction_house</th>\n",
              "      <th>has Children</th>\n",
              "      <th>visit restaurant with rating (avg)</th>\n",
              "      <th>temperature</th>\n",
              "      <th>Travel Time</th>\n",
              "      <th>Climate</th>\n",
              "      <th>drop location</th>\n",
              "      <th>Prefer home food</th>\n",
              "    </tr>\n",
              "  </thead>\n",
              "  <tbody>\n",
              "    <tr>\n",
              "      <th>12379</th>\n",
              "      <td>1</td>\n",
              "      <td>3</td>\n",
              "      <td>1</td>\n",
              "      <td>3</td>\n",
              "      <td>2</td>\n",
              "      <td>1.000000</td>\n",
              "      <td>0</td>\n",
              "      <td>1</td>\n",
              "      <td>1</td>\n",
              "      <td>1</td>\n",
              "      <td>...</td>\n",
              "      <td>2</td>\n",
              "      <td>0</td>\n",
              "      <td>1</td>\n",
              "      <td>1</td>\n",
              "      <td>1.0</td>\n",
              "      <td>1.00000</td>\n",
              "      <td>0.000000</td>\n",
              "      <td>0</td>\n",
              "      <td>2</td>\n",
              "      <td>0</td>\n",
              "    </tr>\n",
              "    <tr>\n",
              "      <th>12380</th>\n",
              "      <td>0</td>\n",
              "      <td>2</td>\n",
              "      <td>0</td>\n",
              "      <td>2</td>\n",
              "      <td>0</td>\n",
              "      <td>0.085714</td>\n",
              "      <td>1</td>\n",
              "      <td>0</td>\n",
              "      <td>1</td>\n",
              "      <td>1</td>\n",
              "      <td>...</td>\n",
              "      <td>0</td>\n",
              "      <td>1</td>\n",
              "      <td>1</td>\n",
              "      <td>1</td>\n",
              "      <td>0.0</td>\n",
              "      <td>0.55102</td>\n",
              "      <td>0.733333</td>\n",
              "      <td>0</td>\n",
              "      <td>0</td>\n",
              "      <td>1</td>\n",
              "    </tr>\n",
              "    <tr>\n",
              "      <th>12381</th>\n",
              "      <td>1</td>\n",
              "      <td>8</td>\n",
              "      <td>1</td>\n",
              "      <td>1</td>\n",
              "      <td>0</td>\n",
              "      <td>0.085714</td>\n",
              "      <td>1</td>\n",
              "      <td>0</td>\n",
              "      <td>1</td>\n",
              "      <td>0</td>\n",
              "      <td>...</td>\n",
              "      <td>4</td>\n",
              "      <td>0</td>\n",
              "      <td>1</td>\n",
              "      <td>0</td>\n",
              "      <td>1.0</td>\n",
              "      <td>0.55102</td>\n",
              "      <td>0.000000</td>\n",
              "      <td>0</td>\n",
              "      <td>2</td>\n",
              "      <td>0</td>\n",
              "    </tr>\n",
              "    <tr>\n",
              "      <th>12382</th>\n",
              "      <td>1</td>\n",
              "      <td>2</td>\n",
              "      <td>1</td>\n",
              "      <td>0</td>\n",
              "      <td>4</td>\n",
              "      <td>0.657143</td>\n",
              "      <td>0</td>\n",
              "      <td>0</td>\n",
              "      <td>1</td>\n",
              "      <td>0</td>\n",
              "      <td>...</td>\n",
              "      <td>0</td>\n",
              "      <td>1</td>\n",
              "      <td>1</td>\n",
              "      <td>1</td>\n",
              "      <td>0.0</td>\n",
              "      <td>0.00000</td>\n",
              "      <td>0.733333</td>\n",
              "      <td>1</td>\n",
              "      <td>2</td>\n",
              "      <td>1</td>\n",
              "    </tr>\n",
              "    <tr>\n",
              "      <th>12383</th>\n",
              "      <td>0</td>\n",
              "      <td>1</td>\n",
              "      <td>0</td>\n",
              "      <td>1</td>\n",
              "      <td>1</td>\n",
              "      <td>0.371429</td>\n",
              "      <td>1</td>\n",
              "      <td>0</td>\n",
              "      <td>1</td>\n",
              "      <td>1</td>\n",
              "      <td>...</td>\n",
              "      <td>4</td>\n",
              "      <td>1</td>\n",
              "      <td>0</td>\n",
              "      <td>0</td>\n",
              "      <td>0.0</td>\n",
              "      <td>1.00000</td>\n",
              "      <td>0.733333</td>\n",
              "      <td>0</td>\n",
              "      <td>1</td>\n",
              "      <td>1</td>\n",
              "    </tr>\n",
              "  </tbody>\n",
              "</table>\n",
              "<p>5 rows × 23 columns</p>\n",
              "</div>\n",
              "      <button class=\"colab-df-convert\" onclick=\"convertToInteractive('df-a3339ecb-d5e8-40a0-89dd-7619a3a14d14')\"\n",
              "              title=\"Convert this dataframe to an interactive table.\"\n",
              "              style=\"display:none;\">\n",
              "        \n",
              "  <svg xmlns=\"http://www.w3.org/2000/svg\" height=\"24px\"viewBox=\"0 0 24 24\"\n",
              "       width=\"24px\">\n",
              "    <path d=\"M0 0h24v24H0V0z\" fill=\"none\"/>\n",
              "    <path d=\"M18.56 5.44l.94 2.06.94-2.06 2.06-.94-2.06-.94-.94-2.06-.94 2.06-2.06.94zm-11 1L8.5 8.5l.94-2.06 2.06-.94-2.06-.94L8.5 2.5l-.94 2.06-2.06.94zm10 10l.94 2.06.94-2.06 2.06-.94-2.06-.94-.94-2.06-.94 2.06-2.06.94z\"/><path d=\"M17.41 7.96l-1.37-1.37c-.4-.4-.92-.59-1.43-.59-.52 0-1.04.2-1.43.59L10.3 9.45l-7.72 7.72c-.78.78-.78 2.05 0 2.83L4 21.41c.39.39.9.59 1.41.59.51 0 1.02-.2 1.41-.59l7.78-7.78 2.81-2.81c.8-.78.8-2.07 0-2.86zM5.41 20L4 18.59l7.72-7.72 1.47 1.35L5.41 20z\"/>\n",
              "  </svg>\n",
              "      </button>\n",
              "      \n",
              "  <style>\n",
              "    .colab-df-container {\n",
              "      display:flex;\n",
              "      flex-wrap:wrap;\n",
              "      gap: 12px;\n",
              "    }\n",
              "\n",
              "    .colab-df-convert {\n",
              "      background-color: #E8F0FE;\n",
              "      border: none;\n",
              "      border-radius: 50%;\n",
              "      cursor: pointer;\n",
              "      display: none;\n",
              "      fill: #1967D2;\n",
              "      height: 32px;\n",
              "      padding: 0 0 0 0;\n",
              "      width: 32px;\n",
              "    }\n",
              "\n",
              "    .colab-df-convert:hover {\n",
              "      background-color: #E2EBFA;\n",
              "      box-shadow: 0px 1px 2px rgba(60, 64, 67, 0.3), 0px 1px 3px 1px rgba(60, 64, 67, 0.15);\n",
              "      fill: #174EA6;\n",
              "    }\n",
              "\n",
              "    [theme=dark] .colab-df-convert {\n",
              "      background-color: #3B4455;\n",
              "      fill: #D2E3FC;\n",
              "    }\n",
              "\n",
              "    [theme=dark] .colab-df-convert:hover {\n",
              "      background-color: #434B5C;\n",
              "      box-shadow: 0px 1px 3px 1px rgba(0, 0, 0, 0.15);\n",
              "      filter: drop-shadow(0px 1px 2px rgba(0, 0, 0, 0.3));\n",
              "      fill: #FFFFFF;\n",
              "    }\n",
              "  </style>\n",
              "\n",
              "      <script>\n",
              "        const buttonEl =\n",
              "          document.querySelector('#df-a3339ecb-d5e8-40a0-89dd-7619a3a14d14 button.colab-df-convert');\n",
              "        buttonEl.style.display =\n",
              "          google.colab.kernel.accessAllowed ? 'block' : 'none';\n",
              "\n",
              "        async function convertToInteractive(key) {\n",
              "          const element = document.querySelector('#df-a3339ecb-d5e8-40a0-89dd-7619a3a14d14');\n",
              "          const dataTable =\n",
              "            await google.colab.kernel.invokeFunction('convertToInteractive',\n",
              "                                                     [key], {});\n",
              "          if (!dataTable) return;\n",
              "\n",
              "          const docLinkHtml = 'Like what you see? Visit the ' +\n",
              "            '<a target=\"_blank\" href=https://colab.research.google.com/notebooks/data_table.ipynb>data table notebook</a>'\n",
              "            + ' to learn more about interactive tables.';\n",
              "          element.innerHTML = '';\n",
              "          dataTable['output_type'] = 'display_data';\n",
              "          await google.colab.output.renderOutput(dataTable, element);\n",
              "          const docLink = document.createElement('div');\n",
              "          docLink.innerHTML = docLinkHtml;\n",
              "          element.appendChild(docLink);\n",
              "        }\n",
              "      </script>\n",
              "    </div>\n",
              "  </div>\n",
              "  "
            ]
          },
          "metadata": {},
          "execution_count": 140
        }
      ]
    },
    {
      "cell_type": "code",
      "source": [
        "test.reset_index(inplace=True)"
      ],
      "metadata": {
        "id": "BlnAjLv8uv5x"
      },
      "execution_count": 144,
      "outputs": []
    },
    {
      "cell_type": "code",
      "source": [
        "test.drop(['index'], axis=1, inplace=True)"
      ],
      "metadata": {
        "colab": {
          "base_uri": "https://localhost:8080/"
        },
        "id": "qKonsyULu2jf",
        "outputId": "fbc8e4c5-ac13-4753-84fc-1f4e7a0e87d4"
      },
      "execution_count": 146,
      "outputs": [
        {
          "output_type": "stream",
          "name": "stderr",
          "text": [
            "/usr/local/lib/python3.8/dist-packages/pandas/core/frame.py:4906: SettingWithCopyWarning: \n",
            "A value is trying to be set on a copy of a slice from a DataFrame\n",
            "\n",
            "See the caveats in the documentation: https://pandas.pydata.org/pandas-docs/stable/user_guide/indexing.html#returning-a-view-versus-a-copy\n",
            "  return super().drop(\n"
          ]
        }
      ]
    },
    {
      "cell_type": "code",
      "source": [
        "test.head()"
      ],
      "metadata": {
        "colab": {
          "base_uri": "https://localhost:8080/",
          "height": 369
        },
        "id": "CVc5kD2au2lo",
        "outputId": "d91817ea-b7a9-4668-f8d9-a205a1e4193d"
      },
      "execution_count": 147,
      "outputs": [
        {
          "output_type": "execute_result",
          "data": {
            "text/plain": [
              "   offer expiration  income_range  travelled_more_than_15mins_for_offer  \\\n",
              "0                 1             3                                     1   \n",
              "1                 0             2                                     0   \n",
              "2                 1             8                                     1   \n",
              "3                 1             2                                     1   \n",
              "4                 0             1                                     0   \n",
              "\n",
              "   Marital Status  restaurant type       age  Prefer western over chinese  \\\n",
              "0               3                2  1.000000                            0   \n",
              "1               2                0  0.085714                            1   \n",
              "2               1                0  0.085714                            1   \n",
              "3               0                4  0.657143                            0   \n",
              "4               1                1  0.371429                            1   \n",
              "\n",
              "   travelled_more_than_25mins_for_offer  travelled_more_than_5mins_for_offer  \\\n",
              "0                                     1                                    1   \n",
              "1                                     0                                    1   \n",
              "2                                     0                                    1   \n",
              "3                                     0                                    1   \n",
              "4                                     0                                    1   \n",
              "\n",
              "   gender  ...  Qualification  is foodie  restuarant_opposite_direction_house  \\\n",
              "0       1  ...              2          0                                    1   \n",
              "1       1  ...              0          1                                    1   \n",
              "2       0  ...              4          0                                    1   \n",
              "3       0  ...              0          1                                    1   \n",
              "4       1  ...              4          1                                    0   \n",
              "\n",
              "   has Children  visit restaurant with rating (avg)  temperature  Travel Time  \\\n",
              "0             1                                 1.0      1.00000     0.000000   \n",
              "1             1                                 0.0      0.55102     0.733333   \n",
              "2             0                                 1.0      0.55102     0.000000   \n",
              "3             1                                 0.0      0.00000     0.733333   \n",
              "4             0                                 0.0      1.00000     0.733333   \n",
              "\n",
              "   Climate  drop location  Prefer home food  \n",
              "0        0              2                 0  \n",
              "1        0              0                 1  \n",
              "2        0              2                 0  \n",
              "3        1              2                 1  \n",
              "4        0              1                 1  \n",
              "\n",
              "[5 rows x 23 columns]"
            ],
            "text/html": [
              "\n",
              "  <div id=\"df-be3cc587-61f5-4d30-ba30-cfb578ebac0e\">\n",
              "    <div class=\"colab-df-container\">\n",
              "      <div>\n",
              "<style scoped>\n",
              "    .dataframe tbody tr th:only-of-type {\n",
              "        vertical-align: middle;\n",
              "    }\n",
              "\n",
              "    .dataframe tbody tr th {\n",
              "        vertical-align: top;\n",
              "    }\n",
              "\n",
              "    .dataframe thead th {\n",
              "        text-align: right;\n",
              "    }\n",
              "</style>\n",
              "<table border=\"1\" class=\"dataframe\">\n",
              "  <thead>\n",
              "    <tr style=\"text-align: right;\">\n",
              "      <th></th>\n",
              "      <th>offer expiration</th>\n",
              "      <th>income_range</th>\n",
              "      <th>travelled_more_than_15mins_for_offer</th>\n",
              "      <th>Marital Status</th>\n",
              "      <th>restaurant type</th>\n",
              "      <th>age</th>\n",
              "      <th>Prefer western over chinese</th>\n",
              "      <th>travelled_more_than_25mins_for_offer</th>\n",
              "      <th>travelled_more_than_5mins_for_offer</th>\n",
              "      <th>gender</th>\n",
              "      <th>...</th>\n",
              "      <th>Qualification</th>\n",
              "      <th>is foodie</th>\n",
              "      <th>restuarant_opposite_direction_house</th>\n",
              "      <th>has Children</th>\n",
              "      <th>visit restaurant with rating (avg)</th>\n",
              "      <th>temperature</th>\n",
              "      <th>Travel Time</th>\n",
              "      <th>Climate</th>\n",
              "      <th>drop location</th>\n",
              "      <th>Prefer home food</th>\n",
              "    </tr>\n",
              "  </thead>\n",
              "  <tbody>\n",
              "    <tr>\n",
              "      <th>0</th>\n",
              "      <td>1</td>\n",
              "      <td>3</td>\n",
              "      <td>1</td>\n",
              "      <td>3</td>\n",
              "      <td>2</td>\n",
              "      <td>1.000000</td>\n",
              "      <td>0</td>\n",
              "      <td>1</td>\n",
              "      <td>1</td>\n",
              "      <td>1</td>\n",
              "      <td>...</td>\n",
              "      <td>2</td>\n",
              "      <td>0</td>\n",
              "      <td>1</td>\n",
              "      <td>1</td>\n",
              "      <td>1.0</td>\n",
              "      <td>1.00000</td>\n",
              "      <td>0.000000</td>\n",
              "      <td>0</td>\n",
              "      <td>2</td>\n",
              "      <td>0</td>\n",
              "    </tr>\n",
              "    <tr>\n",
              "      <th>1</th>\n",
              "      <td>0</td>\n",
              "      <td>2</td>\n",
              "      <td>0</td>\n",
              "      <td>2</td>\n",
              "      <td>0</td>\n",
              "      <td>0.085714</td>\n",
              "      <td>1</td>\n",
              "      <td>0</td>\n",
              "      <td>1</td>\n",
              "      <td>1</td>\n",
              "      <td>...</td>\n",
              "      <td>0</td>\n",
              "      <td>1</td>\n",
              "      <td>1</td>\n",
              "      <td>1</td>\n",
              "      <td>0.0</td>\n",
              "      <td>0.55102</td>\n",
              "      <td>0.733333</td>\n",
              "      <td>0</td>\n",
              "      <td>0</td>\n",
              "      <td>1</td>\n",
              "    </tr>\n",
              "    <tr>\n",
              "      <th>2</th>\n",
              "      <td>1</td>\n",
              "      <td>8</td>\n",
              "      <td>1</td>\n",
              "      <td>1</td>\n",
              "      <td>0</td>\n",
              "      <td>0.085714</td>\n",
              "      <td>1</td>\n",
              "      <td>0</td>\n",
              "      <td>1</td>\n",
              "      <td>0</td>\n",
              "      <td>...</td>\n",
              "      <td>4</td>\n",
              "      <td>0</td>\n",
              "      <td>1</td>\n",
              "      <td>0</td>\n",
              "      <td>1.0</td>\n",
              "      <td>0.55102</td>\n",
              "      <td>0.000000</td>\n",
              "      <td>0</td>\n",
              "      <td>2</td>\n",
              "      <td>0</td>\n",
              "    </tr>\n",
              "    <tr>\n",
              "      <th>3</th>\n",
              "      <td>1</td>\n",
              "      <td>2</td>\n",
              "      <td>1</td>\n",
              "      <td>0</td>\n",
              "      <td>4</td>\n",
              "      <td>0.657143</td>\n",
              "      <td>0</td>\n",
              "      <td>0</td>\n",
              "      <td>1</td>\n",
              "      <td>0</td>\n",
              "      <td>...</td>\n",
              "      <td>0</td>\n",
              "      <td>1</td>\n",
              "      <td>1</td>\n",
              "      <td>1</td>\n",
              "      <td>0.0</td>\n",
              "      <td>0.00000</td>\n",
              "      <td>0.733333</td>\n",
              "      <td>1</td>\n",
              "      <td>2</td>\n",
              "      <td>1</td>\n",
              "    </tr>\n",
              "    <tr>\n",
              "      <th>4</th>\n",
              "      <td>0</td>\n",
              "      <td>1</td>\n",
              "      <td>0</td>\n",
              "      <td>1</td>\n",
              "      <td>1</td>\n",
              "      <td>0.371429</td>\n",
              "      <td>1</td>\n",
              "      <td>0</td>\n",
              "      <td>1</td>\n",
              "      <td>1</td>\n",
              "      <td>...</td>\n",
              "      <td>4</td>\n",
              "      <td>1</td>\n",
              "      <td>0</td>\n",
              "      <td>0</td>\n",
              "      <td>0.0</td>\n",
              "      <td>1.00000</td>\n",
              "      <td>0.733333</td>\n",
              "      <td>0</td>\n",
              "      <td>1</td>\n",
              "      <td>1</td>\n",
              "    </tr>\n",
              "  </tbody>\n",
              "</table>\n",
              "<p>5 rows × 23 columns</p>\n",
              "</div>\n",
              "      <button class=\"colab-df-convert\" onclick=\"convertToInteractive('df-be3cc587-61f5-4d30-ba30-cfb578ebac0e')\"\n",
              "              title=\"Convert this dataframe to an interactive table.\"\n",
              "              style=\"display:none;\">\n",
              "        \n",
              "  <svg xmlns=\"http://www.w3.org/2000/svg\" height=\"24px\"viewBox=\"0 0 24 24\"\n",
              "       width=\"24px\">\n",
              "    <path d=\"M0 0h24v24H0V0z\" fill=\"none\"/>\n",
              "    <path d=\"M18.56 5.44l.94 2.06.94-2.06 2.06-.94-2.06-.94-.94-2.06-.94 2.06-2.06.94zm-11 1L8.5 8.5l.94-2.06 2.06-.94-2.06-.94L8.5 2.5l-.94 2.06-2.06.94zm10 10l.94 2.06.94-2.06 2.06-.94-2.06-.94-.94-2.06-.94 2.06-2.06.94z\"/><path d=\"M17.41 7.96l-1.37-1.37c-.4-.4-.92-.59-1.43-.59-.52 0-1.04.2-1.43.59L10.3 9.45l-7.72 7.72c-.78.78-.78 2.05 0 2.83L4 21.41c.39.39.9.59 1.41.59.51 0 1.02-.2 1.41-.59l7.78-7.78 2.81-2.81c.8-.78.8-2.07 0-2.86zM5.41 20L4 18.59l7.72-7.72 1.47 1.35L5.41 20z\"/>\n",
              "  </svg>\n",
              "      </button>\n",
              "      \n",
              "  <style>\n",
              "    .colab-df-container {\n",
              "      display:flex;\n",
              "      flex-wrap:wrap;\n",
              "      gap: 12px;\n",
              "    }\n",
              "\n",
              "    .colab-df-convert {\n",
              "      background-color: #E8F0FE;\n",
              "      border: none;\n",
              "      border-radius: 50%;\n",
              "      cursor: pointer;\n",
              "      display: none;\n",
              "      fill: #1967D2;\n",
              "      height: 32px;\n",
              "      padding: 0 0 0 0;\n",
              "      width: 32px;\n",
              "    }\n",
              "\n",
              "    .colab-df-convert:hover {\n",
              "      background-color: #E2EBFA;\n",
              "      box-shadow: 0px 1px 2px rgba(60, 64, 67, 0.3), 0px 1px 3px 1px rgba(60, 64, 67, 0.15);\n",
              "      fill: #174EA6;\n",
              "    }\n",
              "\n",
              "    [theme=dark] .colab-df-convert {\n",
              "      background-color: #3B4455;\n",
              "      fill: #D2E3FC;\n",
              "    }\n",
              "\n",
              "    [theme=dark] .colab-df-convert:hover {\n",
              "      background-color: #434B5C;\n",
              "      box-shadow: 0px 1px 3px 1px rgba(0, 0, 0, 0.15);\n",
              "      filter: drop-shadow(0px 1px 2px rgba(0, 0, 0, 0.3));\n",
              "      fill: #FFFFFF;\n",
              "    }\n",
              "  </style>\n",
              "\n",
              "      <script>\n",
              "        const buttonEl =\n",
              "          document.querySelector('#df-be3cc587-61f5-4d30-ba30-cfb578ebac0e button.colab-df-convert');\n",
              "        buttonEl.style.display =\n",
              "          google.colab.kernel.accessAllowed ? 'block' : 'none';\n",
              "\n",
              "        async function convertToInteractive(key) {\n",
              "          const element = document.querySelector('#df-be3cc587-61f5-4d30-ba30-cfb578ebac0e');\n",
              "          const dataTable =\n",
              "            await google.colab.kernel.invokeFunction('convertToInteractive',\n",
              "                                                     [key], {});\n",
              "          if (!dataTable) return;\n",
              "\n",
              "          const docLinkHtml = 'Like what you see? Visit the ' +\n",
              "            '<a target=\"_blank\" href=https://colab.research.google.com/notebooks/data_table.ipynb>data table notebook</a>'\n",
              "            + ' to learn more about interactive tables.';\n",
              "          element.innerHTML = '';\n",
              "          dataTable['output_type'] = 'display_data';\n",
              "          await google.colab.output.renderOutput(dataTable, element);\n",
              "          const docLink = document.createElement('div');\n",
              "          docLink.innerHTML = docLinkHtml;\n",
              "          element.appendChild(docLink);\n",
              "        }\n",
              "      </script>\n",
              "    </div>\n",
              "  </div>\n",
              "  "
            ]
          },
          "metadata": {},
          "execution_count": 147
        }
      ]
    },
    {
      "cell_type": "code",
      "source": [
        "test.shape"
      ],
      "metadata": {
        "colab": {
          "base_uri": "https://localhost:8080/"
        },
        "id": "dil1OOJku-4z",
        "outputId": "a395cefc-9478-4275-add0-542152a16dfe"
      },
      "execution_count": 148,
      "outputs": [
        {
          "output_type": "execute_result",
          "data": {
            "text/plain": [
              "(5305, 23)"
            ]
          },
          "metadata": {},
          "execution_count": 148
        }
      ]
    },
    {
      "cell_type": "code",
      "source": [
        "X = train.drop(['Offer Accepted'], axis=1)\n",
        "y = train['Offer Accepted']"
      ],
      "metadata": {
        "id": "imA6WnKQo-B4"
      },
      "execution_count": 160,
      "outputs": []
    },
    {
      "cell_type": "code",
      "source": [
        "X.head()"
      ],
      "metadata": {
        "colab": {
          "base_uri": "https://localhost:8080/",
          "height": 369
        },
        "id": "hP2jFYZypL5E",
        "outputId": "b5e41de9-32f1-4d1a-ca19-691eb4158bef"
      },
      "execution_count": 161,
      "outputs": [
        {
          "output_type": "execute_result",
          "data": {
            "text/plain": [
              "   offer expiration  income_range  travelled_more_than_15mins_for_offer  \\\n",
              "0                 1             8                                     1   \n",
              "1                 1             7                                     0   \n",
              "2                 1             7                                     1   \n",
              "3                 0             3                                     0   \n",
              "4                 1             8                                     1   \n",
              "\n",
              "   Marital Status  restaurant type       age  Prefer western over chinese  \\\n",
              "0               0                3  0.514286                            0   \n",
              "1               0                2  1.000000                            0   \n",
              "2               1                0  0.228571                            1   \n",
              "3               1                2  0.800000                            1   \n",
              "4               1                3  0.085714                            0   \n",
              "\n",
              "   travelled_more_than_25mins_for_offer  travelled_more_than_5mins_for_offer  \\\n",
              "0                                     0                                    1   \n",
              "1                                     0                                    1   \n",
              "2                                     0                                    1   \n",
              "3                                     0                                    1   \n",
              "4                                     1                                    1   \n",
              "\n",
              "   gender  ...  Qualification  is foodie  restuarant_opposite_direction_house  \\\n",
              "0       0  ...              1          0                                    0   \n",
              "1       0  ...              1          0                                    0   \n",
              "2       0  ...              1          1                                    1   \n",
              "3       1  ...              0          1                                    0   \n",
              "4       0  ...              0          1                                    1   \n",
              "\n",
              "   has Children  visit restaurant with rating (avg)  temperature  Travel Time  \\\n",
              "0             0                                1.00      0.55102     1.000000   \n",
              "1             1                                0.75      1.00000     0.733333   \n",
              "2             1                                1.00      0.55102     0.000000   \n",
              "3             1                                0.75      1.00000     0.000000   \n",
              "4             0                                0.75      0.00000     0.000000   \n",
              "\n",
              "   Climate  drop location  Prefer home food  \n",
              "0        1              1                 0  \n",
              "1        0              1                 0  \n",
              "2        2              0                 1  \n",
              "3        0              2                 0  \n",
              "4        0              2                 0  \n",
              "\n",
              "[5 rows x 23 columns]"
            ],
            "text/html": [
              "\n",
              "  <div id=\"df-4ca7e20f-3ea8-499c-b63f-6b0ebffdf7a9\">\n",
              "    <div class=\"colab-df-container\">\n",
              "      <div>\n",
              "<style scoped>\n",
              "    .dataframe tbody tr th:only-of-type {\n",
              "        vertical-align: middle;\n",
              "    }\n",
              "\n",
              "    .dataframe tbody tr th {\n",
              "        vertical-align: top;\n",
              "    }\n",
              "\n",
              "    .dataframe thead th {\n",
              "        text-align: right;\n",
              "    }\n",
              "</style>\n",
              "<table border=\"1\" class=\"dataframe\">\n",
              "  <thead>\n",
              "    <tr style=\"text-align: right;\">\n",
              "      <th></th>\n",
              "      <th>offer expiration</th>\n",
              "      <th>income_range</th>\n",
              "      <th>travelled_more_than_15mins_for_offer</th>\n",
              "      <th>Marital Status</th>\n",
              "      <th>restaurant type</th>\n",
              "      <th>age</th>\n",
              "      <th>Prefer western over chinese</th>\n",
              "      <th>travelled_more_than_25mins_for_offer</th>\n",
              "      <th>travelled_more_than_5mins_for_offer</th>\n",
              "      <th>gender</th>\n",
              "      <th>...</th>\n",
              "      <th>Qualification</th>\n",
              "      <th>is foodie</th>\n",
              "      <th>restuarant_opposite_direction_house</th>\n",
              "      <th>has Children</th>\n",
              "      <th>visit restaurant with rating (avg)</th>\n",
              "      <th>temperature</th>\n",
              "      <th>Travel Time</th>\n",
              "      <th>Climate</th>\n",
              "      <th>drop location</th>\n",
              "      <th>Prefer home food</th>\n",
              "    </tr>\n",
              "  </thead>\n",
              "  <tbody>\n",
              "    <tr>\n",
              "      <th>0</th>\n",
              "      <td>1</td>\n",
              "      <td>8</td>\n",
              "      <td>1</td>\n",
              "      <td>0</td>\n",
              "      <td>3</td>\n",
              "      <td>0.514286</td>\n",
              "      <td>0</td>\n",
              "      <td>0</td>\n",
              "      <td>1</td>\n",
              "      <td>0</td>\n",
              "      <td>...</td>\n",
              "      <td>1</td>\n",
              "      <td>0</td>\n",
              "      <td>0</td>\n",
              "      <td>0</td>\n",
              "      <td>1.00</td>\n",
              "      <td>0.55102</td>\n",
              "      <td>1.000000</td>\n",
              "      <td>1</td>\n",
              "      <td>1</td>\n",
              "      <td>0</td>\n",
              "    </tr>\n",
              "    <tr>\n",
              "      <th>1</th>\n",
              "      <td>1</td>\n",
              "      <td>7</td>\n",
              "      <td>0</td>\n",
              "      <td>0</td>\n",
              "      <td>2</td>\n",
              "      <td>1.000000</td>\n",
              "      <td>0</td>\n",
              "      <td>0</td>\n",
              "      <td>1</td>\n",
              "      <td>0</td>\n",
              "      <td>...</td>\n",
              "      <td>1</td>\n",
              "      <td>0</td>\n",
              "      <td>0</td>\n",
              "      <td>1</td>\n",
              "      <td>0.75</td>\n",
              "      <td>1.00000</td>\n",
              "      <td>0.733333</td>\n",
              "      <td>0</td>\n",
              "      <td>1</td>\n",
              "      <td>0</td>\n",
              "    </tr>\n",
              "    <tr>\n",
              "      <th>2</th>\n",
              "      <td>1</td>\n",
              "      <td>7</td>\n",
              "      <td>1</td>\n",
              "      <td>1</td>\n",
              "      <td>0</td>\n",
              "      <td>0.228571</td>\n",
              "      <td>1</td>\n",
              "      <td>0</td>\n",
              "      <td>1</td>\n",
              "      <td>0</td>\n",
              "      <td>...</td>\n",
              "      <td>1</td>\n",
              "      <td>1</td>\n",
              "      <td>1</td>\n",
              "      <td>1</td>\n",
              "      <td>1.00</td>\n",
              "      <td>0.55102</td>\n",
              "      <td>0.000000</td>\n",
              "      <td>2</td>\n",
              "      <td>0</td>\n",
              "      <td>1</td>\n",
              "    </tr>\n",
              "    <tr>\n",
              "      <th>3</th>\n",
              "      <td>0</td>\n",
              "      <td>3</td>\n",
              "      <td>0</td>\n",
              "      <td>1</td>\n",
              "      <td>2</td>\n",
              "      <td>0.800000</td>\n",
              "      <td>1</td>\n",
              "      <td>0</td>\n",
              "      <td>1</td>\n",
              "      <td>1</td>\n",
              "      <td>...</td>\n",
              "      <td>0</td>\n",
              "      <td>1</td>\n",
              "      <td>0</td>\n",
              "      <td>1</td>\n",
              "      <td>0.75</td>\n",
              "      <td>1.00000</td>\n",
              "      <td>0.000000</td>\n",
              "      <td>0</td>\n",
              "      <td>2</td>\n",
              "      <td>0</td>\n",
              "    </tr>\n",
              "    <tr>\n",
              "      <th>4</th>\n",
              "      <td>1</td>\n",
              "      <td>8</td>\n",
              "      <td>1</td>\n",
              "      <td>1</td>\n",
              "      <td>3</td>\n",
              "      <td>0.085714</td>\n",
              "      <td>0</td>\n",
              "      <td>1</td>\n",
              "      <td>1</td>\n",
              "      <td>0</td>\n",
              "      <td>...</td>\n",
              "      <td>0</td>\n",
              "      <td>1</td>\n",
              "      <td>1</td>\n",
              "      <td>0</td>\n",
              "      <td>0.75</td>\n",
              "      <td>0.00000</td>\n",
              "      <td>0.000000</td>\n",
              "      <td>0</td>\n",
              "      <td>2</td>\n",
              "      <td>0</td>\n",
              "    </tr>\n",
              "  </tbody>\n",
              "</table>\n",
              "<p>5 rows × 23 columns</p>\n",
              "</div>\n",
              "      <button class=\"colab-df-convert\" onclick=\"convertToInteractive('df-4ca7e20f-3ea8-499c-b63f-6b0ebffdf7a9')\"\n",
              "              title=\"Convert this dataframe to an interactive table.\"\n",
              "              style=\"display:none;\">\n",
              "        \n",
              "  <svg xmlns=\"http://www.w3.org/2000/svg\" height=\"24px\"viewBox=\"0 0 24 24\"\n",
              "       width=\"24px\">\n",
              "    <path d=\"M0 0h24v24H0V0z\" fill=\"none\"/>\n",
              "    <path d=\"M18.56 5.44l.94 2.06.94-2.06 2.06-.94-2.06-.94-.94-2.06-.94 2.06-2.06.94zm-11 1L8.5 8.5l.94-2.06 2.06-.94-2.06-.94L8.5 2.5l-.94 2.06-2.06.94zm10 10l.94 2.06.94-2.06 2.06-.94-2.06-.94-.94-2.06-.94 2.06-2.06.94z\"/><path d=\"M17.41 7.96l-1.37-1.37c-.4-.4-.92-.59-1.43-.59-.52 0-1.04.2-1.43.59L10.3 9.45l-7.72 7.72c-.78.78-.78 2.05 0 2.83L4 21.41c.39.39.9.59 1.41.59.51 0 1.02-.2 1.41-.59l7.78-7.78 2.81-2.81c.8-.78.8-2.07 0-2.86zM5.41 20L4 18.59l7.72-7.72 1.47 1.35L5.41 20z\"/>\n",
              "  </svg>\n",
              "      </button>\n",
              "      \n",
              "  <style>\n",
              "    .colab-df-container {\n",
              "      display:flex;\n",
              "      flex-wrap:wrap;\n",
              "      gap: 12px;\n",
              "    }\n",
              "\n",
              "    .colab-df-convert {\n",
              "      background-color: #E8F0FE;\n",
              "      border: none;\n",
              "      border-radius: 50%;\n",
              "      cursor: pointer;\n",
              "      display: none;\n",
              "      fill: #1967D2;\n",
              "      height: 32px;\n",
              "      padding: 0 0 0 0;\n",
              "      width: 32px;\n",
              "    }\n",
              "\n",
              "    .colab-df-convert:hover {\n",
              "      background-color: #E2EBFA;\n",
              "      box-shadow: 0px 1px 2px rgba(60, 64, 67, 0.3), 0px 1px 3px 1px rgba(60, 64, 67, 0.15);\n",
              "      fill: #174EA6;\n",
              "    }\n",
              "\n",
              "    [theme=dark] .colab-df-convert {\n",
              "      background-color: #3B4455;\n",
              "      fill: #D2E3FC;\n",
              "    }\n",
              "\n",
              "    [theme=dark] .colab-df-convert:hover {\n",
              "      background-color: #434B5C;\n",
              "      box-shadow: 0px 1px 3px 1px rgba(0, 0, 0, 0.15);\n",
              "      filter: drop-shadow(0px 1px 2px rgba(0, 0, 0, 0.3));\n",
              "      fill: #FFFFFF;\n",
              "    }\n",
              "  </style>\n",
              "\n",
              "      <script>\n",
              "        const buttonEl =\n",
              "          document.querySelector('#df-4ca7e20f-3ea8-499c-b63f-6b0ebffdf7a9 button.colab-df-convert');\n",
              "        buttonEl.style.display =\n",
              "          google.colab.kernel.accessAllowed ? 'block' : 'none';\n",
              "\n",
              "        async function convertToInteractive(key) {\n",
              "          const element = document.querySelector('#df-4ca7e20f-3ea8-499c-b63f-6b0ebffdf7a9');\n",
              "          const dataTable =\n",
              "            await google.colab.kernel.invokeFunction('convertToInteractive',\n",
              "                                                     [key], {});\n",
              "          if (!dataTable) return;\n",
              "\n",
              "          const docLinkHtml = 'Like what you see? Visit the ' +\n",
              "            '<a target=\"_blank\" href=https://colab.research.google.com/notebooks/data_table.ipynb>data table notebook</a>'\n",
              "            + ' to learn more about interactive tables.';\n",
              "          element.innerHTML = '';\n",
              "          dataTable['output_type'] = 'display_data';\n",
              "          await google.colab.output.renderOutput(dataTable, element);\n",
              "          const docLink = document.createElement('div');\n",
              "          docLink.innerHTML = docLinkHtml;\n",
              "          element.appendChild(docLink);\n",
              "        }\n",
              "      </script>\n",
              "    </div>\n",
              "  </div>\n",
              "  "
            ]
          },
          "metadata": {},
          "execution_count": 161
        }
      ]
    },
    {
      "cell_type": "code",
      "source": [
        "y.head()"
      ],
      "metadata": {
        "colab": {
          "base_uri": "https://localhost:8080/"
        },
        "id": "izkMqny0pNKa",
        "outputId": "e8659c2c-b094-4b5d-f52f-af6d192837b0"
      },
      "execution_count": 162,
      "outputs": [
        {
          "output_type": "execute_result",
          "data": {
            "text/plain": [
              "0    0.0\n",
              "1    1.0\n",
              "2    1.0\n",
              "3    0.0\n",
              "4    0.0\n",
              "Name: Offer Accepted, dtype: float64"
            ]
          },
          "metadata": {},
          "execution_count": 162
        }
      ]
    },
    {
      "cell_type": "markdown",
      "source": [
        "### Modelling"
      ],
      "metadata": {
        "id": "oNopmJG-vJsw"
      }
    },
    {
      "cell_type": "code",
      "source": [
        "X.shape"
      ],
      "metadata": {
        "colab": {
          "base_uri": "https://localhost:8080/"
        },
        "id": "I4fShBInzr17",
        "outputId": "5d11d1da-4bac-458c-bbe6-c8a1d8513b80"
      },
      "execution_count": 163,
      "outputs": [
        {
          "output_type": "execute_result",
          "data": {
            "text/plain": [
              "(12379, 23)"
            ]
          },
          "metadata": {},
          "execution_count": 163
        }
      ]
    },
    {
      "cell_type": "code",
      "source": [
        "X_train, X_test = X[:11000], X[11000:]\n",
        "y_train, y_test = y[:11000], y[11000:]"
      ],
      "metadata": {
        "id": "KSqeXT0pzryi"
      },
      "execution_count": 164,
      "outputs": []
    },
    {
      "cell_type": "code",
      "source": [
        "from xgboost import XGBClassifier\n",
        "\n",
        "xgb_classifier = XGBClassifier()\n",
        "xgb_classifier.fit(X, y)"
      ],
      "metadata": {
        "colab": {
          "base_uri": "https://localhost:8080/"
        },
        "id": "6HsiTjWCvVHC",
        "outputId": "c4ab9a7c-46dc-49a4-95f5-2e9771ac4b5f"
      },
      "execution_count": 175,
      "outputs": [
        {
          "output_type": "execute_result",
          "data": {
            "text/plain": [
              "XGBClassifier()"
            ]
          },
          "metadata": {},
          "execution_count": 175
        }
      ]
    },
    {
      "cell_type": "code",
      "source": [
        "y_pred = xgb_classifier.predict(X_test)"
      ],
      "metadata": {
        "id": "S4mf4eGXzWqq"
      },
      "execution_count": 176,
      "outputs": []
    },
    {
      "cell_type": "code",
      "source": [
        "from sklearn.metrics import f1_score\n",
        "\n",
        "print(f1_score(y_test, y_pred))"
      ],
      "metadata": {
        "colab": {
          "base_uri": "https://localhost:8080/"
        },
        "id": "vy9VtSaA21yc",
        "outputId": "b4c31b39-c9fc-4643-aaf8-db16c2f0a769"
      },
      "execution_count": 179,
      "outputs": [
        {
          "output_type": "stream",
          "name": "stdout",
          "text": [
            "0.7076749435665914\n"
          ]
        }
      ]
    },
    {
      "cell_type": "markdown",
      "source": [
        "### Testing"
      ],
      "metadata": {
        "id": "iWNoAoVs5ZF3"
      }
    },
    {
      "cell_type": "code",
      "source": [
        "test_pred = xgb_classifier.predict(test)"
      ],
      "metadata": {
        "id": "gmSthWq04VbI"
      },
      "execution_count": 180,
      "outputs": []
    },
    {
      "cell_type": "code",
      "source": [
        "test_pred"
      ],
      "metadata": {
        "colab": {
          "base_uri": "https://localhost:8080/"
        },
        "id": "Dbju5Ahu4dHA",
        "outputId": "1557e91f-651c-435e-f18c-313f36c760bd"
      },
      "execution_count": 182,
      "outputs": [
        {
          "output_type": "execute_result",
          "data": {
            "text/plain": [
              "array([0., 1., 1., ..., 0., 0., 1.])"
            ]
          },
          "metadata": {},
          "execution_count": 182
        }
      ]
    },
    {
      "cell_type": "code",
      "source": [
        "result = pd.DataFrame(test_pred)"
      ],
      "metadata": {
        "id": "ErXSYrEd4pHk"
      },
      "execution_count": 194,
      "outputs": []
    },
    {
      "cell_type": "code",
      "source": [
        "result.head()"
      ],
      "metadata": {
        "colab": {
          "base_uri": "https://localhost:8080/",
          "height": 206
        },
        "id": "4zB2v1Na5FxI",
        "outputId": "d3b49af1-b080-4c03-9a24-21edd87b0ee9"
      },
      "execution_count": 195,
      "outputs": [
        {
          "output_type": "execute_result",
          "data": {
            "text/plain": [
              "     0\n",
              "0  0.0\n",
              "1  1.0\n",
              "2  1.0\n",
              "3  0.0\n",
              "4  1.0"
            ],
            "text/html": [
              "\n",
              "  <div id=\"df-9af10e7b-a194-48bd-a874-f1a693e110d7\">\n",
              "    <div class=\"colab-df-container\">\n",
              "      <div>\n",
              "<style scoped>\n",
              "    .dataframe tbody tr th:only-of-type {\n",
              "        vertical-align: middle;\n",
              "    }\n",
              "\n",
              "    .dataframe tbody tr th {\n",
              "        vertical-align: top;\n",
              "    }\n",
              "\n",
              "    .dataframe thead th {\n",
              "        text-align: right;\n",
              "    }\n",
              "</style>\n",
              "<table border=\"1\" class=\"dataframe\">\n",
              "  <thead>\n",
              "    <tr style=\"text-align: right;\">\n",
              "      <th></th>\n",
              "      <th>0</th>\n",
              "    </tr>\n",
              "  </thead>\n",
              "  <tbody>\n",
              "    <tr>\n",
              "      <th>0</th>\n",
              "      <td>0.0</td>\n",
              "    </tr>\n",
              "    <tr>\n",
              "      <th>1</th>\n",
              "      <td>1.0</td>\n",
              "    </tr>\n",
              "    <tr>\n",
              "      <th>2</th>\n",
              "      <td>1.0</td>\n",
              "    </tr>\n",
              "    <tr>\n",
              "      <th>3</th>\n",
              "      <td>0.0</td>\n",
              "    </tr>\n",
              "    <tr>\n",
              "      <th>4</th>\n",
              "      <td>1.0</td>\n",
              "    </tr>\n",
              "  </tbody>\n",
              "</table>\n",
              "</div>\n",
              "      <button class=\"colab-df-convert\" onclick=\"convertToInteractive('df-9af10e7b-a194-48bd-a874-f1a693e110d7')\"\n",
              "              title=\"Convert this dataframe to an interactive table.\"\n",
              "              style=\"display:none;\">\n",
              "        \n",
              "  <svg xmlns=\"http://www.w3.org/2000/svg\" height=\"24px\"viewBox=\"0 0 24 24\"\n",
              "       width=\"24px\">\n",
              "    <path d=\"M0 0h24v24H0V0z\" fill=\"none\"/>\n",
              "    <path d=\"M18.56 5.44l.94 2.06.94-2.06 2.06-.94-2.06-.94-.94-2.06-.94 2.06-2.06.94zm-11 1L8.5 8.5l.94-2.06 2.06-.94-2.06-.94L8.5 2.5l-.94 2.06-2.06.94zm10 10l.94 2.06.94-2.06 2.06-.94-2.06-.94-.94-2.06-.94 2.06-2.06.94z\"/><path d=\"M17.41 7.96l-1.37-1.37c-.4-.4-.92-.59-1.43-.59-.52 0-1.04.2-1.43.59L10.3 9.45l-7.72 7.72c-.78.78-.78 2.05 0 2.83L4 21.41c.39.39.9.59 1.41.59.51 0 1.02-.2 1.41-.59l7.78-7.78 2.81-2.81c.8-.78.8-2.07 0-2.86zM5.41 20L4 18.59l7.72-7.72 1.47 1.35L5.41 20z\"/>\n",
              "  </svg>\n",
              "      </button>\n",
              "      \n",
              "  <style>\n",
              "    .colab-df-container {\n",
              "      display:flex;\n",
              "      flex-wrap:wrap;\n",
              "      gap: 12px;\n",
              "    }\n",
              "\n",
              "    .colab-df-convert {\n",
              "      background-color: #E8F0FE;\n",
              "      border: none;\n",
              "      border-radius: 50%;\n",
              "      cursor: pointer;\n",
              "      display: none;\n",
              "      fill: #1967D2;\n",
              "      height: 32px;\n",
              "      padding: 0 0 0 0;\n",
              "      width: 32px;\n",
              "    }\n",
              "\n",
              "    .colab-df-convert:hover {\n",
              "      background-color: #E2EBFA;\n",
              "      box-shadow: 0px 1px 2px rgba(60, 64, 67, 0.3), 0px 1px 3px 1px rgba(60, 64, 67, 0.15);\n",
              "      fill: #174EA6;\n",
              "    }\n",
              "\n",
              "    [theme=dark] .colab-df-convert {\n",
              "      background-color: #3B4455;\n",
              "      fill: #D2E3FC;\n",
              "    }\n",
              "\n",
              "    [theme=dark] .colab-df-convert:hover {\n",
              "      background-color: #434B5C;\n",
              "      box-shadow: 0px 1px 3px 1px rgba(0, 0, 0, 0.15);\n",
              "      filter: drop-shadow(0px 1px 2px rgba(0, 0, 0, 0.3));\n",
              "      fill: #FFFFFF;\n",
              "    }\n",
              "  </style>\n",
              "\n",
              "      <script>\n",
              "        const buttonEl =\n",
              "          document.querySelector('#df-9af10e7b-a194-48bd-a874-f1a693e110d7 button.colab-df-convert');\n",
              "        buttonEl.style.display =\n",
              "          google.colab.kernel.accessAllowed ? 'block' : 'none';\n",
              "\n",
              "        async function convertToInteractive(key) {\n",
              "          const element = document.querySelector('#df-9af10e7b-a194-48bd-a874-f1a693e110d7');\n",
              "          const dataTable =\n",
              "            await google.colab.kernel.invokeFunction('convertToInteractive',\n",
              "                                                     [key], {});\n",
              "          if (!dataTable) return;\n",
              "\n",
              "          const docLinkHtml = 'Like what you see? Visit the ' +\n",
              "            '<a target=\"_blank\" href=https://colab.research.google.com/notebooks/data_table.ipynb>data table notebook</a>'\n",
              "            + ' to learn more about interactive tables.';\n",
              "          element.innerHTML = '';\n",
              "          dataTable['output_type'] = 'display_data';\n",
              "          await google.colab.output.renderOutput(dataTable, element);\n",
              "          const docLink = document.createElement('div');\n",
              "          docLink.innerHTML = docLinkHtml;\n",
              "          element.appendChild(docLink);\n",
              "        }\n",
              "      </script>\n",
              "    </div>\n",
              "  </div>\n",
              "  "
            ]
          },
          "metadata": {},
          "execution_count": 195
        }
      ]
    },
    {
      "cell_type": "code",
      "source": [
        "result.rename(columns = {0:'Offer Accepted'}, inplace=True)\n",
        "result.index.name='id'"
      ],
      "metadata": {
        "id": "jg1gSEIE7NbD"
      },
      "execution_count": 201,
      "outputs": []
    },
    {
      "cell_type": "code",
      "source": [
        "result.head()"
      ],
      "metadata": {
        "colab": {
          "base_uri": "https://localhost:8080/",
          "height": 237
        },
        "id": "xyEGL_ZP7alO",
        "outputId": "2f771e21-ee3d-46f2-826d-c346cd07138f"
      },
      "execution_count": 202,
      "outputs": [
        {
          "output_type": "execute_result",
          "data": {
            "text/plain": [
              "    Offer Accepted\n",
              "id                \n",
              "0              0.0\n",
              "1              1.0\n",
              "2              1.0\n",
              "3              0.0\n",
              "4              1.0"
            ],
            "text/html": [
              "\n",
              "  <div id=\"df-1d359e5f-f0d0-4961-8e34-4bd3eb3f511c\">\n",
              "    <div class=\"colab-df-container\">\n",
              "      <div>\n",
              "<style scoped>\n",
              "    .dataframe tbody tr th:only-of-type {\n",
              "        vertical-align: middle;\n",
              "    }\n",
              "\n",
              "    .dataframe tbody tr th {\n",
              "        vertical-align: top;\n",
              "    }\n",
              "\n",
              "    .dataframe thead th {\n",
              "        text-align: right;\n",
              "    }\n",
              "</style>\n",
              "<table border=\"1\" class=\"dataframe\">\n",
              "  <thead>\n",
              "    <tr style=\"text-align: right;\">\n",
              "      <th></th>\n",
              "      <th>Offer Accepted</th>\n",
              "    </tr>\n",
              "    <tr>\n",
              "      <th>id</th>\n",
              "      <th></th>\n",
              "    </tr>\n",
              "  </thead>\n",
              "  <tbody>\n",
              "    <tr>\n",
              "      <th>0</th>\n",
              "      <td>0.0</td>\n",
              "    </tr>\n",
              "    <tr>\n",
              "      <th>1</th>\n",
              "      <td>1.0</td>\n",
              "    </tr>\n",
              "    <tr>\n",
              "      <th>2</th>\n",
              "      <td>1.0</td>\n",
              "    </tr>\n",
              "    <tr>\n",
              "      <th>3</th>\n",
              "      <td>0.0</td>\n",
              "    </tr>\n",
              "    <tr>\n",
              "      <th>4</th>\n",
              "      <td>1.0</td>\n",
              "    </tr>\n",
              "  </tbody>\n",
              "</table>\n",
              "</div>\n",
              "      <button class=\"colab-df-convert\" onclick=\"convertToInteractive('df-1d359e5f-f0d0-4961-8e34-4bd3eb3f511c')\"\n",
              "              title=\"Convert this dataframe to an interactive table.\"\n",
              "              style=\"display:none;\">\n",
              "        \n",
              "  <svg xmlns=\"http://www.w3.org/2000/svg\" height=\"24px\"viewBox=\"0 0 24 24\"\n",
              "       width=\"24px\">\n",
              "    <path d=\"M0 0h24v24H0V0z\" fill=\"none\"/>\n",
              "    <path d=\"M18.56 5.44l.94 2.06.94-2.06 2.06-.94-2.06-.94-.94-2.06-.94 2.06-2.06.94zm-11 1L8.5 8.5l.94-2.06 2.06-.94-2.06-.94L8.5 2.5l-.94 2.06-2.06.94zm10 10l.94 2.06.94-2.06 2.06-.94-2.06-.94-.94-2.06-.94 2.06-2.06.94z\"/><path d=\"M17.41 7.96l-1.37-1.37c-.4-.4-.92-.59-1.43-.59-.52 0-1.04.2-1.43.59L10.3 9.45l-7.72 7.72c-.78.78-.78 2.05 0 2.83L4 21.41c.39.39.9.59 1.41.59.51 0 1.02-.2 1.41-.59l7.78-7.78 2.81-2.81c.8-.78.8-2.07 0-2.86zM5.41 20L4 18.59l7.72-7.72 1.47 1.35L5.41 20z\"/>\n",
              "  </svg>\n",
              "      </button>\n",
              "      \n",
              "  <style>\n",
              "    .colab-df-container {\n",
              "      display:flex;\n",
              "      flex-wrap:wrap;\n",
              "      gap: 12px;\n",
              "    }\n",
              "\n",
              "    .colab-df-convert {\n",
              "      background-color: #E8F0FE;\n",
              "      border: none;\n",
              "      border-radius: 50%;\n",
              "      cursor: pointer;\n",
              "      display: none;\n",
              "      fill: #1967D2;\n",
              "      height: 32px;\n",
              "      padding: 0 0 0 0;\n",
              "      width: 32px;\n",
              "    }\n",
              "\n",
              "    .colab-df-convert:hover {\n",
              "      background-color: #E2EBFA;\n",
              "      box-shadow: 0px 1px 2px rgba(60, 64, 67, 0.3), 0px 1px 3px 1px rgba(60, 64, 67, 0.15);\n",
              "      fill: #174EA6;\n",
              "    }\n",
              "\n",
              "    [theme=dark] .colab-df-convert {\n",
              "      background-color: #3B4455;\n",
              "      fill: #D2E3FC;\n",
              "    }\n",
              "\n",
              "    [theme=dark] .colab-df-convert:hover {\n",
              "      background-color: #434B5C;\n",
              "      box-shadow: 0px 1px 3px 1px rgba(0, 0, 0, 0.15);\n",
              "      filter: drop-shadow(0px 1px 2px rgba(0, 0, 0, 0.3));\n",
              "      fill: #FFFFFF;\n",
              "    }\n",
              "  </style>\n",
              "\n",
              "      <script>\n",
              "        const buttonEl =\n",
              "          document.querySelector('#df-1d359e5f-f0d0-4961-8e34-4bd3eb3f511c button.colab-df-convert');\n",
              "        buttonEl.style.display =\n",
              "          google.colab.kernel.accessAllowed ? 'block' : 'none';\n",
              "\n",
              "        async function convertToInteractive(key) {\n",
              "          const element = document.querySelector('#df-1d359e5f-f0d0-4961-8e34-4bd3eb3f511c');\n",
              "          const dataTable =\n",
              "            await google.colab.kernel.invokeFunction('convertToInteractive',\n",
              "                                                     [key], {});\n",
              "          if (!dataTable) return;\n",
              "\n",
              "          const docLinkHtml = 'Like what you see? Visit the ' +\n",
              "            '<a target=\"_blank\" href=https://colab.research.google.com/notebooks/data_table.ipynb>data table notebook</a>'\n",
              "            + ' to learn more about interactive tables.';\n",
              "          element.innerHTML = '';\n",
              "          dataTable['output_type'] = 'display_data';\n",
              "          await google.colab.output.renderOutput(dataTable, element);\n",
              "          const docLink = document.createElement('div');\n",
              "          docLink.innerHTML = docLinkHtml;\n",
              "          element.appendChild(docLink);\n",
              "        }\n",
              "      </script>\n",
              "    </div>\n",
              "  </div>\n",
              "  "
            ]
          },
          "metadata": {},
          "execution_count": 202
        }
      ]
    },
    {
      "cell_type": "code",
      "source": [
        "submission = result.replace({0.0:'No',1.0:'Yes'})"
      ],
      "metadata": {
        "id": "SQ93bYev5XVI"
      },
      "execution_count": 203,
      "outputs": []
    },
    {
      "cell_type": "code",
      "source": [
        "submission.head()"
      ],
      "metadata": {
        "colab": {
          "base_uri": "https://localhost:8080/",
          "height": 237
        },
        "id": "JlSOJ9QB5ms4",
        "outputId": "7d39aac8-3085-4721-c361-829f0b6f17e3"
      },
      "execution_count": 204,
      "outputs": [
        {
          "output_type": "execute_result",
          "data": {
            "text/plain": [
              "   Offer Accepted\n",
              "id               \n",
              "0              No\n",
              "1             Yes\n",
              "2             Yes\n",
              "3              No\n",
              "4             Yes"
            ],
            "text/html": [
              "\n",
              "  <div id=\"df-d08f92b1-ee71-4c4d-9420-ed08a6afb362\">\n",
              "    <div class=\"colab-df-container\">\n",
              "      <div>\n",
              "<style scoped>\n",
              "    .dataframe tbody tr th:only-of-type {\n",
              "        vertical-align: middle;\n",
              "    }\n",
              "\n",
              "    .dataframe tbody tr th {\n",
              "        vertical-align: top;\n",
              "    }\n",
              "\n",
              "    .dataframe thead th {\n",
              "        text-align: right;\n",
              "    }\n",
              "</style>\n",
              "<table border=\"1\" class=\"dataframe\">\n",
              "  <thead>\n",
              "    <tr style=\"text-align: right;\">\n",
              "      <th></th>\n",
              "      <th>Offer Accepted</th>\n",
              "    </tr>\n",
              "    <tr>\n",
              "      <th>id</th>\n",
              "      <th></th>\n",
              "    </tr>\n",
              "  </thead>\n",
              "  <tbody>\n",
              "    <tr>\n",
              "      <th>0</th>\n",
              "      <td>No</td>\n",
              "    </tr>\n",
              "    <tr>\n",
              "      <th>1</th>\n",
              "      <td>Yes</td>\n",
              "    </tr>\n",
              "    <tr>\n",
              "      <th>2</th>\n",
              "      <td>Yes</td>\n",
              "    </tr>\n",
              "    <tr>\n",
              "      <th>3</th>\n",
              "      <td>No</td>\n",
              "    </tr>\n",
              "    <tr>\n",
              "      <th>4</th>\n",
              "      <td>Yes</td>\n",
              "    </tr>\n",
              "  </tbody>\n",
              "</table>\n",
              "</div>\n",
              "      <button class=\"colab-df-convert\" onclick=\"convertToInteractive('df-d08f92b1-ee71-4c4d-9420-ed08a6afb362')\"\n",
              "              title=\"Convert this dataframe to an interactive table.\"\n",
              "              style=\"display:none;\">\n",
              "        \n",
              "  <svg xmlns=\"http://www.w3.org/2000/svg\" height=\"24px\"viewBox=\"0 0 24 24\"\n",
              "       width=\"24px\">\n",
              "    <path d=\"M0 0h24v24H0V0z\" fill=\"none\"/>\n",
              "    <path d=\"M18.56 5.44l.94 2.06.94-2.06 2.06-.94-2.06-.94-.94-2.06-.94 2.06-2.06.94zm-11 1L8.5 8.5l.94-2.06 2.06-.94-2.06-.94L8.5 2.5l-.94 2.06-2.06.94zm10 10l.94 2.06.94-2.06 2.06-.94-2.06-.94-.94-2.06-.94 2.06-2.06.94z\"/><path d=\"M17.41 7.96l-1.37-1.37c-.4-.4-.92-.59-1.43-.59-.52 0-1.04.2-1.43.59L10.3 9.45l-7.72 7.72c-.78.78-.78 2.05 0 2.83L4 21.41c.39.39.9.59 1.41.59.51 0 1.02-.2 1.41-.59l7.78-7.78 2.81-2.81c.8-.78.8-2.07 0-2.86zM5.41 20L4 18.59l7.72-7.72 1.47 1.35L5.41 20z\"/>\n",
              "  </svg>\n",
              "      </button>\n",
              "      \n",
              "  <style>\n",
              "    .colab-df-container {\n",
              "      display:flex;\n",
              "      flex-wrap:wrap;\n",
              "      gap: 12px;\n",
              "    }\n",
              "\n",
              "    .colab-df-convert {\n",
              "      background-color: #E8F0FE;\n",
              "      border: none;\n",
              "      border-radius: 50%;\n",
              "      cursor: pointer;\n",
              "      display: none;\n",
              "      fill: #1967D2;\n",
              "      height: 32px;\n",
              "      padding: 0 0 0 0;\n",
              "      width: 32px;\n",
              "    }\n",
              "\n",
              "    .colab-df-convert:hover {\n",
              "      background-color: #E2EBFA;\n",
              "      box-shadow: 0px 1px 2px rgba(60, 64, 67, 0.3), 0px 1px 3px 1px rgba(60, 64, 67, 0.15);\n",
              "      fill: #174EA6;\n",
              "    }\n",
              "\n",
              "    [theme=dark] .colab-df-convert {\n",
              "      background-color: #3B4455;\n",
              "      fill: #D2E3FC;\n",
              "    }\n",
              "\n",
              "    [theme=dark] .colab-df-convert:hover {\n",
              "      background-color: #434B5C;\n",
              "      box-shadow: 0px 1px 3px 1px rgba(0, 0, 0, 0.15);\n",
              "      filter: drop-shadow(0px 1px 2px rgba(0, 0, 0, 0.3));\n",
              "      fill: #FFFFFF;\n",
              "    }\n",
              "  </style>\n",
              "\n",
              "      <script>\n",
              "        const buttonEl =\n",
              "          document.querySelector('#df-d08f92b1-ee71-4c4d-9420-ed08a6afb362 button.colab-df-convert');\n",
              "        buttonEl.style.display =\n",
              "          google.colab.kernel.accessAllowed ? 'block' : 'none';\n",
              "\n",
              "        async function convertToInteractive(key) {\n",
              "          const element = document.querySelector('#df-d08f92b1-ee71-4c4d-9420-ed08a6afb362');\n",
              "          const dataTable =\n",
              "            await google.colab.kernel.invokeFunction('convertToInteractive',\n",
              "                                                     [key], {});\n",
              "          if (!dataTable) return;\n",
              "\n",
              "          const docLinkHtml = 'Like what you see? Visit the ' +\n",
              "            '<a target=\"_blank\" href=https://colab.research.google.com/notebooks/data_table.ipynb>data table notebook</a>'\n",
              "            + ' to learn more about interactive tables.';\n",
              "          element.innerHTML = '';\n",
              "          dataTable['output_type'] = 'display_data';\n",
              "          await google.colab.output.renderOutput(dataTable, element);\n",
              "          const docLink = document.createElement('div');\n",
              "          docLink.innerHTML = docLinkHtml;\n",
              "          element.appendChild(docLink);\n",
              "        }\n",
              "      </script>\n",
              "    </div>\n",
              "  </div>\n",
              "  "
            ]
          },
          "metadata": {},
          "execution_count": 204
        }
      ]
    },
    {
      "cell_type": "code",
      "source": [
        "submission.to_csv()"
      ],
      "metadata": {
        "colab": {
          "base_uri": "https://localhost:8080/",
          "height": 192
        },
        "id": "D7f951bJ8ALQ",
        "outputId": "7c48ecb9-ea68-4c61-ed95-4155acda20b9"
      },
      "execution_count": 206,
      "outputs": [
        {
          "output_type": "execute_result",
          "data": {
            "text/plain": [
              "'id,Offer Accepted\\n0,No\\n1,Yes\\n2,Yes\\n3,No\\n4,Yes\\n5,Yes\\n6,No\\n7,Yes\\n8,Yes\\n9,Yes\\n10,Yes\\n11,No\\n12,Yes\\n13,No\\n14,Yes\\n15,Yes\\n16,Yes\\n17,Yes\\n18,No\\n19,Yes\\n20,Yes\\n21,Yes\\n22,Yes\\n23,Yes\\n24,Yes\\n25,No\\n26,Yes\\n27,No\\n28,Yes\\n29,Yes\\n30,Yes\\n31,Yes\\n32,Yes\\n33,Yes\\n34,Yes\\n35,Yes\\n36,Yes\\n37,Yes\\n38,Yes\\n39,Yes\\n40,Yes\\n41,Yes\\n42,Yes\\n43,No\\n44,Yes\\n45,Yes\\n46,Yes\\n47,No\\n48,No\\n49,Yes\\n50,No\\n51,Yes\\n52,Yes\\n53,Yes\\n54,Yes\\n55,Yes\\n56,Yes\\n57,Yes\\n58,Yes\\n59,No\\n60,Yes\\n61,No\\n62,Yes\\n63,Yes\\n64,Yes\\n65,No\\n66,No\\n67,Yes\\n68,Yes\\n69,Yes\\n70,Yes\\n71,Yes\\n72,No\\n73,Yes\\n74,Yes\\n75,Yes\\n76,Yes\\n77,Yes\\n78,Yes\\n79,Yes\\n80,Yes\\n81,Yes\\n82,Yes\\n83,Yes\\n84,Yes\\n85,Yes\\n86,Yes\\n87,Yes\\n88,Yes\\n89,Yes\\n90,Yes\\n91,Yes\\n92,No\\n93,No\\n94,Yes\\n95,Yes\\n96,Yes\\n97,Yes\\n98,Yes\\n99,Yes\\n100,Yes\\n101,Yes\\n102,No\\n103,Yes\\n104,Yes\\n105,No\\n106,No\\n107,Yes\\n108,Yes\\n109,Yes\\n110,Yes\\n111,Yes\\n112,Yes\\n113,Yes\\n114,Yes\\n115,Yes\\n116,Yes\\n117,Yes\\n118,Yes\\n119,No\\n120,Yes\\n121,No\\n122,No\\n123,No\\n124,Yes\\n125,Yes\\n126,Yes\\n127,No\\n128,Yes\\n129,No\\n130,Yes\\n131,Yes\\n132,Yes\\n133,Yes\\n134,Yes\\n135,Yes\\n136,Yes\\n137,No\\n138,Yes\\n139,Yes\\n140,Yes\\n141,Yes\\n142,Yes\\n143,Yes\\n144,Yes\\n145,Yes\\n146,Yes\\n147,Yes\\n148,No\\n149,Yes\\n150,No\\n151,Yes\\n152,Yes\\n153,Yes\\n154,Yes\\n155,Yes\\n156,No\\n157,Yes\\n158,Yes\\n159,Yes\\n160,Yes\\n161,No\\n162,No\\n163,No\\n164,Yes\\n165,Yes\\n166,No\\n167,No\\n168,No\\n169,No\\n170,Yes\\n171,Yes\\n172,Yes\\n173,Yes\\n174,Yes\\n175,No\\n176,No\\n177,Yes\\n178,No\\n179,Yes\\n180,Yes\\n181,Yes\\n182,Yes\\n183,No\\n184,Yes\\n185,Yes\\n186,No\\n187,Yes\\n188,Yes\\n189,Yes\\n190,Yes\\n191,Yes\\n192,Yes\\n193,No\\n194,No\\n195,Yes\\n196,No\\n197,Yes\\n198,Yes\\n199,No\\n200,Yes\\n201,Yes\\n202,Yes\\n203,Yes\\n204,Yes\\n205,Yes\\n206,Yes\\n207,Yes\\n208,Yes\\n209,No\\n210,No\\n211,Yes\\n212,Yes\\n213,Yes\\n214,Yes\\n215,Yes\\n216,Yes\\n217,Yes\\n218,Yes\\n219,Yes\\n220,Yes\\n221,No\\n222,Yes\\n223,Yes\\n224,Yes\\n225,No\\n226,No\\n227,Yes\\n228,Yes\\n229,Yes\\n230,Yes\\n231,Yes\\n232,Yes\\n233,Yes\\n234,Yes\\n235,Yes\\n236,Yes\\n237,Yes\\n238,Yes\\n239,Yes\\n240,Yes\\n241,Yes\\n242,Yes\\n243,Yes\\n244,No\\n245,Yes\\n246,Yes\\n247,Yes\\n248,Yes\\n249,Yes\\n250,Yes\\n251,Yes\\n252,Yes\\n253,Yes\\n254,Yes\\n255,Yes\\n256,Yes\\n257,Yes\\n258,Yes\\n259,Yes\\n260,Yes\\n261,Yes\\n262,No\\n263,Yes\\n264,No\\n265,Yes\\n266,Yes\\n267,Yes\\n268,No\\n269,No\\n270,Yes\\n271,Yes\\n272,Yes\\n273,Yes\\n274,Yes\\n275,No\\n276,Yes\\n277,No\\n278,Yes\\n279,Yes\\n280,Yes\\n281,Yes\\n282,Yes\\n283,Yes\\n284,No\\n285,Yes\\n286,No\\n287,Yes\\n288,Yes\\n289,Yes\\n290,Yes\\n291,Yes\\n292,Yes\\n293,Yes\\n294,No\\n295,No\\n296,Yes\\n297,Yes\\n298,No\\n299,Yes\\n300,Yes\\n301,No\\n302,Yes\\n303,Yes\\n304,Yes\\n305,Yes\\n306,Yes\\n307,Yes\\n308,Yes\\n309,No\\n310,Yes\\n311,Yes\\n312,Yes\\n313,No\\n314,Yes\\n315,Yes\\n316,Yes\\n317,Yes\\n318,Yes\\n319,No\\n320,Yes\\n321,Yes\\n322,Yes\\n323,Yes\\n324,Yes\\n325,No\\n326,No\\n327,Yes\\n328,Yes\\n329,Yes\\n330,No\\n331,No\\n332,Yes\\n333,Yes\\n334,Yes\\n335,Yes\\n336,Yes\\n337,No\\n338,No\\n339,Yes\\n340,Yes\\n341,No\\n342,No\\n343,Yes\\n344,No\\n345,Yes\\n346,Yes\\n347,Yes\\n348,No\\n349,Yes\\n350,No\\n351,Yes\\n352,Yes\\n353,Yes\\n354,Yes\\n355,Yes\\n356,No\\n357,Yes\\n358,Yes\\n359,Yes\\n360,Yes\\n361,Yes\\n362,No\\n363,No\\n364,Yes\\n365,No\\n366,Yes\\n367,Yes\\n368,Yes\\n369,Yes\\n370,Yes\\n371,No\\n372,No\\n373,No\\n374,Yes\\n375,Yes\\n376,Yes\\n377,No\\n378,No\\n379,No\\n380,Yes\\n381,Yes\\n382,Yes\\n383,Yes\\n384,Yes\\n385,Yes\\n386,No\\n387,Yes\\n388,Yes\\n389,Yes\\n390,No\\n391,Yes\\n392,No\\n393,No\\n394,Yes\\n395,Yes\\n396,Yes\\n397,Yes\\n398,Yes\\n399,Yes\\n400,Yes\\n401,No\\n402,Yes\\n403,Yes\\n404,No\\n405,Yes\\n406,Yes\\n407,Yes\\n408,Yes\\n409,Yes\\n410,Yes\\n411,No\\n412,Yes\\n413,Yes\\n414,Yes\\n415,Yes\\n416,Yes\\n417,Yes\\n418,Yes\\n419,Yes\\n420,No\\n421,No\\n422,Yes\\n423,No\\n424,No\\n425,Yes\\n426,No\\n427,Yes\\n428,No\\n429,Yes\\n430,Yes\\n431,No\\n432,Yes\\n433,Yes\\n434,Yes\\n435,Yes\\n436,No\\n437,Yes\\n438,No\\n439,Yes\\n440,Yes\\n441,Yes\\n442,Yes\\n443,Yes\\n444,Yes\\n445,Yes\\n446,Yes\\n447,No\\n448,Yes\\n449,Yes\\n450,Yes\\n451,Yes\\n452,Yes\\n453,Yes\\n454,Yes\\n455,Yes\\n456,Yes\\n457,No\\n458,Yes\\n459,Yes\\n460,No\\n461,Yes\\n462,Yes\\n463,Yes\\n464,Yes\\n465,Yes\\n466,Yes\\n467,Yes\\n468,Yes\\n469,Yes\\n470,Yes\\n471,Yes\\n472,Yes\\n473,Yes\\n474,No\\n475,Yes\\n476,Yes\\n477,Yes\\n478,Yes\\n479,Yes\\n480,Yes\\n481,Yes\\n482,Yes\\n483,Yes\\n484,Yes\\n485,No\\n486,No\\n487,Yes\\n488,No\\n489,No\\n490,Yes\\n491,No\\n492,Yes\\n493,No\\n494,Yes\\n495,Yes\\n496,Yes\\n497,No\\n498,Yes\\n499,No\\n500,No\\n501,Yes\\n502,No\\n503,No\\n504,No\\n505,Yes\\n506,No\\n507,No\\n508,Yes\\n509,Yes\\n510,Yes\\n511,Yes\\n512,Yes\\n513,No\\n514,Yes\\n515,Yes\\n516,Yes\\n517,No\\n518,Yes\\n519,No\\n520,Yes\\n521,Yes\\n522,Yes\\n523,No\\n524,No\\n525,Yes\\n526,No\\n527,Yes\\n528,Yes\\n529,Yes\\n530,No\\n531,No\\n532,Yes\\n533,Yes\\n534,Yes\\n535,Yes\\n536,No\\n537,No\\n538,No\\n539,Yes\\n540,Yes\\n541,Yes\\n542,No\\n543,Yes\\n544,Yes\\n545,Yes\\n546,Yes\\n547,Yes\\n548,No\\n549,Yes\\n550,Yes\\n551,Yes\\n552,Yes\\n553,No\\n554,Yes\\n555,Yes\\n556,Yes\\n557,Yes\\n558,Yes\\n559,Yes\\n560,Yes\\n561,No\\n562,Yes\\n563,Yes\\n564,Yes\\n565,Yes\\n566,Yes\\n567,Yes\\n568,Yes\\n569,Yes\\n570,Yes\\n571,Yes\\n572,Yes\\n573,No\\n574,No\\n575,No\\n576,Yes\\n577,Yes\\n578,Yes\\n579,Yes\\n580,Yes\\n581,Yes\\n582,Yes\\n583,Yes\\n584,Yes\\n585,Yes\\n586,No\\n587,Yes\\n588,Yes\\n589,Yes\\n590,No\\n591,Yes\\n592,Yes\\n593,No\\n594,Yes\\n595,No\\n596,Yes\\n597,Yes\\n598,Yes\\n599,No\\n600,Yes\\n601,Yes\\n602,Yes\\n603,Yes\\n604,No\\n605,Yes\\n606,Yes\\n607,Yes\\n608,No\\n609,Yes\\n610,Yes\\n611,Yes\\n612,Yes\\n613,Yes\\n614,Yes\\n615,No\\n616,Yes\\n617,No\\n618,No\\n619,Yes\\n620,Yes\\n621,Yes\\n622,Yes\\n623,Yes\\n624,No\\n625,Yes\\n626,Yes\\n627,Yes\\n628,Yes\\n629,Yes\\n630,Yes\\n631,No\\n632,No\\n633,No\\n634,Yes\\n635,Yes\\n636,Yes\\n637,Yes\\n638,Yes\\n639,No\\n640,No\\n641,No\\n642,Yes\\n643,No\\n644,Yes\\n645,No\\n646,Yes\\n647,No\\n648,Yes\\n649,Yes\\n650,No\\n651,Yes\\n652,Yes\\n653,Yes\\n654,Yes\\n655,No\\n656,Yes\\n657,Yes\\n658,Yes\\n659,No\\n660,Yes\\n661,Yes\\n662,No\\n663,Yes\\n664,Yes\\n665,No\\n666,Yes\\n667,Yes\\n668,Yes\\n669,No\\n670,No\\n671,Yes\\n672,No\\n673,Yes\\n674,Yes\\n675,Yes\\n676,No\\n677,Yes\\n678,Yes\\n679,Yes\\n680,Yes\\n681,Yes\\n682,No\\n683,No\\n684,Yes\\n685,Yes\\n686,No\\n687,Yes\\n688,No\\n689,Yes\\n690,No\\n691,Yes\\n692,Yes\\n693,Yes\\n694,Yes\\n695,Yes\\n696,Yes\\n697,Yes\\n698,Yes\\n699,Yes\\n700,No\\n701,No\\n702,Yes\\n703,Yes\\n704,Yes\\n705,Yes\\n706,Yes\\n707,Yes\\n708,Yes\\n709,No\\n710,Yes\\n711,No\\n712,Yes\\n713,No\\n714,Yes\\n715,No\\n716,No\\n717,Yes\\n718,Yes\\n719,Yes\\n720,Yes\\n721,No\\n722,Yes\\n723,No\\n724,Yes\\n725,Yes\\n726,No\\n727,Yes\\n728,Yes\\n729,Yes\\n730,No\\n731,No\\n732,Yes\\n733,Yes\\n734,Yes\\n735,Yes\\n736,No\\n737,Yes\\n738,Yes\\n739,No\\n740,No\\n741,No\\n742,Yes\\n743,Yes\\n744,Yes\\n745,Yes\\n746,Yes\\n747,Yes\\n748,No\\n749,Yes\\n750,Yes\\n751,Yes\\n752,No\\n753,No\\n754,Yes\\n755,Yes\\n756,No\\n757,Yes\\n758,No\\n759,Yes\\n760,Yes\\n761,Yes\\n762,Yes\\n763,Yes\\n764,No\\n765,Yes\\n766,Yes\\n767,Yes\\n768,Yes\\n769,Yes\\n770,Yes\\n771,Yes\\n772,Yes\\n773,Yes\\n774,Yes\\n775,Yes\\n776,No\\n777,Yes\\n778,No\\n779,Yes\\n780,Yes\\n781,Yes\\n782,Yes\\n783,Yes\\n784,Yes\\n785,Yes\\n786,No\\n787,No\\n788,Yes\\n789,No\\n790,Yes\\n791,No\\n792,No\\n793,No\\n794,Yes\\n795,Yes\\n796,No\\n797,Yes\\n798,Yes\\n799,Yes\\n800,No\\n801,Yes\\n802,Yes\\n803,Yes\\n804,No\\n805,Yes\\n806,Yes\\n807,Yes\\n808,Yes\\n809,Yes\\n810,Yes\\n811,Yes\\n812,No\\n813,Yes\\n814,Yes\\n815,Yes\\n816,Yes\\n817,Yes\\n818,No\\n819,Yes\\n820,Yes\\n821,Yes\\n822,No\\n823,Yes\\n824,Yes\\n825,Yes\\n826,Yes\\n827,Yes\\n828,Yes\\n829,Yes\\n830,No\\n831,Yes\\n832,No\\n833,No\\n834,No\\n835,No\\n836,No\\n837,Yes\\n838,No\\n839,Yes\\n840,No\\n841,Yes\\n842,No\\n843,No\\n844,Yes\\n845,Yes\\n846,Yes\\n847,No\\n848,Yes\\n849,Yes\\n850,No\\n851,Yes\\n852,No\\n853,Yes\\n854,Yes\\n855,No\\n856,Yes\\n857,No\\n858,Yes\\n859,No\\n860,Yes\\n861,Yes\\n862,Yes\\n863,Yes\\n864,Yes\\n865,Yes\\n866,Yes\\n867,Yes\\n868,No\\n869,Yes\\n870,No\\n871,No\\n872,No\\n873,Yes\\n874,Yes\\n875,Yes\\n876,Yes\\n877,Yes\\n878,No\\n879,No\\n880,Yes\\n881,No\\n882,Yes\\n883,Yes\\n884,Yes\\n885,Yes\\n886,Yes\\n887,No\\n888,No\\n889,Yes\\n890,Yes\\n891,No\\n892,Yes\\n893,No\\n894,Yes\\n895,Yes\\n896,Yes\\n897,Yes\\n898,Yes\\n899,Yes\\n900,Yes\\n901,Yes\\n902,Yes\\n903,Yes\\n904,No\\n905,Yes\\n906,No\\n907,No\\n908,No\\n909,Yes\\n910,Yes\\n911,Yes\\n912,No\\n913,Yes\\n914,No\\n915,Yes\\n916,Yes\\n917,Yes\\n918,No\\n919,No\\n920,Yes\\n921,Yes\\n922,Yes\\n923,Yes\\n924,Yes\\n925,Yes\\n926,Yes\\n927,No\\n928,No\\n929,Yes\\n930,No\\n931,Yes\\n932,No\\n933,Yes\\n934,Yes\\n935,Yes\\n936,Yes\\n937,Yes\\n938,Yes\\n939,Yes\\n940,No\\n941,Yes\\n942,Yes\\n943,No\\n944,Yes\\n945,No\\n946,Yes\\n947,Yes\\n948,No\\n949,Yes\\n950,Yes\\n951,No\\n952,No\\n953,No\\n954,No\\n955,No\\n956,No\\n957,Yes\\n958,No\\n959,No\\n960,Yes\\n961,No\\n962,No\\n963,No\\n964,No\\n965,Yes\\n966,Yes\\n967,Yes\\n968,Yes\\n969,Yes\\n970,No\\n971,Yes\\n972,No\\n973,No\\n974,No\\n975,Yes\\n976,Yes\\n977,Yes\\n978,Yes\\n979,Yes\\n980,No\\n981,Yes\\n982,No\\n983,Yes\\n984,Yes\\n985,Yes\\n986,Yes\\n987,Yes\\n988,Yes\\n989,No\\n990,No\\n991,Yes\\n992,Yes\\n993,Yes\\n994,Yes\\n995,No\\n996,Yes\\n997,Yes\\n998,No\\n999,Yes\\n1000,Yes\\n1001,No\\n1002,Yes\\n1003,No\\n1004,Yes\\n1005,Yes\\n1006,Yes\\n1007,Yes\\n1008,Yes\\n1009,Yes\\n1010,Yes\\n1011,Yes\\n1012,No\\n1013,Yes\\n1014,Yes\\n1015,Yes\\n1016,Yes\\n1017,Yes\\n1018,No\\n1019,Yes\\n1020,No\\n1021,No\\n1022,Yes\\n1023,No\\n1024,Yes\\n1025,Yes\\n1026,Yes\\n1027,Yes\\n1028,Yes\\n1029,Yes\\n1030,No\\n1031,Yes\\n1032,No\\n1033,Yes\\n1034,Yes\\n1035,No\\n1036,Yes\\n1037,Yes\\n1038,Yes\\n1039,Yes\\n1040,Yes\\n1041,Yes\\n1042,No\\n1043,Yes\\n1044,Yes\\n1045,Yes\\n1046,Yes\\n1047,No\\n1048,No\\n1049,Yes\\n1050,Yes\\n1051,Yes\\n1052,Yes\\n1053,Yes\\n1054,Yes\\n1055,Yes\\n1056,No\\n1057,Yes\\n1058,Yes\\n1059,No\\n1060,Yes\\n1061,Yes\\n1062,No\\n1063,Yes\\n1064,Yes\\n1065,Yes\\n1066,No\\n1067,Yes\\n1068,Yes\\n1069,No\\n1070,No\\n1071,Yes\\n1072,Yes\\n1073,Yes\\n1074,Yes\\n1075,Yes\\n1076,No\\n1077,Yes\\n1078,Yes\\n1079,Yes\\n1080,No\\n1081,Yes\\n1082,Yes\\n1083,Yes\\n1084,Yes\\n1085,Yes\\n1086,Yes\\n1087,Yes\\n1088,Yes\\n1089,Yes\\n1090,Yes\\n1091,Yes\\n1092,Yes\\n1093,Yes\\n1094,Yes\\n1095,Yes\\n1096,Yes\\n1097,No\\n1098,Yes\\n1099,Yes\\n1100,Yes\\n1101,Yes\\n1102,Yes\\n1103,Yes\\n1104,No\\n1105,Yes\\n1106,Yes\\n1107,No\\n1108,Yes\\n1109,No\\n1110,Yes\\n1111,No\\n1112,Yes\\n1113,Yes\\n1114,Yes\\n1115,Yes\\n1116,Yes\\n1117,Yes\\n1118,No\\n1119,No\\n1120,No\\n1121,Yes\\n1122,Yes\\n1123,Yes\\n1124,Yes\\n1125,No\\n1126,Yes\\n1127,Yes\\n1128,No\\n1129,Yes\\n1130,No\\n1131,Yes\\n1132,No\\n1133,Yes\\n1134,Yes\\n1135,No\\n1136,Yes\\n1137,No\\n1138,Yes\\n1139,Yes\\n1140,Yes\\n1141,No\\n1142,Yes\\n1143,Yes\\n1144,No\\n1145,Yes\\n1146,Yes\\n1147,Yes\\n1148,Yes\\n1149,Yes\\n1150,Yes\\n1151,No\\n1152,No\\n1153,Yes\\n1154,Yes\\n1155,No\\n1156,Yes\\n1157,No\\n1158,Yes\\n1159,Yes\\n1160,Yes\\n1161,Yes\\n1162,No\\n1163,Yes\\n1164,Yes\\n1165,Yes\\n1166,No\\n1167,Yes\\n1168,No\\n1169,Yes\\n1170,Yes\\n1171,Yes\\n1172,Yes\\n1173,No\\n1174,No\\n1175,No\\n1176,No\\n1177,Yes\\n1178,Yes\\n1179,No\\n1180,Yes\\n1181,Yes\\n1182,Yes\\n1183,Yes\\n1184,Yes\\n1185,No\\n1186,Yes\\n1187,No\\n1188,Yes\\n1189,Yes\\n1190,No\\n1191,Yes\\n1192,Yes\\n1193,Yes\\n1194,No\\n1195,No\\n1196,Yes\\n1197,Yes\\n1198,Yes\\n1199,Yes\\n1200,Yes\\n1201,Yes\\n1202,Yes\\n1203,Yes\\n1204,Yes\\n1205,Yes\\n1206,No\\n1207,Yes\\n1208,No\\n1209,Yes\\n1210,No\\n1211,Yes\\n1212,Yes\\n1213,Yes\\n1214,No\\n1215,Yes\\n1216,Yes\\n1217,No\\n1218,Yes\\n1219,Yes\\n1220,Yes\\n1221,No\\n1222,Yes\\n1223,No\\n1224,Yes\\n1225,No\\n1226,Yes\\n1227,Yes\\n1228,Yes\\n1229,Yes\\n1230,Yes\\n1231,No\\n1232,Yes\\n1233,Yes\\n1234,Yes\\n1235,Yes\\n1236,Yes\\n1237,No\\n1238,Yes\\n1239,No\\n1240,No\\n1241,Yes\\n1242,Yes\\n1243,Yes\\n1244,Yes\\n1245,Yes\\n1246,Yes\\n1247,Yes\\n1248,Yes\\n1249,Yes\\n1250,Yes\\n1251,Yes\\n1252,No\\n1253,Yes\\n1254,Yes\\n1255,Yes\\n1256,Yes\\n1257,Yes\\n1258,Yes\\n1259,Yes\\n1260,Yes\\n1261,Yes\\n1262,No\\n1263,Yes\\n1264,No\\n1265,Yes\\n1266,No\\n1267,Yes\\n1268,Yes\\n1269,Yes\\n1270,Yes\\n1271,Yes\\n1272,Yes\\n1273,No\\n1274,No\\n1275,No\\n1276,Yes\\n1277,Yes\\n1278,Yes\\n1279,Yes\\n1280,Yes\\n1281,Yes\\n1282,No\\n1283,No\\n1284,Yes\\n1285,Yes\\n1286,Yes\\n1287,Yes\\n1288,Yes\\n1289,Yes\\n1290,Yes\\n1291,Yes\\n1292,No\\n1293,Yes\\n1294,Yes\\n1295,Yes\\n1296,No\\n1297,Yes\\n1298,Yes\\n1299,Yes\\n1300,No\\n1301,No\\n1302,Yes\\n1303,Yes\\n1304,Yes\\n1305,No\\n1306,No\\n1307,Yes\\n1308,Yes\\n1309,Yes\\n1310,No\\n1311,Yes\\n1312,Yes\\n1313,Yes\\n1314,No\\n1315,Yes\\n1316,Yes\\n1317,Yes\\n1318,Yes\\n1319,No\\n1320,Yes\\n1321,Yes\\n1322,Yes\\n1323,Yes\\n1324,Yes\\n1325,No\\n1326,Yes\\n1327,Yes\\n1328,Yes\\n1329,No\\n1330,No\\n1331,Yes\\n1332,Yes\\n1333,Yes\\n1334,Yes\\n1335,Yes\\n1336,Yes\\n1337,No\\n1338,Yes\\n1339,Yes\\n1340,Yes\\n1341,Yes\\n1342,Yes\\n1343,Yes\\n1344,Yes\\n1345,No\\n1346,Yes\\n1347,No\\n1348,Yes\\n1349,Yes\\n1350,No\\n1351,No\\n1352,Yes\\n1353,Yes\\n1354,Yes\\n1355,Yes\\n1356,Yes\\n1357,No\\n1358,No\\n1359,Yes\\n1360,Yes\\n1361,Yes\\n1362,Yes\\n1363,Yes\\n1364,Yes\\n1365,Yes\\n1366,Yes\\n1367,Yes\\n1368,Yes\\n1369,Yes\\n1370,Yes\\n1371,No\\n1372,No\\n1373,Yes\\n1374,Yes\\n1375,No\\n1376,No\\n1377,Yes\\n1378,No\\n1379,Yes\\n1380,Yes\\n1381,Yes\\n1382,Yes\\n1383,Yes\\n1384,Yes\\n1385,No\\n1386,Yes\\n1387,No\\n1388,Yes\\n1389,Yes\\n1390,Yes\\n1391,Yes\\n1392,Yes\\n1393,Yes\\n1394,Yes\\n1395,Yes\\n1396,No\\n1397,Yes\\n1398,Yes\\n1399,No\\n1400,No\\n1401,Yes\\n1402,No\\n1403,Yes\\n1404,Yes\\n1405,Yes\\n1406,Yes\\n1407,No\\n1408,No\\n1409,Yes\\n1410,No\\n1411,Yes\\n1412,Yes\\n1413,Yes\\n1414,Yes\\n1415,Yes\\n1416,Yes\\n1417,No\\n1418,Yes\\n1419,Yes\\n1420,Yes\\n1421,Yes\\n1422,Yes\\n1423,Yes\\n1424,No\\n1425,Yes\\n1426,No\\n1427,Yes\\n1428,Yes\\n1429,No\\n1430,Yes\\n1431,Yes\\n1432,Yes\\n1433,Yes\\n1434,No\\n1435,Yes\\n1436,Yes\\n1437,Yes\\n1438,Yes\\n1439,Yes\\n1440,Yes\\n1441,Yes\\n1442,Yes\\n1443,No\\n1444,Yes\\n1445,No\\n1446,No\\n1447,Yes\\n1448,Yes\\n1449,Yes\\n1450,No\\n1451,Yes\\n1452,No\\n1453,No\\n1454,Yes\\n1455,Yes\\n1456,No\\n1457,Yes\\n1458,Yes\\n1459,No\\n1460,No\\n1461,Yes\\n1462,Yes\\n1463,No\\n1464,Yes\\n1465,No\\n1466,Yes\\n1467,Yes\\n1468,Yes\\n1469,Yes\\n1470,Yes\\n1471,Yes\\n1472,Yes\\n1473,No\\n1474,Yes\\n1475,Yes\\n1476,Yes\\n1477,Yes\\n1478,Yes\\n1479,Yes\\n1480,Yes\\n1481,No\\n1482,No\\n1483,Yes\\n1484,Yes\\n1485,Yes\\n1486,Yes\\n1487,Yes\\n1488,No\\n1489,Yes\\n1490,Yes\\n1491,Yes\\n1492,No\\n1493,Yes\\n1494,Yes\\n1495,No\\n1496,Yes\\n1497,No\\n1498,No\\n1499,Yes\\n1500,Yes\\n1501,Yes\\n1502,Yes\\n1503,Yes\\n1504,Yes\\n1505,No\\n1506,Yes\\n1507,Yes\\n1508,Yes\\n1509,Yes\\n1510,Yes\\n1511,No\\n1512,No\\n1513,Yes\\n1514,No\\n1515,No\\n1516,Yes\\n1517,Yes\\n1518,Yes\\n1519,Yes\\n1520,Yes\\n1521,Yes\\n1522,No\\n1523,Yes\\n1524,No\\n1525,No\\n1526,Yes\\n1527,Yes\\n1528,Yes\\n1529,Yes\\n1530,Yes\\n1531,Yes\\n1532,Yes\\n1533,No\\n1534,Yes\\n1535,No\\n1536,Yes\\n1537,Yes\\n1538,No\\n1539,Yes\\n1540,Yes\\n1541,Yes\\n1542,Yes\\n1543,No\\n1544,Yes\\n1545,No\\n1546,Yes\\n1547,Yes\\n1548,Yes\\n1549,Yes\\n1550,Yes\\n1551,Yes\\n1552,Yes\\n1553,No\\n1554,Yes\\n1555,Yes\\n1556,Yes\\n1557,Yes\\n1558,Yes\\n1559,No\\n1560,Yes\\n1561,No\\n1562,No\\n1563,No\\n1564,Yes\\n1565,No\\n1566,Yes\\n1567,Yes\\n1568,Yes\\n1569,Yes\\n1570,Yes\\n1571,No\\n1572,No\\n1573,Yes\\n1574,Yes\\n1575,Yes\\n1576,Yes\\n1577,Yes\\n1578,Yes\\n1579,Yes\\n1580,No\\n1581,No\\n1582,No\\n1583,Yes\\n1584,Yes\\n1585,Yes\\n1586,No\\n1587,Yes\\n1588,Yes\\n1589,Yes\\n1590,Yes\\n1591,Yes\\n1592,Yes\\n1593,Yes\\n1594,Yes\\n1595,No\\n1596,Yes\\n1597,No\\n1598,Yes\\n1599,Yes\\n1600,Yes\\n1601,Yes\\n1602,Yes\\n1603,Yes\\n1604,Yes\\n1605,Yes\\n1606,Yes\\n1607,Yes\\n1608,Yes\\n1609,Yes\\n1610,Yes\\n1611,No\\n1612,Yes\\n1613,Yes\\n1614,No\\n1615,Yes\\n1616,No\\n1617,Yes\\n1618,Yes\\n1619,Yes\\n1620,Yes\\n1621,Yes\\n1622,Yes\\n1623,No\\n1624,No\\n1625,Yes\\n1626,No\\n1627,Yes\\n1628,Yes\\n1629,Yes\\n1630,No\\n1631,Yes\\n1632,Yes\\n1633,Yes\\n1634,Yes\\n1635,No\\n1636,No\\n1637,Yes\\n1638,Yes\\n1639,Yes\\n1640,Yes\\n1641,No\\n1642,Yes\\n1643,No\\n1644,Yes\\n1645,No\\n1646,No\\n1647,Yes\\n1648,Yes\\n1649,Yes\\n1650,No\\n1651,Yes\\n1652,Yes\\n1653,Yes\\n1654,Yes\\n1655,Yes\\n1656,No\\n1657,Yes\\n1658,Yes\\n1659,Yes\\n1660,No\\n1661,No\\n1662,Yes\\n1663,No\\n1664,Yes\\n1665,Yes\\n1666,Yes\\n1667,Yes\\n1668,Yes\\n1669,Yes\\n1670,No\\n1671,No\\n1672,Yes\\n1673,No\\n1674,Yes\\n1675,Yes\\n1676,Yes\\n1677,Yes\\n1678,No\\n1679,Yes\\n1680,No\\n1681,Yes\\n1682,No\\n1683,Yes\\n1684,Yes\\n1685,No\\n1686,Yes\\n1687,Yes\\n1688,No\\n1689,Yes\\n1690,Yes\\n1691,No\\n1692,No\\n1693,Yes\\n1694,Yes\\n1695,Yes\\n1696,No\\n1697,Yes\\n1698,No\\n1699,Yes\\n1700,Yes\\n1701,Yes\\n1702,No\\n1703,Yes\\n1704,No\\n1705,No\\n1706,Yes\\n1707,Yes\\n1708,Yes\\n1709,No\\n1710,Yes\\n1711,No\\n1712,No\\n1713,Yes\\n1714,Yes\\n1715,Yes\\n1716,No\\n1717,Yes\\n1718,Yes\\n1719,Yes\\n1720,Yes\\n1721,Yes\\n1722,No\\n1723,Yes\\n1724,Yes\\n1725,Yes\\n1726,No\\n1727,Yes\\n1728,Yes\\n1729,Yes\\n1730,No\\n1731,Yes\\n1732,Yes\\n1733,Yes\\n1734,Yes\\n1735,Yes\\n1736,No\\n1737,Yes\\n1738,Yes\\n1739,Yes\\n1740,Yes\\n1741,Yes\\n1742,No\\n1743,Yes\\n1744,No\\n1745,Yes\\n1746,Yes\\n1747,Yes\\n1748,Yes\\n1749,Yes\\n1750,No\\n1751,Yes\\n1752,No\\n1753,No\\n1754,Yes\\n1755,Yes\\n1756,No\\n1757,Yes\\n1758,Yes\\n1759,Yes\\n1760,Yes\\n1761,Yes\\n1762,Yes\\n1763,No\\n1764,Yes\\n1765,No\\n1766,Yes\\n1767,Yes\\n1768,Yes\\n1769,Yes\\n1770,Yes\\n1771,Yes\\n1772,Yes\\n1773,Yes\\n1774,Yes\\n1775,Yes\\n1776,Yes\\n1777,Yes\\n1778,Yes\\n1779,Yes\\n1780,Yes\\n1781,No\\n1782,No\\n1783,Yes\\n1784,No\\n1785,Yes\\n1786,Yes\\n1787,Yes\\n1788,Yes\\n1789,Yes\\n1790,Yes\\n1791,Yes\\n1792,No\\n1793,Yes\\n1794,No\\n1795,No\\n1796,Yes\\n1797,Yes\\n1798,No\\n1799,Yes\\n1800,Yes\\n1801,Yes\\n1802,No\\n1803,No\\n1804,Yes\\n1805,Yes\\n1806,No\\n1807,Yes\\n1808,No\\n1809,Yes\\n1810,Yes\\n1811,Yes\\n1812,No\\n1813,Yes\\n1814,Yes\\n1815,Yes\\n1816,Yes\\n1817,Yes\\n1818,Yes\\n1819,Yes\\n1820,Yes\\n1821,Yes\\n1822,No\\n1823,Yes\\n1824,No\\n1825,Yes\\n1826,No\\n1827,Yes\\n1828,Yes\\n1829,Yes\\n1830,Yes\\n1831,Yes\\n1832,No\\n1833,Yes\\n1834,Yes\\n1835,No\\n1836,Yes\\n1837,Yes\\n1838,Yes\\n1839,Yes\\n1840,Yes\\n1841,Yes\\n1842,Yes\\n1843,Yes\\n1844,Yes\\n1845,Yes\\n1846,Yes\\n1847,No\\n1848,Yes\\n1849,No\\n1850,No\\n1851,Yes\\n1852,Yes\\n1853,No\\n1854,Yes\\n1855,No\\n1856,Yes\\n1857,No\\n1858,No\\n1859,Yes\\n1860,Yes\\n1861,No\\n1862,Yes\\n1863,Yes\\n1864,Yes\\n1865,Yes\\n1866,Yes\\n1867,No\\n1868,Yes\\n1869,Yes\\n1870,Yes\\n1871,Yes\\n1872,Yes\\n1873,Yes\\n1874,Yes\\n1875,No\\n1876,Yes\\n1877,No\\n1878,No\\n1879,Yes\\n1880,No\\n1881,No\\n1882,Yes\\n1883,Yes\\n1884,No\\n1885,Yes\\n1886,No\\n1887,Yes\\n1888,Yes\\n1889,Yes\\n1890,Yes\\n1891,Yes\\n1892,Yes\\n1893,No\\n1894,No\\n1895,Yes\\n1896,Yes\\n1897,Yes\\n1898,No\\n1899,Yes\\n1900,No\\n1901,Yes\\n1902,No\\n1903,No\\n1904,Yes\\n1905,Yes\\n1906,Yes\\n1907,Yes\\n1908,Yes\\n1909,Yes\\n1910,Yes\\n1911,Yes\\n1912,No\\n1913,Yes\\n1914,Yes\\n1915,Yes\\n1916,Yes\\n1917,No\\n1918,Yes\\n1919,Yes\\n1920,No\\n1921,Yes\\n1922,No\\n1923,Yes\\n1924,Yes\\n1925,Yes\\n1926,Yes\\n1927,Yes\\n1928,Yes\\n1929,No\\n1930,Yes\\n1931,Yes\\n1932,Yes\\n1933,Yes\\n1934,Yes\\n1935,No\\n1936,Yes\\n1937,Yes\\n1938,No\\n1939,No\\n1940,Yes\\n1941,Yes\\n1942,No\\n1943,Yes\\n1944,Yes\\n1945,No\\n1946,Yes\\n1947,Yes\\n1948,No\\n1949,Yes\\n1950,Yes\\n1951,Yes\\n1952,Yes\\n1953,No\\n1954,Yes\\n1955,Yes\\n1956,Yes\\n1957,Yes\\n1958,No\\n1959,No\\n1960,No\\n1961,Yes\\n1962,No\\n1963,Yes\\n1964,Yes\\n1965,No\\n1966,Yes\\n1967,Yes\\n1968,Yes\\n1969,Yes\\n1970,Yes\\n1971,Yes\\n1972,Yes\\n1973,Yes\\n1974,Yes\\n1975,No\\n1976,Yes\\n1977,Yes\\n1978,No\\n1979,No\\n1980,Yes\\n1981,Yes\\n1982,Yes\\n1983,No\\n1984,Yes\\n1985,Yes\\n1986,Yes\\n1987,No\\n1988,No\\n1989,Yes\\n1990,Yes\\n1991,Yes\\n1992,Yes\\n1993,Yes\\n1994,Yes\\n1995,Yes\\n1996,Yes\\n1997,Yes\\n1998,Yes\\n1999,Yes\\n2000,Yes\\n2001,Yes\\n2002,No\\n2003,No\\n2004,Yes\\n2005,Yes\\n2006,Yes\\n2007,Yes\\n2008,Yes\\n2009,Yes\\n2010,Yes\\n2011,Yes\\n2012,Yes\\n2013,No\\n2014,No\\n2015,Yes\\n2016,Yes\\n2017,Yes\\n2018,No\\n2019,Yes\\n2020,No\\n2021,No\\n2022,Yes\\n2023,Yes\\n2024,Yes\\n2025,No\\n2026,Yes\\n2027,Yes\\n2028,Yes\\n2029,Yes\\n2030,Yes\\n2031,Yes\\n2032,Yes\\n2033,Yes\\n2034,No\\n2035,No\\n2036,Yes\\n2037,Yes\\n2038,Yes\\n2039,No\\n2040,Yes\\n2041,Yes\\n2042,Yes\\n2043,No\\n2044,Yes\\n2045,No\\n2046,Yes\\n2047,Yes\\n2048,Yes\\n2049,Yes\\n2050,Yes\\n2051,Yes\\n2052,Yes\\n2053,No\\n2054,Yes\\n2055,Yes\\n2056,No\\n2057,Yes\\n2058,No\\n2059,Yes\\n2060,Yes\\n2061,Yes\\n2062,No\\n2063,Yes\\n2064,Yes\\n2065,Yes\\n2066,Yes\\n2067,Yes\\n2068,Yes\\n2069,Yes\\n2070,Yes\\n2071,Yes\\n2072,Yes\\n2073,No\\n2074,No\\n2075,Yes\\n2076,Yes\\n2077,Yes\\n2078,No\\n2079,Yes\\n2080,Yes\\n2081,Yes\\n2082,No\\n2083,No\\n2084,Yes\\n2085,No\\n2086,Yes\\n2087,Yes\\n2088,Yes\\n2089,No\\n2090,Yes\\n2091,Yes\\n2092,Yes\\n2093,Yes\\n2094,Yes\\n2095,Yes\\n2096,Yes\\n2097,Yes\\n2098,No\\n2099,Yes\\n2100,Yes\\n2101,No\\n2102,Yes\\n2103,No\\n2104,Yes\\n2105,No\\n2106,No\\n2107,No\\n2108,No\\n2109,Yes\\n2110,No\\n2111,Yes\\n2112,Yes\\n2113,Yes\\n2114,No\\n2115,Yes\\n2116,Yes\\n2117,Yes\\n2118,Yes\\n2119,Yes\\n2120,No\\n2121,Yes\\n2122,Yes\\n2123,Yes\\n2124,Yes\\n2125,Yes\\n2126,Yes\\n2127,Yes\\n2128,Yes\\n2129,Yes\\n2130,No\\n2131,Yes\\n2132,Yes\\n2133,No\\n2134,Yes\\n2135,Yes\\n2136,No\\n2137,Yes\\n2138,Yes\\n2139,Yes\\n2140,Yes\\n2141,Yes\\n2142,No\\n2143,Yes\\n2144,Yes\\n2145,Yes\\n2146,Yes\\n2147,Yes\\n2148,Yes\\n2149,Yes\\n2150,Yes\\n2151,Yes\\n2152,Yes\\n2153,Yes\\n2154,Yes\\n2155,No\\n2156,Yes\\n2157,Yes\\n2158,No\\n2159,Yes\\n2160,Yes\\n2161,Yes\\n2162,Yes\\n2163,Yes\\n2164,Yes\\n2165,No\\n2166,Yes\\n2167,Yes\\n2168,Yes\\n2169,Yes\\n2170,Yes\\n2171,Yes\\n2172,Yes\\n2173,Yes\\n2174,Yes\\n2175,Yes\\n2176,Yes\\n2177,Yes\\n2178,Yes\\n2179,Yes\\n2180,Yes\\n2181,No\\n2182,Yes\\n2183,Yes\\n2184,Yes\\n2185,Yes\\n2186,Yes\\n2187,Yes\\n2188,Yes\\n2189,No\\n2190,Yes\\n2191,Yes\\n2192,No\\n2193,Yes\\n2194,Yes\\n2195,Yes\\n2196,Yes\\n2197,Yes\\n2198,No\\n2199,Yes\\n2200,No\\n2201,Yes\\n2202,No\\n2203,No\\n2204,Yes\\n2205,No\\n2206,No\\n2207,Yes\\n2208,Yes\\n2209,Yes\\n2210,Yes\\n2211,Yes\\n2212,Yes\\n2213,Yes\\n2214,No\\n2215,Yes\\n2216,No\\n2217,Yes\\n2218,Yes\\n2219,No\\n2220,Yes\\n2221,Yes\\n2222,No\\n2223,Yes\\n2224,Yes\\n2225,No\\n2226,Yes\\n2227,Yes\\n2228,No\\n2229,Yes\\n2230,Yes\\n2231,Yes\\n2232,Yes\\n2233,Yes\\n2234,Yes\\n2235,Yes\\n2236,Yes\\n2237,Yes\\n2238,No\\n2239,Yes\\n2240,No\\n2241,Yes\\n2242,No\\n2243,Yes\\n2244,Yes\\n2245,Yes\\n2246,Yes\\n2247,No\\n2248,Yes\\n2249,Yes\\n2250,No\\n2251,No\\n2252,Yes\\n2253,Yes\\n2254,Yes\\n2255,Yes\\n2256,No\\n2257,Yes\\n2258,No\\n2259,Yes\\n2260,Yes\\n2261,Yes\\n2262,Yes\\n2263,Yes\\n2264,No\\n2265,Yes\\n2266,Yes\\n2267,No\\n2268,Yes\\n2269,Yes\\n2270,Yes\\n2271,Yes\\n2272,Yes\\n2273,No\\n2274,Yes\\n2275,Yes\\n2276,Yes\\n2277,Yes\\n2278,No\\n2279,Yes\\n2280,Yes\\n2281,No\\n2282,Yes\\n2283,Yes\\n2284,No\\n2285,Yes\\n2286,Yes\\n2287,Yes\\n2288,Yes\\n2289,No\\n2290,Yes\\n2291,No\\n2292,Yes\\n2293,Yes\\n2294,Yes\\n2295,Yes\\n2296,Yes\\n2297,Yes\\n2298,Yes\\n2299,Yes\\n2300,Yes\\n2301,Yes\\n2302,Yes\\n2303,Yes\\n2304,Yes\\n2305,Yes\\n2306,Yes\\n2307,Yes\\n2308,No\\n2309,No\\n2310,Yes\\n2311,Yes\\n2312,Yes\\n2313,No\\n2314,No\\n2315,Yes\\n2316,No\\n2317,No\\n2318,Yes\\n2319,No\\n2320,No\\n2321,No\\n2322,Yes\\n2323,Yes\\n2324,No\\n2325,No\\n2326,Yes\\n2327,Yes\\n2328,Yes\\n2329,No\\n2330,Yes\\n2331,Yes\\n2332,Yes\\n2333,Yes\\n2334,Yes\\n2335,Yes\\n2336,Yes\\n2337,No\\n2338,Yes\\n2339,Yes\\n2340,No\\n2341,No\\n2342,Yes\\n2343,No\\n2344,No\\n2345,No\\n2346,Yes\\n2347,Yes\\n2348,Yes\\n2349,No\\n2350,Yes\\n2351,Yes\\n2352,Yes\\n2353,Yes\\n2354,Yes\\n2355,No\\n2356,Yes\\n2357,Yes\\n2358,Yes\\n2359,Yes\\n2360,No\\n2361,Yes\\n2362,Yes\\n2363,No\\n2364,Yes\\n2365,Yes\\n2366,Yes\\n2367,Yes\\n2368,Yes\\n2369,Yes\\n2370,Yes\\n2371,No\\n2372,Yes\\n2373,Yes\\n2374,Yes\\n2375,Yes\\n2376,Yes\\n2377,No\\n2378,No\\n2379,Yes\\n2380,No\\n2381,Yes\\n2382,No\\n2383,Yes\\n2384,Yes\\n2385,Yes\\n2386,Yes\\n2387,Yes\\n2388,No\\n2389,No\\n2390,Yes\\n2391,Yes\\n2392,Yes\\n2393,Yes\\n2394,No\\n2395,Yes\\n2396,Yes\\n2397,No\\n2398,No\\n2399,Yes\\n2400,Yes\\n2401,Yes\\n2402,Yes\\n2403,No\\n2404,Yes\\n2405,Yes\\n2406,No\\n2407,Yes\\n2408,No\\n2409,Yes\\n2410,No\\n2411,Yes\\n2412,No\\n2413,No\\n2414,Yes\\n2415,Yes\\n2416,Yes\\n2417,Yes\\n2418,Yes\\n2419,Yes\\n2420,Yes\\n2421,Yes\\n2422,No\\n2423,No\\n2424,No\\n2425,Yes\\n2426,No\\n2427,Yes\\n2428,Yes\\n2429,Yes\\n2430,Yes\\n2431,Yes\\n2432,Yes\\n2433,Yes\\n2434,Yes\\n2435,Yes\\n2436,No\\n2437,Yes\\n2438,Yes\\n2439,Yes\\n2440,Yes\\n2441,Yes\\n2442,No\\n2443,Yes\\n2444,Yes\\n2445,No\\n2446,Yes\\n2447,No\\n2448,Yes\\n2449,Yes\\n2450,Yes\\n2451,No\\n2452,Yes\\n2453,Yes\\n2454,Yes\\n2455,Yes\\n2456,Yes\\n2457,Yes\\n2458,Yes\\n2459,Yes\\n2460,Yes\\n2461,Yes\\n2462,Yes\\n2463,No\\n2464,Yes\\n2465,No\\n2466,Yes\\n2467,Yes\\n2468,No\\n2469,Yes\\n2470,Yes\\n2471,No\\n2472,Yes\\n2473,No\\n2474,Yes\\n2475,No\\n2476,Yes\\n2477,Yes\\n2478,No\\n2479,Yes\\n2480,Yes\\n2481,Yes\\n2482,No\\n2483,Yes\\n2484,No\\n2485,Yes\\n2486,Yes\\n2487,No\\n2488,Yes\\n2489,Yes\\n2490,Yes\\n2491,Yes\\n2492,Yes\\n2493,Yes\\n2494,Yes\\n2495,Yes\\n2496,No\\n2497,Yes\\n2498,Yes\\n2499,Yes\\n2500,Yes\\n2501,Yes\\n2502,Yes\\n2503,No\\n2504,Yes\\n2505,Yes\\n2506,No\\n2507,Yes\\n2508,Yes\\n2509,Yes\\n2510,Yes\\n2511,Yes\\n2512,Yes\\n2513,Yes\\n2514,Yes\\n2515,Yes\\n2516,Yes\\n2517,Yes\\n2518,Yes\\n2519,Yes\\n2520,Yes\\n2521,Yes\\n2522,Yes\\n2523,Yes\\n2524,No\\n2525,Yes\\n2526,No\\n2527,Yes\\n2528,Yes\\n2529,Yes\\n2530,No\\n2531,No\\n2532,Yes\\n2533,Yes\\n2534,No\\n2535,Yes\\n2536,Yes\\n2537,Yes\\n2538,Yes\\n2539,Yes\\n2540,No\\n2541,Yes\\n2542,Yes\\n2543,Yes\\n2544,Yes\\n2545,Yes\\n2546,Yes\\n2547,Yes\\n2548,Yes\\n2549,No\\n2550,Yes\\n2551,Yes\\n2552,Yes\\n2553,No\\n2554,Yes\\n2555,Yes\\n2556,Yes\\n2557,Yes\\n2558,No\\n2559,Yes\\n2560,Yes\\n2561,Yes\\n2562,No\\n2563,Yes\\n2564,No\\n2565,No\\n2566,Yes\\n2567,Yes\\n2568,Yes\\n2569,No\\n2570,Yes\\n2571,No\\n2572,Yes\\n2573,Yes\\n2574,Yes\\n2575,Yes\\n2576,Yes\\n2577,Yes\\n2578,Yes\\n2579,No\\n2580,Yes\\n2581,Yes\\n2582,Yes\\n2583,Yes\\n2584,No\\n2585,No\\n2586,Yes\\n2587,No\\n2588,Yes\\n2589,Yes\\n2590,Yes\\n2591,No\\n2592,Yes\\n2593,No\\n2594,Yes\\n2595,No\\n2596,Yes\\n2597,Yes\\n2598,Yes\\n2599,Yes\\n2600,No\\n2601,Yes\\n2602,Yes\\n2603,No\\n2604,Yes\\n2605,Yes\\n2606,Yes\\n2607,Yes\\n2608,Yes\\n2609,No\\n2610,No\\n2611,Yes\\n2612,Yes\\n2613,Yes\\n2614,No\\n2615,Yes\\n2616,No\\n2617,Yes\\n2618,No\\n2619,Yes\\n2620,No\\n2621,No\\n2622,Yes\\n2623,Yes\\n2624,Yes\\n2625,Yes\\n2626,Yes\\n2627,No\\n2628,Yes\\n2629,Yes\\n2630,No\\n2631,Yes\\n2632,No\\n2633,Yes\\n2634,Yes\\n2635,No\\n2636,Yes\\n2637,No\\n2638,Yes\\n2639,Yes\\n2640,Yes\\n2641,Yes\\n2642,No\\n2643,No\\n2644,Yes\\n2645,Yes\\n2646,Yes\\n2647,Yes\\n2648,Yes\\n2649,Yes\\n2650,Yes\\n2651,Yes\\n2652,No\\n2653,Yes\\n2654,Yes\\n2655,Yes\\n2656,No\\n2657,Yes\\n2658,Yes\\n2659,Yes\\n2660,No\\n2661,Yes\\n2662,Yes\\n2663,Yes\\n2664,Yes\\n2665,No\\n2666,Yes\\n2667,Yes\\n2668,No\\n2669,No\\n2670,Yes\\n2671,Yes\\n2672,Yes\\n2673,Yes\\n2674,Yes\\n2675,Yes\\n2676,Yes\\n2677,Yes\\n2678,Yes\\n2679,Yes\\n2680,No\\n2681,Yes\\n2682,No\\n2683,Yes\\n2684,No\\n2685,Yes\\n2686,No\\n2687,No\\n2688,Yes\\n2689,No\\n2690,No\\n2691,No\\n2692,Yes\\n2693,Yes\\n2694,No\\n2695,Yes\\n2696,Yes\\n2697,Yes\\n2698,Yes\\n2699,Yes\\n2700,Yes\\n2701,No\\n2702,Yes\\n2703,Yes\\n2704,Yes\\n2705,No\\n2706,Yes\\n2707,Yes\\n2708,No\\n2709,Yes\\n2710,Yes\\n2711,No\\n2712,Yes\\n2713,Yes\\n2714,No\\n2715,Yes\\n2716,No\\n2717,Yes\\n2718,Yes\\n2719,No\\n2720,Yes\\n2721,Yes\\n2722,No\\n2723,No\\n2724,Yes\\n2725,Yes\\n2726,Yes\\n2727,Yes\\n2728,No\\n2729,Yes\\n2730,Yes\\n2731,No\\n2732,Yes\\n2733,Yes\\n2734,Yes\\n2735,No\\n2736,No\\n2737,Yes\\n2738,Yes\\n2739,Yes\\n2740,Yes\\n2741,Yes\\n2742,Yes\\n2743,Yes\\n2744,No\\n2745,No\\n2746,Yes\\n2747,No\\n2748,Yes\\n2749,No\\n2750,Yes\\n2751,Yes\\n2752,Yes\\n2753,No\\n2754,Yes\\n2755,No\\n2756,No\\n2757,Yes\\n2758,Yes\\n2759,No\\n2760,No\\n2761,Yes\\n2762,Yes\\n2763,Yes\\n2764,No\\n2765,Yes\\n2766,Yes\\n2767,No\\n2768,No\\n2769,No\\n2770,Yes\\n2771,No\\n2772,Yes\\n2773,Yes\\n2774,Yes\\n2775,No\\n2776,Yes\\n2777,Yes\\n2778,No\\n2779,Yes\\n2780,Yes\\n2781,No\\n2782,Yes\\n2783,Yes\\n2784,Yes\\n2785,No\\n2786,No\\n2787,Yes\\n2788,No\\n2789,No\\n2790,No\\n2791,No\\n2792,Yes\\n2793,Yes\\n2794,Yes\\n2795,Yes\\n2796,No\\n2797,Yes\\n2798,Yes\\n2799,No\\n2800,Yes\\n2801,Yes\\n2802,No\\n2803,Yes\\n2804,Yes\\n2805,Yes\\n2806,No\\n2807,Yes\\n2808,Yes\\n2809,Yes\\n2810,Yes\\n2811,No\\n2812,Yes\\n2813,Yes\\n2814,Yes\\n2815,Yes\\n2816,No\\n2817,Yes\\n2818,Yes\\n2819,No\\n2820,Yes\\n2821,Yes\\n2822,Yes\\n2823,Yes\\n2824,Yes\\n2825,Yes\\n2826,Yes\\n2827,Yes\\n2828,Yes\\n2829,Yes\\n2830,Yes\\n2831,Yes\\n2832,Yes\\n2833,No\\n2834,Yes\\n2835,No\\n2836,Yes\\n2837,No\\n2838,Yes\\n2839,No\\n2840,No\\n2841,No\\n2842,Yes\\n2843,Yes\\n2844,Yes\\n2845,Yes\\n2846,Yes\\n2847,Yes\\n2848,Yes\\n2849,Yes\\n2850,No\\n2851,Yes\\n2852,Yes\\n2853,No\\n2854,Yes\\n2855,Yes\\n2856,No\\n2857,No\\n2858,Yes\\n2859,No\\n2860,No\\n2861,Yes\\n2862,Yes\\n2863,Yes\\n2864,Yes\\n2865,Yes\\n2866,Yes\\n2867,Yes\\n2868,Yes\\n2869,Yes\\n2870,No\\n2871,No\\n2872,Yes\\n2873,Yes\\n2874,No\\n2875,No\\n2876,Yes\\n2877,No\\n2878,Yes\\n2879,Yes\\n2880,No\\n2881,Yes\\n2882,Yes\\n2883,No\\n2884,No\\n2885,Yes\\n2886,Yes\\n2887,No\\n2888,Yes\\n2889,Yes\\n2890,Yes\\n2891,Yes\\n2892,Yes\\n2893,Yes\\n2894,Yes\\n2895,Yes\\n2896,Yes\\n2897,No\\n2898,Yes\\n2899,Yes\\n2900,No\\n2901,Yes\\n2902,No\\n2903,Yes\\n2904,Yes\\n2905,Yes\\n2906,No\\n2907,Yes\\n2908,No\\n2909,Yes\\n2910,Yes\\n2911,Yes\\n2912,Yes\\n2913,No\\n2914,Yes\\n2915,No\\n2916,Yes\\n2917,Yes\\n2918,No\\n2919,Yes\\n2920,Yes\\n2921,Yes\\n2922,Yes\\n2923,Yes\\n2924,Yes\\n2925,No\\n2926,No\\n2927,No\\n2928,Yes\\n2929,No\\n2930,Yes\\n2931,Yes\\n2932,No\\n2933,No\\n2934,No\\n2935,Yes\\n2936,Yes\\n2937,Yes\\n2938,Yes\\n2939,Yes\\n2940,No\\n2941,Yes\\n2942,Yes\\n2943,Yes\\n2944,No\\n2945,Yes\\n2946,Yes\\n2947,Yes\\n2948,Yes\\n2949,Yes\\n2950,Yes\\n2951,Yes\\n2952,Yes\\n2953,Yes\\n2954,Yes\\n2955,Yes\\n2956,Yes\\n2957,Yes\\n2958,Yes\\n2959,Yes\\n2960,Yes\\n2961,No\\n2962,Yes\\n2963,Yes\\n2964,Yes\\n2965,Yes\\n2966,Yes\\n2967,Yes\\n2968,Yes\\n2969,Yes\\n2970,Yes\\n2971,Yes\\n2972,Yes\\n2973,No\\n2974,No\\n2975,No\\n2976,Yes\\n2977,Yes\\n2978,No\\n2979,Yes\\n2980,Yes\\n2981,Yes\\n2982,Yes\\n2983,No\\n2984,Yes\\n2985,Yes\\n2986,Yes\\n2987,Yes\\n2988,Yes\\n2989,Yes\\n2990,Yes\\n2991,Yes\\n2992,Yes\\n2993,Yes\\n2994,Yes\\n2995,Yes\\n2996,No\\n2997,Yes\\n2998,Yes\\n2999,No\\n3000,No\\n3001,Yes\\n3002,Yes\\n3003,Yes\\n3004,No\\n3005,Yes\\n3006,Yes\\n3007,Yes\\n3008,No\\n3009,Yes\\n3010,Yes\\n3011,Yes\\n3012,Yes\\n3013,No\\n3014,Yes\\n3015,Yes\\n3016,No\\n3017,No\\n3018,Yes\\n3019,Yes\\n3020,Yes\\n3021,Yes\\n3022,Yes\\n3023,Yes\\n3024,Yes\\n3025,No\\n3026,Yes\\n3027,No\\n3028,Yes\\n3029,Yes\\n3030,Yes\\n3031,No\\n3032,No\\n3033,Yes\\n3034,Yes\\n3035,Yes\\n3036,Yes\\n3037,Yes\\n3038,Yes\\n3039,Yes\\n3040,Yes\\n3041,Yes\\n3042,Yes\\n3043,No\\n3044,Yes\\n3045,Yes\\n3046,No\\n3047,Yes\\n3048,Yes\\n3049,Yes\\n3050,Yes\\n3051,Yes\\n3052,Yes\\n3053,Yes\\n3054,Yes\\n3055,Yes\\n3056,Yes\\n3057,Yes\\n3058,Yes\\n3059,Yes\\n3060,No\\n3061,Yes\\n3062,Yes\\n3063,Yes\\n3064,Yes\\n3065,Yes\\n3066,Yes\\n3067,Yes\\n3068,Yes\\n3069,Yes\\n3070,Yes\\n3071,Yes\\n3072,Yes\\n3073,Yes\\n3074,Yes\\n3075,Yes\\n3076,No\\n3077,No\\n3078,Yes\\n3079,Yes\\n3080,No\\n3081,No\\n3082,No\\n3083,Yes\\n3084,Yes\\n3085,Yes\\n3086,No\\n3087,Yes\\n3088,Yes\\n3089,Yes\\n3090,Yes\\n3091,Yes\\n3092,No\\n3093,Yes\\n3094,Yes\\n3095,No\\n3096,Yes\\n3097,Yes\\n3098,Yes\\n3099,Yes\\n3100,Yes\\n3101,Yes\\n3102,Yes\\n3103,Yes\\n3104,Yes\\n3105,No\\n3106,No\\n3107,No\\n3108,Yes\\n3109,Yes\\n3110,Yes\\n3111,Yes\\n3112,Yes\\n3113,Yes\\n3114,No\\n3115,No\\n3116,No\\n3117,No\\n3118,No\\n3119,Yes\\n3120,Yes\\n3121,Yes\\n3122,Yes\\n3123,Yes\\n3124,Yes\\n3125,Yes\\n3126,No\\n3127,Yes\\n3128,No\\n3129,Yes\\n3130,Yes\\n3131,Yes\\n3132,No\\n3133,Yes\\n3134,No\\n3135,Yes\\n3136,Yes\\n3137,Yes\\n3138,No\\n3139,No\\n3140,Yes\\n3141,Yes\\n3142,No\\n3143,Yes\\n3144,No\\n3145,Yes\\n3146,Yes\\n3147,Yes\\n3148,Yes\\n3149,Yes\\n3150,Yes\\n3151,No\\n3152,Yes\\n3153,Yes\\n3154,No\\n3155,No\\n3156,Yes\\n3157,Yes\\n3158,Yes\\n3159,No\\n3160,Yes\\n3161,Yes\\n3162,Yes\\n3163,No\\n3164,No\\n3165,No\\n3166,No\\n3167,Yes\\n3168,Yes\\n3169,Yes\\n3170,Yes\\n3171,Yes\\n3172,Yes\\n3173,Yes\\n3174,Yes\\n3175,Yes\\n3176,Yes\\n3177,Yes\\n3178,Yes\\n3179,Yes\\n3180,Yes\\n3181,Yes\\n3182,Yes\\n3183,Yes\\n3184,No\\n3185,Yes\\n3186,Yes\\n3187,Yes\\n3188,Yes\\n3189,Yes\\n3190,No\\n3191,No\\n3192,Yes\\n3193,Yes\\n3194,Yes\\n3195,Yes\\n3196,Yes\\n3197,Yes\\n3198,Yes\\n3199,Yes\\n3200,Yes\\n3201,Yes\\n3202,Yes\\n3203,Yes\\n3204,Yes\\n3205,Yes\\n3206,Yes\\n3207,Yes\\n3208,No\\n3209,No\\n3210,No\\n3211,Yes\\n3212,Yes\\n3213,Yes\\n3214,Yes\\n3215,No\\n3216,Yes\\n3217,Yes\\n3218,Yes\\n3219,Yes\\n3220,No\\n3221,Yes\\n3222,No\\n3223,Yes\\n3224,Yes\\n3225,Yes\\n3226,Yes\\n3227,No\\n3228,No\\n3229,Yes\\n3230,Yes\\n3231,Yes\\n3232,No\\n3233,Yes\\n3234,No\\n3235,Yes\\n3236,No\\n3237,No\\n3238,Yes\\n3239,No\\n3240,Yes\\n3241,No\\n3242,No\\n3243,No\\n3244,Yes\\n3245,Yes\\n3246,Yes\\n3247,Yes\\n3248,Yes\\n3249,No\\n3250,No\\n3251,Yes\\n3252,Yes\\n3253,Yes\\n3254,Yes\\n3255,Yes\\n3256,Yes\\n3257,Yes\\n3258,Yes\\n3259,Yes\\n3260,No\\n3261,Yes\\n3262,Yes\\n3263,Yes\\n3264,No\\n3265,Yes\\n3266,Yes\\n3267,Yes\\n3268,No\\n3269,Yes\\n3270,No\\n3271,No\\n3272,Yes\\n3273,Yes\\n3274,No\\n3275,Yes\\n3276,No\\n3277,Yes\\n3278,No\\n3279,Yes\\n3280,Yes\\n3281,No\\n3282,Yes\\n3283,Yes\\n3284,Yes\\n3285,Yes\\n3286,Yes\\n3287,No\\n3288,Yes\\n3289,Yes\\n3290,Yes\\n3291,Yes\\n3292,No\\n3293,Yes\\n3294,No\\n3295,Yes\\n3296,Yes\\n3297,Yes\\n3298,Yes\\n3299,No\\n3300,Yes\\n3301,Yes\\n3302,Yes\\n3303,No\\n3304,No\\n3305,Yes\\n3306,No\\n3307,Yes\\n3308,No\\n3309,Yes\\n3310,No\\n3311,Yes\\n3312,Yes\\n3313,No\\n3314,Yes\\n3315,No\\n3316,No\\n3317,Yes\\n3318,Yes\\n3319,Yes\\n3320,Yes\\n3321,Yes\\n3322,Yes\\n3323,Yes\\n3324,Yes\\n3325,No\\n3326,Yes\\n3327,No\\n3328,Yes\\n3329,Yes\\n3330,Yes\\n3331,Yes\\n3332,Yes\\n3333,No\\n3334,Yes\\n3335,No\\n3336,Yes\\n3337,Yes\\n3338,Yes\\n3339,No\\n3340,Yes\\n3341,Yes\\n3342,Yes\\n3343,Yes\\n3344,Yes\\n3345,Yes\\n3346,Yes\\n3347,Yes\\n3348,Yes\\n3349,Yes\\n3350,Yes\\n3351,Yes\\n3352,Yes\\n3353,Yes\\n3354,No\\n3355,Yes\\n3356,Yes\\n3357,Yes\\n3358,Yes\\n3359,Yes\\n3360,Yes\\n3361,Yes\\n3362,No\\n3363,No\\n3364,Yes\\n3365,Yes\\n3366,Yes\\n3367,Yes\\n3368,Yes\\n3369,Yes\\n3370,Yes\\n3371,No\\n3372,Yes\\n3373,Yes\\n3374,Yes\\n3375,No\\n3376,Yes\\n3377,No\\n3378,Yes\\n3379,Yes\\n3380,Yes\\n3381,Yes\\n3382,Yes\\n3383,Yes\\n3384,Yes\\n3385,Yes\\n3386,Yes\\n3387,No\\n3388,No\\n3389,Yes\\n3390,Yes\\n3391,Yes\\n3392,Yes\\n3393,No\\n3394,Yes\\n3395,No\\n3396,No\\n3397,Yes\\n3398,Yes\\n3399,Yes\\n3400,Yes\\n3401,Yes\\n3402,Yes\\n3403,Yes\\n3404,Yes\\n3405,Yes\\n3406,No\\n3407,Yes\\n3408,Yes\\n3409,Yes\\n3410,Yes\\n3411,Yes\\n3412,Yes\\n3413,Yes\\n3414,Yes\\n3415,No\\n3416,Yes\\n3417,Yes\\n3418,Yes\\n3419,Yes\\n3420,Yes\\n3421,Yes\\n3422,No\\n3423,Yes\\n3424,Yes\\n3425,Yes\\n3426,Yes\\n3427,No\\n3428,No\\n3429,No\\n3430,No\\n3431,Yes\\n3432,Yes\\n3433,No\\n3434,Yes\\n3435,Yes\\n3436,No\\n3437,Yes\\n3438,Yes\\n3439,Yes\\n3440,No\\n3441,No\\n3442,Yes\\n3443,Yes\\n3444,Yes\\n3445,Yes\\n3446,Yes\\n3447,Yes\\n3448,Yes\\n3449,No\\n3450,Yes\\n3451,Yes\\n3452,Yes\\n3453,Yes\\n3454,No\\n3455,Yes\\n3456,Yes\\n3457,Yes\\n3458,Yes\\n3459,Yes\\n3460,Yes\\n3461,No\\n3462,No\\n3463,Yes\\n3464,Yes\\n3465,Yes\\n3466,Yes\\n3467,No\\n3468,Yes\\n3469,Yes\\n3470,Yes\\n3471,No\\n3472,Yes\\n3473,Yes\\n3474,No\\n3475,Yes\\n3476,Yes\\n3477,Yes\\n3478,Yes\\n3479,Yes\\n3480,Yes\\n3481,Yes\\n3482,Yes\\n3483,Yes\\n3484,Yes\\n3485,Yes\\n3486,Yes\\n3487,No\\n3488,No\\n3489,Yes\\n3490,Yes\\n3491,Yes\\n3492,Yes\\n3493,Yes\\n3494,No\\n3495,Yes\\n3496,Yes\\n3497,No\\n3498,Yes\\n3499,Yes\\n3500,Yes\\n3501,No\\n3502,No\\n3503,Yes\\n3504,Yes\\n3505,Yes\\n3506,Yes\\n3507,Yes\\n3508,No\\n3509,No\\n3510,Yes\\n3511,Yes\\n3512,No\\n3513,Yes\\n3514,Yes\\n3515,No\\n3516,Yes\\n3517,Yes\\n3518,No\\n3519,Yes\\n3520,Yes\\n3521,Yes\\n3522,Yes\\n3523,Yes\\n3524,No\\n3525,Yes\\n3526,Yes\\n3527,No\\n3528,No\\n3529,Yes\\n3530,Yes\\n3531,Yes\\n3532,Yes\\n3533,Yes\\n3534,Yes\\n3535,Yes\\n3536,Yes\\n3537,No\\n3538,Yes\\n3539,Yes\\n3540,No\\n3541,Yes\\n3542,Yes\\n3543,No\\n3544,Yes\\n3545,Yes\\n3546,Yes\\n3547,No\\n3548,No\\n3549,Yes\\n3550,Yes\\n3551,Yes\\n3552,Yes\\n3553,Yes\\n3554,Yes\\n3555,Yes\\n3556,Yes\\n3557,No\\n3558,No\\n3559,Yes\\n3560,Yes\\n3561,Yes\\n3562,No\\n3563,No\\n3564,Yes\\n3565,Yes\\n3566,Yes\\n3567,Yes\\n3568,No\\n3569,Yes\\n3570,Yes\\n3571,Yes\\n3572,Yes\\n3573,Yes\\n3574,Yes\\n3575,No\\n3576,Yes\\n3577,Yes\\n3578,Yes\\n3579,Yes\\n3580,Yes\\n3581,No\\n3582,Yes\\n3583,Yes\\n3584,No\\n3585,Yes\\n3586,Yes\\n3587,Yes\\n3588,Yes\\n3589,Yes\\n3590,Yes\\n3591,Yes\\n3592,Yes\\n3593,Yes\\n3594,Yes\\n3595,Yes\\n3596,Yes\\n3597,No\\n3598,No\\n3599,Yes\\n3600,Yes\\n3601,Yes\\n3602,Yes\\n3603,Yes\\n3604,No\\n3605,No\\n3606,Yes\\n3607,No\\n3608,Yes\\n3609,No\\n3610,Yes\\n3611,Yes\\n3612,No\\n3613,Yes\\n3614,Yes\\n3615,Yes\\n3616,No\\n3617,Yes\\n3618,Yes\\n3619,No\\n3620,No\\n3621,Yes\\n3622,Yes\\n3623,No\\n3624,Yes\\n3625,Yes\\n3626,Yes\\n3627,Yes\\n3628,Yes\\n3629,Yes\\n3630,Yes\\n3631,No\\n3632,Yes\\n3633,Yes\\n3634,No\\n3635,Yes\\n3636,No\\n3637,No\\n3638,Yes\\n3639,Yes\\n3640,Yes\\n3641,No\\n3642,Yes\\n3643,Yes\\n3644,No\\n3645,No\\n3646,Yes\\n3647,Yes\\n3648,Yes\\n3649,Yes\\n3650,Yes\\n3651,Yes\\n3652,No\\n3653,Yes\\n3654,No\\n3655,Yes\\n3656,Yes\\n3657,No\\n3658,Yes\\n3659,No\\n3660,Yes\\n3661,Yes\\n3662,Yes\\n3663,No\\n3664,No\\n3665,Yes\\n3666,Yes\\n3667,Yes\\n3668,Yes\\n3669,Yes\\n3670,Yes\\n3671,Yes\\n3672,Yes\\n3673,Yes\\n3674,Yes\\n3675,Yes\\n3676,No\\n3677,Yes\\n3678,Yes\\n3679,Yes\\n3680,Yes\\n3681,Yes\\n3682,Yes\\n3683,Yes\\n3684,Yes\\n3685,Yes\\n3686,Yes\\n3687,Yes\\n3688,Yes\\n3689,Yes\\n3690,Yes\\n3691,No\\n3692,Yes\\n3693,Yes\\n3694,Yes\\n3695,Yes\\n3696,Yes\\n3697,Yes\\n3698,No\\n3699,No\\n3700,Yes\\n3701,Yes\\n3702,Yes\\n3703,Yes\\n3704,No\\n3705,No\\n3706,Yes\\n3707,Yes\\n3708,No\\n3709,Yes\\n3710,Yes\\n3711,No\\n3712,Yes\\n3713,Yes\\n3714,Yes\\n3715,Yes\\n3716,Yes\\n3717,No\\n3718,Yes\\n3719,Yes\\n3720,Yes\\n3721,Yes\\n3722,No\\n3723,Yes\\n3724,Yes\\n3725,Yes\\n3726,No\\n3727,Yes\\n3728,Yes\\n3729,No\\n3730,Yes\\n3731,No\\n3732,Yes\\n3733,Yes\\n3734,No\\n3735,Yes\\n3736,Yes\\n3737,Yes\\n3738,No\\n3739,No\\n3740,Yes\\n3741,Yes\\n3742,Yes\\n3743,Yes\\n3744,Yes\\n3745,Yes\\n3746,No\\n3747,No\\n3748,Yes\\n3749,No\\n3750,No\\n3751,Yes\\n3752,Yes\\n3753,Yes\\n3754,No\\n3755,Yes\\n3756,Yes\\n3757,Yes\\n3758,No\\n3759,No\\n3760,No\\n3761,No\\n3762,Yes\\n3763,Yes\\n3764,Yes\\n3765,Yes\\n3766,Yes\\n3767,No\\n3768,No\\n3769,Yes\\n3770,No\\n3771,Yes\\n3772,No\\n3773,Yes\\n3774,No\\n3775,Yes\\n3776,No\\n3777,Yes\\n3778,Yes\\n3779,No\\n3780,No\\n3781,No\\n3782,Yes\\n3783,No\\n3784,Yes\\n3785,Yes\\n3786,Yes\\n3787,Yes\\n3788,Yes\\n3789,No\\n3790,Yes\\n3791,Yes\\n3792,No\\n3793,No\\n3794,Yes\\n3795,Yes\\n3796,No\\n3797,Yes\\n3798,Yes\\n3799,Yes\\n3800,Yes\\n3801,Yes\\n3802,Yes\\n3803,Yes\\n3804,Yes\\n3805,Yes\\n3806,Yes\\n3807,Yes\\n3808,Yes\\n3809,Yes\\n3810,Yes\\n3811,No\\n3812,Yes\\n3813,Yes\\n3814,Yes\\n3815,No\\n3816,Yes\\n3817,No\\n3818,Yes\\n3819,Yes\\n3820,Yes\\n3821,Yes\\n3822,Yes\\n3823,No\\n3824,Yes\\n3825,No\\n3826,Yes\\n3827,Yes\\n3828,Yes\\n3829,Yes\\n3830,Yes\\n3831,Yes\\n3832,Yes\\n3833,Yes\\n3834,Yes\\n3835,No\\n3836,Yes\\n3837,Yes\\n3838,Yes\\n3839,No\\n3840,Yes\\n3841,Yes\\n3842,Yes\\n3843,Yes\\n3844,Yes\\n3845,Yes\\n3846,Yes\\n3847,Yes\\n3848,Yes\\n3849,Yes\\n3850,Yes\\n3851,Yes\\n3852,Yes\\n3853,No\\n3854,Yes\\n3855,No\\n3856,No\\n3857,Yes\\n3858,Yes\\n3859,Yes\\n3860,No\\n3861,Yes\\n3862,Yes\\n3863,No\\n3864,Yes\\n3865,No\\n3866,Yes\\n3867,Yes\\n3868,No\\n3869,No\\n3870,Yes\\n3871,Yes\\n3872,Yes\\n3873,No\\n3874,No\\n3875,No\\n3876,Yes\\n3877,Yes\\n3878,Yes\\n3879,Yes\\n3880,Yes\\n3881,Yes\\n3882,Yes\\n3883,No\\n3884,Yes\\n3885,No\\n3886,Yes\\n3887,Yes\\n3888,Yes\\n3889,Yes\\n3890,Yes\\n3891,Yes\\n3892,Yes\\n3893,Yes\\n3894,Yes\\n3895,Yes\\n3896,Yes\\n3897,No\\n3898,Yes\\n3899,Yes\\n3900,No\\n3901,Yes\\n3902,Yes\\n3903,Yes\\n3904,Yes\\n3905,No\\n3906,Yes\\n3907,Yes\\n3908,Yes\\n3909,No\\n3910,Yes\\n3911,Yes\\n3912,Yes\\n3913,Yes\\n3914,No\\n3915,No\\n3916,No\\n3917,No\\n3918,Yes\\n3919,Yes\\n3920,Yes\\n3921,Yes\\n3922,Yes\\n3923,Yes\\n3924,No\\n3925,Yes\\n3926,Yes\\n3927,Yes\\n3928,No\\n3929,Yes\\n3930,No\\n3931,Yes\\n3932,No\\n3933,Yes\\n3934,Yes\\n3935,No\\n3936,Yes\\n3937,Yes\\n3938,No\\n3939,Yes\\n3940,No\\n3941,Yes\\n3942,Yes\\n3943,Yes\\n3944,Yes\\n3945,Yes\\n3946,Yes\\n3947,No\\n3948,Yes\\n3949,Yes\\n3950,Yes\\n3951,Yes\\n3952,Yes\\n3953,Yes\\n3954,Yes\\n3955,Yes\\n3956,Yes\\n3957,No\\n3958,No\\n3959,Yes\\n3960,Yes\\n3961,Yes\\n3962,Yes\\n3963,Yes\\n3964,No\\n3965,Yes\\n3966,Yes\\n3967,No\\n3968,No\\n3969,Yes\\n3970,Yes\\n3971,Yes\\n3972,Yes\\n3973,Yes\\n3974,Yes\\n3975,Yes\\n3976,Yes\\n3977,No\\n3978,Yes\\n3979,Yes\\n3980,Yes\\n3981,Yes\\n3982,No\\n3983,Yes\\n3984,Yes\\n3985,Yes\\n3986,Yes\\n3987,Yes\\n3988,No\\n3989,Yes\\n3990,No\\n3991,Yes\\n3992,Yes\\n3993,Yes\\n3994,Yes\\n3995,Yes\\n3996,Yes\\n3997,Yes\\n3998,Yes\\n3999,Yes\\n4000,Yes\\n4001,Yes\\n4002,No\\n4003,No\\n4004,Yes\\n4005,Yes\\n4006,Yes\\n4007,Yes\\n4008,Yes\\n4009,Yes\\n4010,No\\n4011,Yes\\n4012,Yes\\n4013,No\\n4014,Yes\\n4015,Yes\\n4016,Yes\\n4017,Yes\\n4018,No\\n4019,Yes\\n4020,Yes\\n4021,Yes\\n4022,Yes\\n4023,Yes\\n4024,Yes\\n4025,No\\n4026,No\\n4027,Yes\\n4028,No\\n4029,Yes\\n4030,No\\n4031,Yes\\n4032,Yes\\n4033,Yes\\n4034,No\\n4035,Yes\\n4036,Yes\\n4037,Yes\\n4038,Yes\\n4039,Yes\\n4040,Yes\\n4041,Yes\\n4042,Yes\\n4043,Yes\\n4044,Yes\\n4045,No\\n4046,Yes\\n4047,Yes\\n4048,No\\n4049,Yes\\n4050,No\\n4051,Yes\\n4052,Yes\\n4053,Yes\\n4054,No\\n4055,Yes\\n4056,Yes\\n4057,Yes\\n4058,No\\n4059,Yes\\n4060,No\\n4061,Yes\\n4062,Yes\\n4063,Yes\\n4064,Yes\\n4065,Yes\\n4066,Yes\\n4067,Yes\\n4068,Yes\\n4069,No\\n4070,Yes\\n4071,Yes\\n4072,Yes\\n4073,No\\n4074,No\\n4075,Yes\\n4076,Yes\\n4077,No\\n4078,No\\n4079,No\\n4080,Yes\\n4081,Yes\\n4082,Yes\\n4083,Yes\\n4084,Yes\\n4085,Yes\\n4086,No\\n4087,Yes\\n4088,No\\n4089,Yes\\n4090,No\\n4091,Yes\\n4092,No\\n4093,Yes\\n4094,Yes\\n4095,No\\n4096,Yes\\n4097,Yes\\n4098,Yes\\n4099,Yes\\n4100,Yes\\n4101,Yes\\n4102,No\\n4103,No\\n4104,No\\n4105,Yes\\n4106,Yes\\n4107,Yes\\n4108,No\\n4109,Yes\\n4110,Yes\\n4111,No\\n4112,Yes\\n4113,Yes\\n4114,No\\n4115,No\\n4116,Yes\\n4117,Yes\\n4118,No\\n4119,Yes\\n4120,Yes\\n4121,No\\n4122,Yes\\n4123,No\\n4124,No\\n4125,No\\n4126,No\\n4127,Yes\\n4128,Yes\\n4129,Yes\\n4130,Yes\\n4131,No\\n4132,No\\n4133,Yes\\n4134,Yes\\n4135,No\\n4136,Yes\\n4137,Yes\\n4138,Yes\\n4139,Yes\\n4140,No\\n4141,Yes\\n4142,Yes\\n4143,No\\n4144,No\\n4145,Yes\\n4146,Yes\\n4147,No\\n4148,Yes\\n4149,Yes\\n4150,No\\n4151,Yes\\n4152,Yes\\n4153,Yes\\n4154,Yes\\n4155,No\\n4156,Yes\\n4157,Yes\\n4158,Yes\\n4159,Yes\\n4160,Yes\\n4161,Yes\\n4162,Yes\\n4163,Yes\\n4164,Yes\\n4165,No\\n4166,Yes\\n4167,Yes\\n4168,No\\n4169,Yes\\n4170,Yes\\n4171,Yes\\n4172,Yes\\n4173,Yes\\n4174,No\\n4175,Yes\\n4176,No\\n4177,Yes\\n4178,Yes\\n4179,Yes\\n4180,Yes\\n4181,Yes\\n4182,Yes\\n4183,Yes\\n4184,Yes\\n4185,No\\n4186,Yes\\n4187,Yes\\n4188,No\\n4189,Yes\\n4190,Yes\\n4191,No\\n4192,No\\n4193,No\\n4194,No\\n4195,No\\n4196,Yes\\n4197,Yes\\n4198,Yes\\n4199,Yes\\n4200,No\\n4201,Yes\\n4202,No\\n4203,Yes\\n4204,Yes\\n4205,Yes\\n4206,No\\n4207,Yes\\n4208,Yes\\n4209,Yes\\n4210,No\\n4211,Yes\\n4212,Yes\\n4213,Yes\\n4214,Yes\\n4215,Yes\\n4216,Yes\\n4217,Yes\\n4218,No\\n4219,Yes\\n4220,No\\n4221,Yes\\n4222,Yes\\n4223,No\\n4224,Yes\\n4225,No\\n4226,Yes\\n4227,Yes\\n4228,Yes\\n4229,Yes\\n4230,Yes\\n4231,No\\n4232,Yes\\n4233,Yes\\n4234,No\\n4235,Yes\\n4236,Yes\\n4237,Yes\\n4238,Yes\\n4239,Yes\\n4240,No\\n4241,Yes\\n4242,Yes\\n4243,Yes\\n4244,Yes\\n4245,No\\n4246,Yes\\n4247,Yes\\n4248,Yes\\n4249,Yes\\n4250,Yes\\n4251,No\\n4252,Yes\\n4253,Yes\\n4254,Yes\\n4255,Yes\\n4256,Yes\\n4257,Yes\\n4258,No\\n4259,Yes\\n4260,Yes\\n4261,Yes\\n4262,No\\n4263,Yes\\n4264,Yes\\n4265,Yes\\n4266,Yes\\n4267,No\\n4268,Yes\\n4269,Yes\\n4270,No\\n4271,Yes\\n4272,Yes\\n4273,Yes\\n4274,Yes\\n4275,Yes\\n4276,Yes\\n4277,Yes\\n4278,No\\n4279,Yes\\n4280,Yes\\n4281,Yes\\n4282,No\\n4283,Yes\\n4284,Yes\\n4285,Yes\\n4286,Yes\\n4287,No\\n4288,No\\n4289,Yes\\n4290,Yes\\n4291,Yes\\n4292,No\\n4293,Yes\\n4294,Yes\\n4295,Yes\\n4296,No\\n4297,Yes\\n4298,Yes\\n4299,Yes\\n4300,No\\n4301,Yes\\n4302,Yes\\n4303,Yes\\n4304,No\\n4305,No\\n4306,Yes\\n4307,Yes\\n4308,Yes\\n4309,Yes\\n4310,Yes\\n4311,Yes\\n4312,Yes\\n4313,Yes\\n4314,Yes\\n4315,No\\n4316,Yes\\n4317,Yes\\n4318,Yes\\n4319,Yes\\n4320,Yes\\n4321,Yes\\n4322,No\\n4323,Yes\\n4324,Yes\\n4325,Yes\\n4326,No\\n4327,Yes\\n4328,Yes\\n4329,Yes\\n4330,No\\n4331,Yes\\n4332,Yes\\n4333,Yes\\n4334,Yes\\n4335,Yes\\n4336,Yes\\n4337,Yes\\n4338,Yes\\n4339,No\\n4340,Yes\\n4341,No\\n4342,Yes\\n4343,Yes\\n4344,Yes\\n4345,Yes\\n4346,Yes\\n4347,No\\n4348,No\\n4349,No\\n4350,Yes\\n4351,No\\n4352,Yes\\n4353,No\\n4354,No\\n4355,Yes\\n4356,Yes\\n4357,Yes\\n4358,Yes\\n4359,Yes\\n4360,Yes\\n4361,Yes\\n4362,Yes\\n4363,Yes\\n4364,Yes\\n4365,No\\n4366,No\\n4367,No\\n4368,Yes\\n4369,No\\n4370,Yes\\n4371,Yes\\n4372,No\\n4373,Yes\\n4374,Yes\\n4375,Yes\\n4376,No\\n4377,Yes\\n4378,Yes\\n4379,Yes\\n4380,Yes\\n4381,Yes\\n4382,Yes\\n4383,No\\n4384,Yes\\n4385,Yes\\n4386,Yes\\n4387,Yes\\n4388,Yes\\n4389,Yes\\n4390,No\\n4391,No\\n4392,Yes\\n4393,Yes\\n4394,Yes\\n4395,Yes\\n4396,Yes\\n4397,Yes\\n4398,Yes\\n4399,Yes\\n4400,Yes\\n4401,Yes\\n4402,Yes\\n4403,No\\n4404,Yes\\n4405,No\\n4406,Yes\\n4407,Yes\\n4408,Yes\\n4409,Yes\\n4410,Yes\\n4411,Yes\\n4412,Yes\\n4413,Yes\\n4414,Yes\\n4415,Yes\\n4416,Yes\\n4417,Yes\\n4418,No\\n4419,No\\n4420,Yes\\n4421,Yes\\n4422,Yes\\n4423,Yes\\n4424,No\\n4425,No\\n4426,Yes\\n4427,Yes\\n4428,No\\n4429,Yes\\n4430,Yes\\n4431,Yes\\n4432,No\\n4433,No\\n4434,Yes\\n4435,No\\n4436,No\\n4437,Yes\\n4438,Yes\\n4439,No\\n4440,Yes\\n4441,Yes\\n4442,Yes\\n4443,No\\n4444,Yes\\n4445,No\\n4446,Yes\\n4447,Yes\\n4448,No\\n4449,No\\n4450,Yes\\n4451,Yes\\n4452,No\\n4453,No\\n4454,Yes\\n4455,Yes\\n4456,Yes\\n4457,Yes\\n4458,Yes\\n4459,Yes\\n4460,Yes\\n4461,No\\n4462,Yes\\n4463,Yes\\n4464,Yes\\n4465,Yes\\n4466,No\\n4467,Yes\\n4468,Yes\\n4469,Yes\\n4470,Yes\\n4471,Yes\\n4472,Yes\\n4473,Yes\\n4474,Yes\\n4475,No\\n4476,Yes\\n4477,No\\n4478,Yes\\n4479,No\\n4480,No\\n4481,Yes\\n4482,Yes\\n4483,No\\n4484,No\\n4485,No\\n4486,Yes\\n4487,Yes\\n4488,Yes\\n4489,Yes\\n4490,Yes\\n4491,Yes\\n4492,Yes\\n4493,Yes\\n4494,Yes\\n4495,No\\n4496,Yes\\n4497,Yes\\n4498,Yes\\n4499,No\\n4500,Yes\\n4501,Yes\\n4502,Yes\\n4503,Yes\\n4504,Yes\\n4505,Yes\\n4506,No\\n4507,Yes\\n4508,Yes\\n4509,No\\n4510,Yes\\n4511,Yes\\n4512,Yes\\n4513,Yes\\n4514,Yes\\n4515,No\\n4516,No\\n4517,No\\n4518,No\\n4519,Yes\\n4520,Yes\\n4521,Yes\\n4522,No\\n4523,Yes\\n4524,Yes\\n4525,Yes\\n4526,Yes\\n4527,No\\n4528,Yes\\n4529,Yes\\n4530,No\\n4531,Yes\\n4532,No\\n4533,Yes\\n4534,Yes\\n4535,Yes\\n4536,Yes\\n4537,Yes\\n4538,No\\n4539,Yes\\n4540,Yes\\n4541,No\\n4542,No\\n4543,Yes\\n4544,Yes\\n4545,Yes\\n4546,No\\n4547,Yes\\n4548,Yes\\n4549,No\\n4550,Yes\\n4551,Yes\\n4552,Yes\\n4553,Yes\\n4554,Yes\\n4555,Yes\\n4556,Yes\\n4557,No\\n4558,Yes\\n4559,Yes\\n4560,Yes\\n4561,No\\n4562,Yes\\n4563,No\\n4564,No\\n4565,Yes\\n4566,Yes\\n4567,Yes\\n4568,Yes\\n4569,Yes\\n4570,Yes\\n4571,Yes\\n4572,Yes\\n4573,Yes\\n4574,Yes\\n4575,Yes\\n4576,Yes\\n4577,Yes\\n4578,Yes\\n4579,No\\n4580,Yes\\n4581,Yes\\n4582,Yes\\n4583,Yes\\n4584,No\\n4585,Yes\\n4586,Yes\\n4587,Yes\\n4588,No\\n4589,No\\n4590,Yes\\n4591,Yes\\n4592,Yes\\n4593,Yes\\n4594,No\\n4595,No\\n4596,Yes\\n4597,Yes\\n4598,Yes\\n4599,Yes\\n4600,No\\n4601,Yes\\n4602,Yes\\n4603,Yes\\n4604,Yes\\n4605,Yes\\n4606,Yes\\n4607,No\\n4608,Yes\\n4609,Yes\\n4610,Yes\\n4611,Yes\\n4612,Yes\\n4613,Yes\\n4614,Yes\\n4615,Yes\\n4616,Yes\\n4617,Yes\\n4618,Yes\\n4619,Yes\\n4620,Yes\\n4621,Yes\\n4622,No\\n4623,Yes\\n4624,Yes\\n4625,No\\n4626,Yes\\n4627,No\\n4628,Yes\\n4629,No\\n4630,Yes\\n4631,No\\n4632,Yes\\n4633,No\\n4634,No\\n4635,Yes\\n4636,Yes\\n4637,No\\n4638,Yes\\n4639,Yes\\n4640,No\\n4641,Yes\\n4642,No\\n4643,Yes\\n4644,No\\n4645,Yes\\n4646,No\\n4647,No\\n4648,Yes\\n4649,Yes\\n4650,Yes\\n4651,Yes\\n4652,No\\n4653,Yes\\n4654,Yes\\n4655,Yes\\n4656,Yes\\n4657,No\\n4658,No\\n4659,Yes\\n4660,No\\n4661,Yes\\n4662,Yes\\n4663,Yes\\n4664,Yes\\n4665,No\\n4666,No\\n4667,Yes\\n4668,No\\n4669,Yes\\n4670,No\\n4671,Yes\\n4672,No\\n4673,No\\n4674,No\\n4675,Yes\\n4676,Yes\\n4677,Yes\\n4678,Yes\\n4679,Yes\\n4680,Yes\\n4681,No\\n4682,No\\n4683,Yes\\n4684,Yes\\n4685,Yes\\n4686,Yes\\n4687,Yes\\n4688,Yes\\n4689,Yes\\n4690,Yes\\n4691,No\\n4692,No\\n4693,Yes\\n4694,No\\n4695,Yes\\n4696,No\\n4697,No\\n4698,Yes\\n4699,Yes\\n4700,No\\n4701,No\\n4702,Yes\\n4703,Yes\\n4704,Yes\\n4705,No\\n4706,No\\n4707,Yes\\n4708,Yes\\n4709,Yes\\n4710,No\\n4711,No\\n4712,No\\n4713,Yes\\n4714,Yes\\n4715,Yes\\n4716,Yes\\n4717,Yes\\n4718,Yes\\n4719,Yes\\n4720,Yes\\n4721,Yes\\n4722,No\\n4723,No\\n4724,Yes\\n4725,Yes\\n4726,Yes\\n4727,No\\n4728,Yes\\n4729,No\\n4730,No\\n4731,No\\n4732,Yes\\n4733,Yes\\n4734,Yes\\n4735,Yes\\n4736,Yes\\n4737,No\\n4738,Yes\\n4739,Yes\\n4740,Yes\\n4741,Yes\\n4742,Yes\\n4743,Yes\\n4744,No\\n4745,Yes\\n4746,No\\n4747,Yes\\n4748,Yes\\n4749,Yes\\n4750,Yes\\n4751,Yes\\n4752,Yes\\n4753,Yes\\n4754,No\\n4755,Yes\\n4756,Yes\\n4757,No\\n4758,Yes\\n4759,No\\n4760,Yes\\n4761,Yes\\n4762,Yes\\n4763,Yes\\n4764,Yes\\n4765,Yes\\n4766,Yes\\n4767,No\\n4768,No\\n4769,No\\n4770,Yes\\n4771,No\\n4772,No\\n4773,No\\n4774,Yes\\n4775,No\\n4776,Yes\\n4777,Yes\\n4778,Yes\\n4779,No\\n4780,Yes\\n4781,Yes\\n4782,Yes\\n4783,No\\n4784,No\\n4785,Yes\\n4786,No\\n4787,Yes\\n4788,Yes\\n4789,Yes\\n4790,Yes\\n4791,Yes\\n4792,Yes\\n4793,Yes\\n4794,Yes\\n4795,No\\n4796,Yes\\n4797,Yes\\n4798,No\\n4799,Yes\\n4800,No\\n4801,Yes\\n4802,No\\n4803,Yes\\n4804,Yes\\n4805,Yes\\n4806,Yes\\n4807,No\\n4808,Yes\\n4809,Yes\\n4810,No\\n4811,Yes\\n4812,Yes\\n4813,Yes\\n4814,No\\n4815,Yes\\n4816,Yes\\n4817,Yes\\n4818,Yes\\n4819,Yes\\n4820,No\\n4821,No\\n4822,Yes\\n4823,Yes\\n4824,Yes\\n4825,No\\n4826,Yes\\n4827,Yes\\n4828,No\\n4829,Yes\\n4830,No\\n4831,Yes\\n4832,No\\n4833,Yes\\n4834,Yes\\n4835,Yes\\n4836,Yes\\n4837,No\\n4838,Yes\\n4839,Yes\\n4840,Yes\\n4841,Yes\\n4842,Yes\\n4843,No\\n4844,Yes\\n4845,No\\n4846,Yes\\n4847,Yes\\n4848,Yes\\n4849,Yes\\n4850,Yes\\n4851,Yes\\n4852,Yes\\n4853,Yes\\n4854,No\\n4855,No\\n4856,Yes\\n4857,Yes\\n4858,Yes\\n4859,No\\n4860,Yes\\n4861,Yes\\n4862,Yes\\n4863,Yes\\n4864,Yes\\n4865,Yes\\n4866,No\\n4867,Yes\\n4868,Yes\\n4869,Yes\\n4870,Yes\\n4871,No\\n4872,Yes\\n4873,Yes\\n4874,Yes\\n4875,Yes\\n4876,No\\n4877,No\\n4878,Yes\\n4879,No\\n4880,Yes\\n4881,Yes\\n4882,No\\n4883,Yes\\n4884,Yes\\n4885,Yes\\n4886,Yes\\n4887,No\\n4888,Yes\\n4889,No\\n4890,No\\n4891,No\\n4892,No\\n4893,Yes\\n4894,Yes\\n4895,No\\n4896,No\\n4897,Yes\\n4898,Yes\\n4899,Yes\\n4900,Yes\\n4901,Yes\\n4902,Yes\\n4903,No\\n4904,Yes\\n4905,Yes\\n4906,No\\n4907,Yes\\n4908,Yes\\n4909,Yes\\n4910,Yes\\n4911,Yes\\n4912,Yes\\n4913,Yes\\n4914,No\\n4915,Yes\\n4916,Yes\\n4917,Yes\\n4918,Yes\\n4919,No\\n4920,No\\n4921,Yes\\n4922,Yes\\n4923,Yes\\n4924,Yes\\n4925,Yes\\n4926,No\\n4927,Yes\\n4928,Yes\\n4929,Yes\\n4930,Yes\\n4931,Yes\\n4932,Yes\\n4933,Yes\\n4934,Yes\\n4935,No\\n4936,Yes\\n4937,Yes\\n4938,Yes\\n4939,No\\n4940,Yes\\n4941,Yes\\n4942,Yes\\n4943,Yes\\n4944,Yes\\n4945,Yes\\n4946,No\\n4947,Yes\\n4948,Yes\\n4949,Yes\\n4950,Yes\\n4951,Yes\\n4952,Yes\\n4953,Yes\\n4954,No\\n4955,No\\n4956,Yes\\n4957,Yes\\n4958,Yes\\n4959,Yes\\n4960,Yes\\n4961,Yes\\n4962,Yes\\n4963,No\\n4964,No\\n4965,Yes\\n4966,No\\n4967,No\\n4968,Yes\\n4969,Yes\\n4970,Yes\\n4971,No\\n4972,Yes\\n4973,Yes\\n4974,Yes\\n4975,No\\n4976,No\\n4977,Yes\\n4978,Yes\\n4979,Yes\\n4980,Yes\\n4981,Yes\\n4982,No\\n4983,Yes\\n4984,No\\n4985,Yes\\n4986,Yes\\n4987,Yes\\n4988,Yes\\n4989,Yes\\n4990,Yes\\n4991,No\\n4992,Yes\\n4993,Yes\\n4994,No\\n4995,Yes\\n4996,Yes\\n4997,Yes\\n4998,No\\n4999,No\\n5000,Yes\\n5001,No\\n5002,No\\n5003,Yes\\n5004,Yes\\n5005,Yes\\n5006,Yes\\n5007,Yes\\n5008,Yes\\n5009,Yes\\n5010,Yes\\n5011,No\\n5012,Yes\\n5013,Yes\\n5014,Yes\\n5015,No\\n5016,No\\n5017,Yes\\n5018,No\\n5019,No\\n5020,Yes\\n5021,No\\n5022,Yes\\n5023,Yes\\n5024,Yes\\n5025,Yes\\n5026,Yes\\n5027,Yes\\n5028,No\\n5029,Yes\\n5030,Yes\\n5031,Yes\\n5032,No\\n5033,No\\n5034,Yes\\n5035,Yes\\n5036,No\\n5037,Yes\\n5038,Yes\\n5039,Yes\\n5040,No\\n5041,Yes\\n5042,No\\n5043,No\\n5044,No\\n5045,Yes\\n5046,Yes\\n5047,Yes\\n5048,No\\n5049,No\\n5050,Yes\\n5051,No\\n5052,Yes\\n5053,Yes\\n5054,Yes\\n5055,Yes\\n5056,Yes\\n5057,Yes\\n5058,Yes\\n5059,Yes\\n5060,No\\n5061,Yes\\n5062,Yes\\n5063,Yes\\n5064,Yes\\n5065,Yes\\n5066,Yes\\n5067,Yes\\n5068,No\\n5069,No\\n5070,No\\n5071,Yes\\n5072,Yes\\n5073,Yes\\n5074,No\\n5075,Yes\\n5076,Yes\\n5077,Yes\\n5078,No\\n5079,Yes\\n5080,Yes\\n5081,No\\n5082,No\\n5083,Yes\\n5084,No\\n5085,Yes\\n5086,Yes\\n5087,Yes\\n5088,Yes\\n5089,Yes\\n5090,Yes\\n5091,Yes\\n5092,Yes\\n5093,Yes\\n5094,Yes\\n5095,No\\n5096,No\\n5097,Yes\\n5098,Yes\\n5099,Yes\\n5100,Yes\\n5101,Yes\\n5102,Yes\\n5103,Yes\\n5104,Yes\\n5105,Yes\\n5106,Yes\\n5107,Yes\\n5108,Yes\\n5109,Yes\\n5110,No\\n5111,No\\n5112,Yes\\n5113,Yes\\n5114,Yes\\n5115,Yes\\n5116,Yes\\n5117,Yes\\n5118,Yes\\n5119,Yes\\n5120,Yes\\n5121,No\\n5122,Yes\\n5123,No\\n5124,Yes\\n5125,Yes\\n5126,Yes\\n5127,No\\n5128,No\\n5129,No\\n5130,No\\n5131,Yes\\n5132,No\\n5133,No\\n5134,Yes\\n5135,Yes\\n5136,Yes\\n5137,Yes\\n5138,Yes\\n5139,Yes\\n5140,Yes\\n5141,Yes\\n5142,Yes\\n5143,Yes\\n5144,Yes\\n5145,Yes\\n5146,Yes\\n5147,Yes\\n5148,Yes\\n5149,Yes\\n5150,Yes\\n5151,Yes\\n5152,Yes\\n5153,Yes\\n5154,No\\n5155,Yes\\n5156,No\\n5157,Yes\\n5158,Yes\\n5159,Yes\\n5160,Yes\\n5161,Yes\\n5162,Yes\\n5163,No\\n5164,Yes\\n5165,No\\n5166,No\\n5167,Yes\\n5168,No\\n5169,Yes\\n5170,Yes\\n5171,Yes\\n5172,No\\n5173,No\\n5174,No\\n5175,Yes\\n5176,Yes\\n5177,Yes\\n5178,Yes\\n5179,Yes\\n5180,Yes\\n5181,No\\n5182,Yes\\n5183,Yes\\n5184,No\\n5185,No\\n5186,No\\n5187,Yes\\n5188,Yes\\n5189,Yes\\n5190,Yes\\n5191,Yes\\n5192,Yes\\n5193,No\\n5194,Yes\\n5195,No\\n5196,Yes\\n5197,Yes\\n5198,Yes\\n5199,Yes\\n5200,Yes\\n5201,Yes\\n5202,No\\n5203,Yes\\n5204,Yes\\n5205,Yes\\n5206,Yes\\n5207,Yes\\n5208,No\\n5209,Yes\\n5210,Yes\\n5211,Yes\\n5212,Yes\\n5213,Yes\\n5214,Yes\\n5215,Yes\\n5216,Yes\\n5217,Yes\\n5218,No\\n5219,Yes\\n5220,No\\n5221,Yes\\n5222,Yes\\n5223,Yes\\n5224,No\\n5225,Yes\\n5226,Yes\\n5227,No\\n5228,Yes\\n5229,Yes\\n5230,Yes\\n5231,No\\n5232,No\\n5233,Yes\\n5234,Yes\\n5235,Yes\\n5236,No\\n5237,Yes\\n5238,Yes\\n5239,Yes\\n5240,Yes\\n5241,No\\n5242,Yes\\n5243,Yes\\n5244,Yes\\n5245,No\\n5246,No\\n5247,Yes\\n5248,Yes\\n5249,Yes\\n5250,No\\n5251,Yes\\n5252,No\\n5253,No\\n5254,Yes\\n5255,Yes\\n5256,Yes\\n5257,Yes\\n5258,Yes\\n5259,No\\n5260,Yes\\n5261,Yes\\n5262,Yes\\n5263,Yes\\n5264,Yes\\n5265,No\\n5266,No\\n5267,Yes\\n5268,No\\n5269,No\\n5270,Yes\\n5271,Yes\\n5272,Yes\\n5273,No\\n5274,Yes\\n5275,No\\n5276,Yes\\n5277,Yes\\n5278,No\\n5279,No\\n5280,No\\n5281,Yes\\n5282,Yes\\n5283,Yes\\n5284,Yes\\n5285,Yes\\n5286,Yes\\n5287,Yes\\n5288,Yes\\n5289,No\\n5290,Yes\\n5291,No\\n5292,No\\n5293,No\\n5294,Yes\\n5295,Yes\\n5296,Yes\\n5297,Yes\\n5298,Yes\\n5299,Yes\\n5300,Yes\\n5301,Yes\\n5302,No\\n5303,No\\n5304,Yes\\n'"
            ],
            "application/vnd.google.colaboratory.intrinsic+json": {
              "type": "string"
            }
          },
          "metadata": {},
          "execution_count": 206
        }
      ]
    }
  ]
}